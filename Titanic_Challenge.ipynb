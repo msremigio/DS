{
  "nbformat": 4,
  "nbformat_minor": 0,
  "metadata": {
    "colab": {
      "name": "Titanic Challenge.ipynb",
      "provenance": [],
      "collapsed_sections": [],
      "authorship_tag": "ABX9TyP9pGKXQKKow6Hn6wu8oDH/",
      "include_colab_link": true
    },
    "kernelspec": {
      "name": "python3",
      "display_name": "Python 3"
    }
  },
  "cells": [
    {
      "cell_type": "markdown",
      "metadata": {
        "id": "view-in-github",
        "colab_type": "text"
      },
      "source": [
        "<a href=\"https://colab.research.google.com/github/msremigio/projects_DataScience/blob/master/Titanic_Challenge.ipynb\" target=\"_parent\"><img src=\"https://colab.research.google.com/assets/colab-badge.svg\" alt=\"Open In Colab\"/></a>"
      ]
    },
    {
      "cell_type": "markdown",
      "metadata": {
        "id": "DFpN-uX85eXe",
        "colab_type": "text"
      },
      "source": [
        "# **Titanic: Machine Learning from Disaster**\n",
        ">> Data Science challenge from Kaggle\n",
        "\n",
        "---\n",
        "Due to its known popularity and simple approach, the Titanic challenge created by [Kaggle](https://www.kaggle.com/) became an excellent introdutory practical activity to people interested to emerge in the Data Science (DS) universe.\n",
        "\n",
        "The way this challenge was developed helps a beginner in this field to have an overall understanding of what DS is about. It was not different for me back then, as a Data Science novice I used this challenge to exercise everything I had learned up to that point, and it was very helpful to start developing skills exploring real Data Bases (DB) and the \"must know\" tools used to manipulate data, visualize data information and \"teach\" the machine with an appropriate machine learning (ML) model.\n",
        "\n",
        "Almost everyone is familiarized with the Titanic history, the most modern ship of that time, consired by many as an \"unsinkable\" ship, sank on April 15, 1912, during her maiden voyage **resulting in the death of 1502 out of 2224  passengers and crew.**\n",
        "\n",
        "![](https://github.com/carlosfab/data_science/raw/12a0756780e50508d6142f8b32576e2812369415/img/titanic.jpeg)\n",
        "\n",
        "This massive number of deaths were caused primarily because there weren't enought lifeboats for everyone on board. However, despite the element of luck involved in surviving, some groups of people seemed to have a greater chance to survive than others, indicating that the **real data** at hand can show us some hidden information on which groups of people are those that had a \"greater luck\" of surviving.\n",
        "\n",
        "> **To summarize, the challenge goal is to build a predictive model, using the available data, that answers the question: “what sorts of people were more likely to survive?”**\n",
        "\n"
      ]
    },
    {
      "cell_type": "markdown",
      "metadata": {
        "id": "sA_4D1glgtJ-",
        "colab_type": "text"
      },
      "source": [
        "# Development Sequence\n",
        "\n",
        "1.   Understanding the Problem\n",
        "2.   Importing the Data\n",
        "3.   Data Exploration\n",
        "4.   Pre-processing the Data\n",
        "5.   Machine Learning Model Creation\n",
        "6.   Results and Performance Analysis  \n",
        "\n"
      ]
    },
    {
      "cell_type": "markdown",
      "metadata": {
        "id": "q-XuXrBuiO1t",
        "colab_type": "text"
      },
      "source": [
        "# 1. Understanding the Problem\n",
        "\n",
        "Costing US$ 7.5 million at the time, Titanic took about 2 years to be completely build (1909 - 1911) being the largest ship afloat at the time she entered service capable of carrying up to 2435 passengers with 892 people crew.\n",
        "\n",
        "Her maiden voyage took place on April 10,1912, leaving from Southampton (UK) to New York (US). Four days after leaving Southampton the Titanic collapsed with an iceberg and sank, causing the death of 1502 from 2224 people aboard.\n",
        "\n",
        "The complete description of the challenge together with the instructions and passengers data are available on Kaggle website ([Titanic: Machine Learning from Disaster](https://www.kaggle.com/c/titanic/overview)).\n",
        "\n",
        "The root causes of this tragedy were both provoked by natural nonconformities (climate reasons) and human mistake due to negligence and overconfidence (since there was sufficient lifeboats for 1178 people).\n",
        "\n",
        "Although it is known that luck had a great impact on the surviving chances it is also known that women, children and first class passengers had a greater chance of surviving, giving some hint on what information and patterns could be extracted from the raw data.\n",
        "\n",
        "# Challenge Goals\n",
        "\n",
        "**Analyse the dataset** that was given and identify **which variables has the greater correlation with the chances of surviving** (which sets of people were \"luckier\").\n",
        "\n",
        "Whith the data at hand, it is desired that you're able to build a machine learning model capable of predicting if a passenger given as input would be a survivor in this incident.\n",
        "\n",
        "# Measuring the Model Performance\n",
        "\n",
        "The performance or **score** will be calculated based only upon the number of correct predictions made by your model. In other words, only the model **accuracy** is measured.\n"
      ]
    },
    {
      "cell_type": "markdown",
      "metadata": {
        "id": "CmsJXvwKmpir",
        "colab_type": "text"
      },
      "source": [
        "# 2. Importing the Data\n",
        "\n",
        "The data available on Kaggle [website](https://www.kaggle.com/c/titanic/data) were previously divided in two groups:\n",
        "\n",
        "*   Train Dataset\n",
        "  * The training set should be used to build the desired machine learning models. For this dataset it's provided if each passenger survived or not. \n",
        "  * Based on **features** like passengers gender, class, age and many others.\n",
        "*   Test Dataset\n",
        "  * The test set should be used to see how well your model performs on unseen data. Information on wheather or not the passenger died is not provided in this dataset.\n",
        "  * For each passenger in the test set, use the model you trained to predict whether or not they survived the sinking of the Titanic.\n",
        "\n",
        "It is also included a file named **gender_submission.csv**, as an example of what a submission file should look like before uploading it to Kaggle's platform.\n",
        "\n",
        "If you desire to replicate this project and be part of this competition, you need to create an account on Kaggle first. In that way you're going to have access to the same dataset I'm using during this project.\n",
        "\n",
        "First of all, let's start importing all the necessary python libraries and creating the **train** and **test** DataFrames (DF) by reading the train and test datasets.\n",
        "\n",
        "\n"
      ]
    },
    {
      "cell_type": "code",
      "metadata": {
        "id": "-GIxWvhjUnlN",
        "colab_type": "code",
        "colab": {}
      },
      "source": [
        "# Importing the necessary libraries\n",
        "import pandas as pd\n",
        "import numpy as np\n",
        "import matplotlib.pyplot as plt\n",
        "import seaborn as sns\n",
        "\n",
        "# Allow to visualize all columns\n",
        "pd.options.display.max_columns = None\n",
        "\n",
        "# Render graphics directly on notebook\n",
        "#%matplotlib inline\n"
      ],
      "execution_count": 0,
      "outputs": []
    },
    {
      "cell_type": "code",
      "metadata": {
        "id": "V8ue-xCYU1aF",
        "colab_type": "code",
        "colab": {}
      },
      "source": [
        "train_df = pd.read_csv('https://raw.githubusercontent.com/carlosfab/data_science/master/data/train.csv')\n",
        "test_df = pd.read_csv('https://raw.githubusercontent.com/carlosfab/data_science/master/data/test.csv')"
      ],
      "execution_count": 0,
      "outputs": []
    },
    {
      "cell_type": "markdown",
      "metadata": {
        "id": "q3vcGPSCVG_5",
        "colab_type": "text"
      },
      "source": [
        "* **How many variables (columns) and how many entries (rows) there are in my train and test DataFrames?**\n",
        "\n",
        "\n"
      ]
    },
    {
      "cell_type": "code",
      "metadata": {
        "id": "GjrJVGtkaHD2",
        "colab_type": "code",
        "outputId": "76519df1-fdaf-4de6-d5a5-b9946f149295",
        "colab": {
          "base_uri": "https://localhost:8080/",
          "height": 118
        }
      },
      "source": [
        "# Verifying the shape of the train DataFrame\n",
        "print('{:-^40}\\nVariables:\\t{}\\nEntries:\\t{}'.format(' Train DataFrame: ', train_df.shape[1], train_df.shape[0]))\n",
        "\n",
        "# Verifying the shape of the test DataFrame\n",
        "print('{:-^40}\\nVariables:\\t{}\\nEntries:\\t{}'.format(' Test DataFrame ', test_df.shape[1], test_df.shape[0]))"
      ],
      "execution_count": 5,
      "outputs": [
        {
          "output_type": "stream",
          "text": [
            "----------- Train DataFrame: -----------\n",
            "Variables:\t12\n",
            "Entries:\t891\n",
            "------------ Test DataFrame ------------\n",
            "Variables:\t11\n",
            "Entries:\t418\n"
          ],
          "name": "stdout"
        }
      ]
    },
    {
      "cell_type": "markdown",
      "metadata": {
        "id": "lHRQAx7KawVY",
        "colab_type": "text"
      },
      "source": [
        "# 3. Data Exploration\n",
        "\n",
        "In an initial analysis it's really important to verify each variable separetely, paying attention to its name,type, searching for missing values, ouliers and its statistical characteristics.\n",
        "\n",
        "I strongly suggest that you start by looking the name and type of each variable in the dataset, learning what each variable represents, as follows ([See each variable explained on Kaggle website](https://www.kaggle.com/c/titanic/data)):\n",
        "\n",
        "# Data Dictionary\n",
        "\n",
        "* **PassengerID:** Identification number for each passenger \n",
        "* **Survived:** Indicates wheather or not a passenger survived to the disaster\n",
        "  * 0 = Not survived\n",
        "  * 1 = Survived\n",
        "* **Pclass:** The ticket class. An indicative of the socio-economic status of the passenger\n",
        "  * 1 = 1st Class (Upper floors in the ship)\n",
        "  * 2 = 2nd Class (Middle floors in the ship)\n",
        "  * 3 = 3rd Class (Lower floors in the ship)\n",
        "* **Name:** Name of the passenger\n",
        "* **Sex:** Sex of the passenger\n",
        "* **Age:** Age of the passenger in years\n",
        "  * Age is fractional if less than 1. If the age is estimated, is it in the form of xx.5\n",
        "* **SibSp:** Number of siblings / spouses aboard\n",
        "  * Sibling = brother, sister, stepbrother, stepsister\n",
        "  * Spouse = husband, wife (mistresses and fiancés were ignored)\n",
        "* **Parch:** Number of parents / children aboard\n",
        "  * Parent = mother, father\n",
        "  * Child = daughter, son, stepdaughter, stepson\n",
        "  * Some children travelled only with a nanny, therefore parch=0 for them.\n",
        "* **Ticket:** Ticket number\n",
        "* **Fare:** Passenger fare value\n",
        "* **Cabin:** Cabin number\n",
        "* **Embarked:** Port of embarkation\n",
        "  * C = Cherbourg\n",
        "  * Q = Queenstown\n",
        "  * S = Southampton\n",
        "\n",
        "Given each variable meaning, we can observe some of their values in the DataFrame to identify each variable type afterwards:\n",
        "\n",
        "\n"
      ]
    },
    {
      "cell_type": "code",
      "metadata": {
        "id": "i-wDbMQfocbr",
        "colab_type": "code",
        "outputId": "24a3733a-d752-4f8a-d01d-b228a85952cb",
        "colab": {
          "base_uri": "https://localhost:8080/",
          "height": 484
        }
      },
      "source": [
        "# Displaying the first 5 entries of the train DF\n",
        "display(train_df.head(5))\n",
        "#display(train_df.tail(5))"
      ],
      "execution_count": 6,
      "outputs": [
        {
          "output_type": "display_data",
          "data": {
            "text/html": [
              "<div>\n",
              "<style scoped>\n",
              "    .dataframe tbody tr th:only-of-type {\n",
              "        vertical-align: middle;\n",
              "    }\n",
              "\n",
              "    .dataframe tbody tr th {\n",
              "        vertical-align: top;\n",
              "    }\n",
              "\n",
              "    .dataframe thead th {\n",
              "        text-align: right;\n",
              "    }\n",
              "</style>\n",
              "<table border=\"1\" class=\"dataframe\">\n",
              "  <thead>\n",
              "    <tr style=\"text-align: right;\">\n",
              "      <th></th>\n",
              "      <th>PassengerId</th>\n",
              "      <th>Survived</th>\n",
              "      <th>Pclass</th>\n",
              "      <th>Name</th>\n",
              "      <th>Sex</th>\n",
              "      <th>Age</th>\n",
              "      <th>SibSp</th>\n",
              "      <th>Parch</th>\n",
              "      <th>Ticket</th>\n",
              "      <th>Fare</th>\n",
              "      <th>Cabin</th>\n",
              "      <th>Embarked</th>\n",
              "    </tr>\n",
              "  </thead>\n",
              "  <tbody>\n",
              "    <tr>\n",
              "      <th>0</th>\n",
              "      <td>1</td>\n",
              "      <td>0</td>\n",
              "      <td>3</td>\n",
              "      <td>Braund, Mr. Owen Harris</td>\n",
              "      <td>male</td>\n",
              "      <td>22.0</td>\n",
              "      <td>1</td>\n",
              "      <td>0</td>\n",
              "      <td>A/5 21171</td>\n",
              "      <td>7.2500</td>\n",
              "      <td>NaN</td>\n",
              "      <td>S</td>\n",
              "    </tr>\n",
              "    <tr>\n",
              "      <th>1</th>\n",
              "      <td>2</td>\n",
              "      <td>1</td>\n",
              "      <td>1</td>\n",
              "      <td>Cumings, Mrs. John Bradley (Florence Briggs Th...</td>\n",
              "      <td>female</td>\n",
              "      <td>38.0</td>\n",
              "      <td>1</td>\n",
              "      <td>0</td>\n",
              "      <td>PC 17599</td>\n",
              "      <td>71.2833</td>\n",
              "      <td>C85</td>\n",
              "      <td>C</td>\n",
              "    </tr>\n",
              "    <tr>\n",
              "      <th>2</th>\n",
              "      <td>3</td>\n",
              "      <td>1</td>\n",
              "      <td>3</td>\n",
              "      <td>Heikkinen, Miss. Laina</td>\n",
              "      <td>female</td>\n",
              "      <td>26.0</td>\n",
              "      <td>0</td>\n",
              "      <td>0</td>\n",
              "      <td>STON/O2. 3101282</td>\n",
              "      <td>7.9250</td>\n",
              "      <td>NaN</td>\n",
              "      <td>S</td>\n",
              "    </tr>\n",
              "    <tr>\n",
              "      <th>3</th>\n",
              "      <td>4</td>\n",
              "      <td>1</td>\n",
              "      <td>1</td>\n",
              "      <td>Futrelle, Mrs. Jacques Heath (Lily May Peel)</td>\n",
              "      <td>female</td>\n",
              "      <td>35.0</td>\n",
              "      <td>1</td>\n",
              "      <td>0</td>\n",
              "      <td>113803</td>\n",
              "      <td>53.1000</td>\n",
              "      <td>C123</td>\n",
              "      <td>S</td>\n",
              "    </tr>\n",
              "    <tr>\n",
              "      <th>4</th>\n",
              "      <td>5</td>\n",
              "      <td>0</td>\n",
              "      <td>3</td>\n",
              "      <td>Allen, Mr. William Henry</td>\n",
              "      <td>male</td>\n",
              "      <td>35.0</td>\n",
              "      <td>0</td>\n",
              "      <td>0</td>\n",
              "      <td>373450</td>\n",
              "      <td>8.0500</td>\n",
              "      <td>NaN</td>\n",
              "      <td>S</td>\n",
              "    </tr>\n",
              "  </tbody>\n",
              "</table>\n",
              "</div>"
            ],
            "text/plain": [
              "   PassengerId  Survived  Pclass  \\\n",
              "0            1         0       3   \n",
              "1            2         1       1   \n",
              "2            3         1       3   \n",
              "3            4         1       1   \n",
              "4            5         0       3   \n",
              "\n",
              "                                                Name     Sex   Age  SibSp  \\\n",
              "0                            Braund, Mr. Owen Harris    male  22.0      1   \n",
              "1  Cumings, Mrs. John Bradley (Florence Briggs Th...  female  38.0      1   \n",
              "2                             Heikkinen, Miss. Laina  female  26.0      0   \n",
              "3       Futrelle, Mrs. Jacques Heath (Lily May Peel)  female  35.0      1   \n",
              "4                           Allen, Mr. William Henry    male  35.0      0   \n",
              "\n",
              "   Parch            Ticket     Fare Cabin Embarked  \n",
              "0      0         A/5 21171   7.2500   NaN        S  \n",
              "1      0          PC 17599  71.2833   C85        C  \n",
              "2      0  STON/O2. 3101282   7.9250   NaN        S  \n",
              "3      0            113803  53.1000  C123        S  \n",
              "4      0            373450   8.0500   NaN        S  "
            ]
          },
          "metadata": {
            "tags": []
          }
        }
      ]
    },
    {
      "cell_type": "markdown",
      "metadata": {
        "id": "RUKvFmIOgjOh",
        "colab_type": "text"
      },
      "source": [
        "* **What are the types of each variable?**\n",
        "\n",
        "  * Numerical\n",
        "    * Discrete\n",
        "      * PassengerID (primary key)\n",
        "      * Survived (target variable)\n",
        "      * Pclass\n",
        "      * SibSp\n",
        "      * Parch\n",
        "    * Continuous\n",
        "      * Age\n",
        "      * Fare\n",
        "  * Categorical\n",
        "    * Nominal\n",
        "      * Name\n",
        "      * Sex\n",
        "      * Ticket\n",
        "      * Cabin\n",
        "      * Embarked\n",
        "\n",
        "To verify we are correct in our data types classification we can use the following **pandas library** method:"
      ]
    },
    {
      "cell_type": "code",
      "metadata": {
        "id": "Dy2AIdHOgIYK",
        "colab_type": "code",
        "outputId": "64e2c3e7-5ab9-4e5e-e5ef-b416156c56b7",
        "colab": {
          "base_uri": "https://localhost:8080/",
          "height": 252
        }
      },
      "source": [
        "# Name and type of each variable in the train DataFrame\n",
        "print(f'{\" Variables in the DataFrame \":-^40}')\n",
        "display(train_df.dtypes)"
      ],
      "execution_count": 7,
      "outputs": [
        {
          "output_type": "stream",
          "text": [
            "------ Variables in the DataFrame ------\n"
          ],
          "name": "stdout"
        },
        {
          "output_type": "display_data",
          "data": {
            "text/plain": [
              "PassengerId      int64\n",
              "Survived         int64\n",
              "Pclass           int64\n",
              "Name            object\n",
              "Sex             object\n",
              "Age            float64\n",
              "SibSp            int64\n",
              "Parch            int64\n",
              "Ticket          object\n",
              "Fare           float64\n",
              "Cabin           object\n",
              "Embarked        object\n",
              "dtype: object"
            ]
          },
          "metadata": {
            "tags": []
          }
        }
      ]
    },
    {
      "cell_type": "markdown",
      "metadata": {
        "id": "IIjbrNH6veWf",
        "colab_type": "text"
      },
      "source": [
        "Following with the data exploration, it is possible to see a summary of the main statistical features of the train DataFrame.\n",
        "\n",
        "**Passing the argument include = ['O'] to the describe method is a way of obtaining some statistical information about the non-numerical variables**"
      ]
    },
    {
      "cell_type": "code",
      "metadata": {
        "id": "hN4_R_XVhfLI",
        "colab_type": "code",
        "outputId": "bb2b13db-c50c-4c7f-b59d-89fbdb91aa98",
        "colab": {
          "base_uri": "https://localhost:8080/",
          "height": 537
        }
      },
      "source": [
        "# Statistical summary of the numerical variables\n",
        "print(f'{\" Numerical Variables Statistics \":-^100}\\n')\n",
        "display(train_df.describe())\n",
        "\n",
        "# Statistical summary of the categorical variables\n",
        "print(f'\\n{\" Categorical Variables Statistics \":-^100}\\n')\n",
        "display(train_df.describe(include = ['O']))"
      ],
      "execution_count": 8,
      "outputs": [
        {
          "output_type": "stream",
          "text": [
            "---------------------------------- Numerical Variables Statistics ----------------------------------\n",
            "\n"
          ],
          "name": "stdout"
        },
        {
          "output_type": "display_data",
          "data": {
            "text/html": [
              "<div>\n",
              "<style scoped>\n",
              "    .dataframe tbody tr th:only-of-type {\n",
              "        vertical-align: middle;\n",
              "    }\n",
              "\n",
              "    .dataframe tbody tr th {\n",
              "        vertical-align: top;\n",
              "    }\n",
              "\n",
              "    .dataframe thead th {\n",
              "        text-align: right;\n",
              "    }\n",
              "</style>\n",
              "<table border=\"1\" class=\"dataframe\">\n",
              "  <thead>\n",
              "    <tr style=\"text-align: right;\">\n",
              "      <th></th>\n",
              "      <th>PassengerId</th>\n",
              "      <th>Survived</th>\n",
              "      <th>Pclass</th>\n",
              "      <th>Age</th>\n",
              "      <th>SibSp</th>\n",
              "      <th>Parch</th>\n",
              "      <th>Fare</th>\n",
              "    </tr>\n",
              "  </thead>\n",
              "  <tbody>\n",
              "    <tr>\n",
              "      <th>count</th>\n",
              "      <td>891.000000</td>\n",
              "      <td>891.000000</td>\n",
              "      <td>891.000000</td>\n",
              "      <td>714.000000</td>\n",
              "      <td>891.000000</td>\n",
              "      <td>891.000000</td>\n",
              "      <td>891.000000</td>\n",
              "    </tr>\n",
              "    <tr>\n",
              "      <th>mean</th>\n",
              "      <td>446.000000</td>\n",
              "      <td>0.383838</td>\n",
              "      <td>2.308642</td>\n",
              "      <td>29.699118</td>\n",
              "      <td>0.523008</td>\n",
              "      <td>0.381594</td>\n",
              "      <td>32.204208</td>\n",
              "    </tr>\n",
              "    <tr>\n",
              "      <th>std</th>\n",
              "      <td>257.353842</td>\n",
              "      <td>0.486592</td>\n",
              "      <td>0.836071</td>\n",
              "      <td>14.526497</td>\n",
              "      <td>1.102743</td>\n",
              "      <td>0.806057</td>\n",
              "      <td>49.693429</td>\n",
              "    </tr>\n",
              "    <tr>\n",
              "      <th>min</th>\n",
              "      <td>1.000000</td>\n",
              "      <td>0.000000</td>\n",
              "      <td>1.000000</td>\n",
              "      <td>0.420000</td>\n",
              "      <td>0.000000</td>\n",
              "      <td>0.000000</td>\n",
              "      <td>0.000000</td>\n",
              "    </tr>\n",
              "    <tr>\n",
              "      <th>25%</th>\n",
              "      <td>223.500000</td>\n",
              "      <td>0.000000</td>\n",
              "      <td>2.000000</td>\n",
              "      <td>20.125000</td>\n",
              "      <td>0.000000</td>\n",
              "      <td>0.000000</td>\n",
              "      <td>7.910400</td>\n",
              "    </tr>\n",
              "    <tr>\n",
              "      <th>50%</th>\n",
              "      <td>446.000000</td>\n",
              "      <td>0.000000</td>\n",
              "      <td>3.000000</td>\n",
              "      <td>28.000000</td>\n",
              "      <td>0.000000</td>\n",
              "      <td>0.000000</td>\n",
              "      <td>14.454200</td>\n",
              "    </tr>\n",
              "    <tr>\n",
              "      <th>75%</th>\n",
              "      <td>668.500000</td>\n",
              "      <td>1.000000</td>\n",
              "      <td>3.000000</td>\n",
              "      <td>38.000000</td>\n",
              "      <td>1.000000</td>\n",
              "      <td>0.000000</td>\n",
              "      <td>31.000000</td>\n",
              "    </tr>\n",
              "    <tr>\n",
              "      <th>max</th>\n",
              "      <td>891.000000</td>\n",
              "      <td>1.000000</td>\n",
              "      <td>3.000000</td>\n",
              "      <td>80.000000</td>\n",
              "      <td>8.000000</td>\n",
              "      <td>6.000000</td>\n",
              "      <td>512.329200</td>\n",
              "    </tr>\n",
              "  </tbody>\n",
              "</table>\n",
              "</div>"
            ],
            "text/plain": [
              "       PassengerId    Survived      Pclass         Age       SibSp  \\\n",
              "count   891.000000  891.000000  891.000000  714.000000  891.000000   \n",
              "mean    446.000000    0.383838    2.308642   29.699118    0.523008   \n",
              "std     257.353842    0.486592    0.836071   14.526497    1.102743   \n",
              "min       1.000000    0.000000    1.000000    0.420000    0.000000   \n",
              "25%     223.500000    0.000000    2.000000   20.125000    0.000000   \n",
              "50%     446.000000    0.000000    3.000000   28.000000    0.000000   \n",
              "75%     668.500000    1.000000    3.000000   38.000000    1.000000   \n",
              "max     891.000000    1.000000    3.000000   80.000000    8.000000   \n",
              "\n",
              "            Parch        Fare  \n",
              "count  891.000000  891.000000  \n",
              "mean     0.381594   32.204208  \n",
              "std      0.806057   49.693429  \n",
              "min      0.000000    0.000000  \n",
              "25%      0.000000    7.910400  \n",
              "50%      0.000000   14.454200  \n",
              "75%      0.000000   31.000000  \n",
              "max      6.000000  512.329200  "
            ]
          },
          "metadata": {
            "tags": []
          }
        },
        {
          "output_type": "stream",
          "text": [
            "\n",
            "--------------------------------- Categorical Variables Statistics ---------------------------------\n",
            "\n"
          ],
          "name": "stdout"
        },
        {
          "output_type": "display_data",
          "data": {
            "text/html": [
              "<div>\n",
              "<style scoped>\n",
              "    .dataframe tbody tr th:only-of-type {\n",
              "        vertical-align: middle;\n",
              "    }\n",
              "\n",
              "    .dataframe tbody tr th {\n",
              "        vertical-align: top;\n",
              "    }\n",
              "\n",
              "    .dataframe thead th {\n",
              "        text-align: right;\n",
              "    }\n",
              "</style>\n",
              "<table border=\"1\" class=\"dataframe\">\n",
              "  <thead>\n",
              "    <tr style=\"text-align: right;\">\n",
              "      <th></th>\n",
              "      <th>Name</th>\n",
              "      <th>Sex</th>\n",
              "      <th>Ticket</th>\n",
              "      <th>Cabin</th>\n",
              "      <th>Embarked</th>\n",
              "    </tr>\n",
              "  </thead>\n",
              "  <tbody>\n",
              "    <tr>\n",
              "      <th>count</th>\n",
              "      <td>891</td>\n",
              "      <td>891</td>\n",
              "      <td>891</td>\n",
              "      <td>204</td>\n",
              "      <td>889</td>\n",
              "    </tr>\n",
              "    <tr>\n",
              "      <th>unique</th>\n",
              "      <td>891</td>\n",
              "      <td>2</td>\n",
              "      <td>681</td>\n",
              "      <td>147</td>\n",
              "      <td>3</td>\n",
              "    </tr>\n",
              "    <tr>\n",
              "      <th>top</th>\n",
              "      <td>Heikkinen, Miss. Laina</td>\n",
              "      <td>male</td>\n",
              "      <td>1601</td>\n",
              "      <td>C23 C25 C27</td>\n",
              "      <td>S</td>\n",
              "    </tr>\n",
              "    <tr>\n",
              "      <th>freq</th>\n",
              "      <td>1</td>\n",
              "      <td>577</td>\n",
              "      <td>7</td>\n",
              "      <td>4</td>\n",
              "      <td>644</td>\n",
              "    </tr>\n",
              "  </tbody>\n",
              "</table>\n",
              "</div>"
            ],
            "text/plain": [
              "                          Name   Sex Ticket        Cabin Embarked\n",
              "count                      891   891    891          204      889\n",
              "unique                     891     2    681          147        3\n",
              "top     Heikkinen, Miss. Laina  male   1601  C23 C25 C27        S\n",
              "freq                         1   577      7            4      644"
            ]
          },
          "metadata": {
            "tags": []
          }
        }
      ]
    },
    {
      "cell_type": "markdown",
      "metadata": {
        "id": "X3U_1rsGjL44",
        "colab_type": "text"
      },
      "source": [
        "Just by observing these previous outputs,it is possible to take some insights on the number of missing values for each variable and even look for outliers if they are present in the dataset.\n",
        "\n",
        "For example, given that there are 891 entries in the train dataset, the **count** feature shows that the **Cabin** variable is the one with the greatest number of missing values, followed by the **Age** and lastly the **Embarked** variable.\n",
        "\n",
        "To validate this investigation we can check the percentage of missing values for each variable as shown below:"
      ]
    },
    {
      "cell_type": "code",
      "metadata": {
        "id": "ciXP2AGPnm6H",
        "colab_type": "code",
        "outputId": "c85490e2-e764-4279-ce67-974246263d00",
        "colab": {
          "base_uri": "https://localhost:8080/",
          "height": 252
        }
      },
      "source": [
        "# Check the percentage of missing values for each variable\n",
        "print(f'{\" Percentage of missing values \":-^50}')\n",
        "((train_df.isnull().sum() / train_df.shape[0]).sort_values(ascending = False)) * 100"
      ],
      "execution_count": 9,
      "outputs": [
        {
          "output_type": "stream",
          "text": [
            "---------- Percentage of missing values ----------\n"
          ],
          "name": "stdout"
        },
        {
          "output_type": "execute_result",
          "data": {
            "text/plain": [
              "Cabin          77.104377\n",
              "Age            19.865320\n",
              "Embarked        0.224467\n",
              "Fare            0.000000\n",
              "Ticket          0.000000\n",
              "Parch           0.000000\n",
              "SibSp           0.000000\n",
              "Sex             0.000000\n",
              "Name            0.000000\n",
              "Pclass          0.000000\n",
              "Survived        0.000000\n",
              "PassengerId     0.000000\n",
              "dtype: float64"
            ]
          },
          "metadata": {
            "tags": []
          },
          "execution_count": 9
        }
      ]
    },
    {
      "cell_type": "markdown",
      "metadata": {
        "id": "wLRJdByc1nBq",
        "colab_type": "text"
      },
      "source": [
        "Examining the **min** and **max** features of the numerical data statistics it's also possible to deduce that there are no outliers evidence in this data.\n",
        "\n",
        "On the other side, looking at the categorical variables statistics it can be infered that:\n",
        "\n",
        "* Each name is unique (one for each pearson in the dataset)\n",
        "* In the train DataFrame there are only two unique sexes (male and female) and the majority of passengers are male (577 out of 891 = 64.76%)\n",
        "* The port at which most people embarked was Southampton (S), with 644 out of 889 people.\n",
        "\n",
        "**The dataset variables follow some statistical dristribution or pattern with the chances of survival?**\n",
        "\n",
        "To identify this kind of information it's extremely helpful to resort to the use of graphical visualization. For instance, the histograms of each numerical variable can be plotted easily as follows:\n",
        "\n",
        "\n",
        "\n"
      ]
    },
    {
      "cell_type": "code",
      "metadata": {
        "id": "9p54M120P5Vr",
        "colab_type": "code",
        "outputId": "b4399539-7ee8-412c-cad9-c845f9acd0ca",
        "colab": {
          "base_uri": "https://localhost:8080/",
          "height": 499
        }
      },
      "source": [
        "# Plotting histograms of numerical variables in the train DF\n",
        "train_df.hist(figsize=(10, 8));"
      ],
      "execution_count": 10,
      "outputs": [
        {
          "output_type": "display_data",
          "data": {
            "image/png": "[encoded data removed]",
            "text/plain": [
              "<Figure size 720x576 with 9 Axes>"
            ]
          },
          "metadata": {
            "tags": []
          }
        }
      ]
    },
    {
      "cell_type": "markdown",
      "metadata": {
        "id": "8U5Nj8egQE2i",
        "colab_type": "text"
      },
      "source": [
        "Looking at the histograms, the numerical variables don't seem to follow any particular statistical distribution. Except for the **PassengerID** that presents an uniform distribution, since there is one different ID for each passenger. \n",
        "\n",
        "On the other hand, to see the impact of individual categorical or numerical variables over the surviving chances we can use **pandas groupby** method to calculate some desired probabilities."
      ]
    },
    {
      "cell_type": "code",
      "metadata": {
        "id": "XkUkzapuUalQ",
        "colab_type": "code",
        "outputId": "ab2a2f4e-2665-4ebb-ef82-b6317f1e7788",
        "colab": {
          "base_uri": "https://localhost:8080/",
          "height": 602
        }
      },
      "source": [
        "# Survival Probabilities crossed with variables Sex, Pclass and Embarked\n",
        "print(f'{\" By Sex \":-^30}')\n",
        "print()\n",
        "display(train_df[['Sex', 'Survived']].groupby(['Sex']).mean())\n",
        "print('\\n')\n",
        "print(f'{\" By Socio-economic Classs \":-^50}')\n",
        "print()\n",
        "display(train_df[['Pclass', 'Survived']].groupby(['Pclass']).mean())\n",
        "print('\\n')\n",
        "print(f'{\" By Port of Embarkation \":-^50}')\n",
        "print()\n",
        "display(train_df[['Embarked', 'Survived']].groupby(['Embarked']).mean())"
      ],
      "execution_count": 11,
      "outputs": [
        {
          "output_type": "stream",
          "text": [
            "----------- By Sex -----------\n",
            "\n"
          ],
          "name": "stdout"
        },
        {
          "output_type": "display_data",
          "data": {
            "text/html": [
              "<div>\n",
              "<style scoped>\n",
              "    .dataframe tbody tr th:only-of-type {\n",
              "        vertical-align: middle;\n",
              "    }\n",
              "\n",
              "    .dataframe tbody tr th {\n",
              "        vertical-align: top;\n",
              "    }\n",
              "\n",
              "    .dataframe thead th {\n",
              "        text-align: right;\n",
              "    }\n",
              "</style>\n",
              "<table border=\"1\" class=\"dataframe\">\n",
              "  <thead>\n",
              "    <tr style=\"text-align: right;\">\n",
              "      <th></th>\n",
              "      <th>Survived</th>\n",
              "    </tr>\n",
              "    <tr>\n",
              "      <th>Sex</th>\n",
              "      <th></th>\n",
              "    </tr>\n",
              "  </thead>\n",
              "  <tbody>\n",
              "    <tr>\n",
              "      <th>female</th>\n",
              "      <td>0.742038</td>\n",
              "    </tr>\n",
              "    <tr>\n",
              "      <th>male</th>\n",
              "      <td>0.188908</td>\n",
              "    </tr>\n",
              "  </tbody>\n",
              "</table>\n",
              "</div>"
            ],
            "text/plain": [
              "        Survived\n",
              "Sex             \n",
              "female  0.742038\n",
              "male    0.188908"
            ]
          },
          "metadata": {
            "tags": []
          }
        },
        {
          "output_type": "stream",
          "text": [
            "\n",
            "\n",
            "------------ By Socio-economic Classs ------------\n",
            "\n"
          ],
          "name": "stdout"
        },
        {
          "output_type": "display_data",
          "data": {
            "text/html": [
              "<div>\n",
              "<style scoped>\n",
              "    .dataframe tbody tr th:only-of-type {\n",
              "        vertical-align: middle;\n",
              "    }\n",
              "\n",
              "    .dataframe tbody tr th {\n",
              "        vertical-align: top;\n",
              "    }\n",
              "\n",
              "    .dataframe thead th {\n",
              "        text-align: right;\n",
              "    }\n",
              "</style>\n",
              "<table border=\"1\" class=\"dataframe\">\n",
              "  <thead>\n",
              "    <tr style=\"text-align: right;\">\n",
              "      <th></th>\n",
              "      <th>Survived</th>\n",
              "    </tr>\n",
              "    <tr>\n",
              "      <th>Pclass</th>\n",
              "      <th></th>\n",
              "    </tr>\n",
              "  </thead>\n",
              "  <tbody>\n",
              "    <tr>\n",
              "      <th>1</th>\n",
              "      <td>0.629630</td>\n",
              "    </tr>\n",
              "    <tr>\n",
              "      <th>2</th>\n",
              "      <td>0.472826</td>\n",
              "    </tr>\n",
              "    <tr>\n",
              "      <th>3</th>\n",
              "      <td>0.242363</td>\n",
              "    </tr>\n",
              "  </tbody>\n",
              "</table>\n",
              "</div>"
            ],
            "text/plain": [
              "        Survived\n",
              "Pclass          \n",
              "1       0.629630\n",
              "2       0.472826\n",
              "3       0.242363"
            ]
          },
          "metadata": {
            "tags": []
          }
        },
        {
          "output_type": "stream",
          "text": [
            "\n",
            "\n",
            "------------- By Port of Embarkation -------------\n",
            "\n"
          ],
          "name": "stdout"
        },
        {
          "output_type": "display_data",
          "data": {
            "text/html": [
              "<div>\n",
              "<style scoped>\n",
              "    .dataframe tbody tr th:only-of-type {\n",
              "        vertical-align: middle;\n",
              "    }\n",
              "\n",
              "    .dataframe tbody tr th {\n",
              "        vertical-align: top;\n",
              "    }\n",
              "\n",
              "    .dataframe thead th {\n",
              "        text-align: right;\n",
              "    }\n",
              "</style>\n",
              "<table border=\"1\" class=\"dataframe\">\n",
              "  <thead>\n",
              "    <tr style=\"text-align: right;\">\n",
              "      <th></th>\n",
              "      <th>Survived</th>\n",
              "    </tr>\n",
              "    <tr>\n",
              "      <th>Embarked</th>\n",
              "      <th></th>\n",
              "    </tr>\n",
              "  </thead>\n",
              "  <tbody>\n",
              "    <tr>\n",
              "      <th>C</th>\n",
              "      <td>0.553571</td>\n",
              "    </tr>\n",
              "    <tr>\n",
              "      <th>Q</th>\n",
              "      <td>0.389610</td>\n",
              "    </tr>\n",
              "    <tr>\n",
              "      <th>S</th>\n",
              "      <td>0.336957</td>\n",
              "    </tr>\n",
              "  </tbody>\n",
              "</table>\n",
              "</div>"
            ],
            "text/plain": [
              "          Survived\n",
              "Embarked          \n",
              "C         0.553571\n",
              "Q         0.389610\n",
              "S         0.336957"
            ]
          },
          "metadata": {
            "tags": []
          }
        }
      ]
    },
    {
      "cell_type": "markdown",
      "metadata": {
        "id": "-OHuOtHKIIg_",
        "colab_type": "text"
      },
      "source": [
        "As mentioned earlier, historical facts suggested that women, children and first class passengers had a greater \"luck\" in surviving, and this is also confirmed by the calculated probabilities above.\n",
        "\n",
        "The same results can also be seen with a visual aid using **seaborn library**.\n",
        "\n"
      ]
    },
    {
      "cell_type": "code",
      "metadata": {
        "id": "_Zkr-8nCPtQD",
        "colab_type": "code",
        "outputId": "e664d52c-e55c-4b72-d901-018aeaefbdc1",
        "colab": {
          "base_uri": "https://localhost:8080/",
          "height": 299
        }
      },
      "source": [
        "# Barplots of Survived vs. Sex, Pclass e Embarked variables\n",
        "fig, (axis1, axis2, axis3) = plt.subplots(1,3, figsize=(12,4))\n",
        "\n",
        "sns.barplot(x='Sex', y='Survived', data=train_df, ax=axis1)\n",
        "sns.barplot(x='Pclass', y='Survived', data=train_df, ax=axis2)\n",
        "sns.barplot(x='Embarked', y='Survived', data=train_df, ax=axis3);"
      ],
      "execution_count": 12,
      "outputs": [
        {
          "output_type": "display_data",
          "data": {
            "image/png": "[encoded data removed]",
            "text/plain": [
              "<Figure size 864x288 with 3 Axes>"
            ]
          },
          "metadata": {
            "tags": []
          }
        }
      ]
    },
    {
      "cell_type": "markdown",
      "metadata": {
        "id": "ZGHZeBa7tMxF",
        "colab_type": "text"
      },
      "source": [
        "Some important variables can have a wide range of values, which is the case of **Age** (continous numerical variable). In that case, a different technique is suited for a better data visualization."
      ]
    },
    {
      "cell_type": "code",
      "metadata": {
        "id": "sNiH5V6rvoYl",
        "colab_type": "code",
        "outputId": "2141fa8e-14df-4ffa-cfaa-199031d684d5",
        "colab": {
          "base_uri": "https://localhost:8080/",
          "height": 225
        }
      },
      "source": [
        "# Survival chances based on the Age data distribution\n",
        "age_survived = sns.FacetGrid(train_df, col='Survived')\n",
        "age_survived.map(sns.distplot, 'Age');"
      ],
      "execution_count": 13,
      "outputs": [
        {
          "output_type": "display_data",
          "data": {
            "image/png": "[encoded data removed]",
            "text/plain": [
              "<Figure size 432x216 with 2 Axes>"
            ]
          },
          "metadata": {
            "tags": []
          }
        }
      ]
    },
    {
      "cell_type": "markdown",
      "metadata": {
        "id": "e-t4-e74_S89",
        "colab_type": "text"
      },
      "source": [
        "In percentage terms, it is not clear that the **Age** is a critical atribute to the survival chances since children was spected to be more likely to survive and they are in minority in the ship. However it's still noticeable the number of children that survived is greater than the number that didn't survive.\n",
        "\n",
        "Up to this point, only individual analysis on each variable was made. Yet, cheking for correlations between variables is equally important.\n",
        "\n"
      ]
    },
    {
      "cell_type": "code",
      "metadata": {
        "id": "0jVGFKZPFOqB",
        "colab_type": "code",
        "outputId": "c00aefcf-d48f-48fa-8b0b-301708cfa878",
        "colab": {
          "base_uri": "https://localhost:8080/",
          "height": 634
        }
      },
      "source": [
        "# Mapping the Sex categorical variable into a numerical variable\n",
        "# male = 0 / female = 1\n",
        "train_df['Sex'] = train_df['Sex'].map({'male' : 0, 'female' : 1})\n",
        "\n",
        "# Plotting a scatter matrix\n",
        "columns=['Parch', 'SibSp', 'Age', 'Pclass', 'Sex']\n",
        "pd.plotting.scatter_matrix(train_df[columns], figsize=(15, 10));"
      ],
      "execution_count": 0,
      "outputs": [
        {
          "output_type": "display_data",
          "data": {
            "image/png": "[encoded data removed]",
            "text/plain": [
              "<Figure size 1080x720 with 25 Axes>"
            ]
          },
          "metadata": {
            "tags": []
          }
        }
      ]
    },
    {
      "cell_type": "code",
      "metadata": {
        "id": "r3AZOcdmFY9p",
        "colab_type": "code",
        "outputId": "2bf6d3b2-087c-4f1f-819d-825a7932286f",
        "colab": {
          "base_uri": "https://localhost:8080/",
          "height": 320
        }
      },
      "source": [
        "# Plotting a heatmap for numerical variables\n",
        "sns.heatmap(train_df.corr(method='spearman'), cmap='coolwarm', fmt='.2f', linewidths=0.1,\n",
        "            vmax=1.0, square=True, linecolor='white', annot=True);"
      ],
      "execution_count": 0,
      "outputs": [
        {
          "output_type": "display_data",
          "data": {
            "image/png": "[encoded data removed]",
            "text/plain": [
              "<Figure size 432x288 with 2 Axes>"
            ]
          },
          "metadata": {
            "tags": []
          }
        }
      ]
    },
    {
      "cell_type": "markdown",
      "metadata": {
        "id": "38VWVuu1P75l",
        "colab_type": "text"
      },
      "source": [
        "With these two illustrative approaches it's possible to recognize relations between crossed variables and to rise some quentions on whether or not these correlation values make sense, helping on the decision of which variables are important to consider in the machine learning model. \n",
        "\n",
        "# 4. Pre-processing the Data\n",
        "\n",
        "So far all we have done was import the dataset into DataFrames, explained the variables, raised some hypothesis about the surviving chances and did some data exploration on the variables that we judge to be more relevant.\n",
        "\n",
        "A data science project is not narrowed to a step-by-step solution, instead, it is a interactive work where we need to take a step back many times, searching for new valuable information, testing hypothesis and trying different analysis,mainly during the data exploration phase.\n",
        "\n",
        "At this stage of the project the objective is to process the data accordingly to its needs before we can feed it into a ML model. With the help of **pandas library** this can be done fairly quickly. \n",
        "\n",
        "# Merging the train and test datasets\n",
        "\n",
        "A good habit when you get to the data pre-processing stage is to merge the train and test datasets into one, so that is only necessary to apply the pre-processing techniques once and then you can separate the datasets into train and test again at the end.\n",
        "\n",
        "Filling missing values, creating dummy variables, encoding and scaling (standardization) variables are some of the main techniques used in this phase. \n",
        "\n",
        "Let's start preparing the data to feed our ML model in the next step.\n",
        "\n",
        "\n",
        "\n"
      ]
    },
    {
      "cell_type": "code",
      "metadata": {
        "id": "d7JjFcHcGFSQ",
        "colab_type": "code",
        "outputId": "e2ebeee4-8b50-43cf-8b32-e16e30e9481b",
        "colab": {
          "base_uri": "https://localhost:8080/",
          "height": 34
        }
      },
      "source": [
        "# Saving the train and test dataset index before merging for futher separation\n",
        "train_idx = train_df.shape[0]\n",
        "test_idx = test_df.shape[0]\n",
        "\n",
        "# Saving PassengerID of test dataset for Kaggle challenge submission\n",
        "passengerId = test_df['PassengerId']\n",
        "\n",
        "# Separating the target variable from the train dataset\n",
        "target = train_df.Survived.copy()\n",
        "train_df.drop(['Survived'], axis=1, inplace=True)\n",
        "\n",
        "# Merging the train and test into one DataFrame\n",
        "merged_df = pd.concat(objs=[train_df, test_df], axis=0).reset_index(drop=True)\n",
        "\n",
        "print(\"merged_df.shape: ({} rows x {} columns)\".format(merged_df.shape[0], merged_df.shape[1]))"
      ],
      "execution_count": 14,
      "outputs": [
        {
          "output_type": "stream",
          "text": [
            "merged_df.shape: (1309 rows x 11 columns)\n"
          ],
          "name": "stdout"
        }
      ]
    },
    {
      "cell_type": "markdown",
      "metadata": {
        "id": "VRljUTPYRRgG",
        "colab_type": "text"
      },
      "source": [
        "# Selecting the Desired Features\n",
        "\n",
        "Taking all the data analysis done so far,it's time to weight which variables are valuable to our machine learning model. Variables that we judge not to be important should be droped from our DataFrame.\n",
        "\n",
        "It is worth mentioning that sometimes we can make incorrect decisions. But is up to the Data Scientist to try different ideas and choose which features best fit the ML model.\n",
        "\n",
        "**['PassengerID', 'Name', 'Ticket', 'Cabin']** are variables that don't **seem** to have any influence in the surviving chances. So they will be droped from our DataFrame taking the data exploration and some intuition into account.\n",
        "\n",
        "This leave the DF with 7 variables: **['Pclass', 'Sex', 'Age', 'SibSp', 'Parch', 'Fare', 'Embarked']**.\n"
      ]
    },
    {
      "cell_type": "code",
      "metadata": {
        "id": "vD2oyXeHLxqN",
        "colab_type": "code",
        "colab": {}
      },
      "source": [
        "# Droping undesired features from the DataFrame\n",
        "merged_df.drop(['PassengerId', 'Name', 'Ticket', 'Cabin'], axis=1, inplace=True)"
      ],
      "execution_count": 0,
      "outputs": []
    },
    {
      "cell_type": "markdown",
      "metadata": {
        "id": "B-2zX1LgONlL",
        "colab_type": "text"
      },
      "source": [
        "# Dealing with the Missing Values\n",
        "\n",
        "We have already seen the percentage of missing values in an earlier section. However, we need to check again for the merged DF, since we only checked for the **train** dataset before.\n",
        "\n",
        "There are two better known techniques to handle missing values, they are:\n",
        "\n",
        "* Filling these values arbitrarily (with the mean, median, most frequent value (mode)); and\n",
        "* Cutting out the entire row that has a missing value.\n",
        "\n",
        "This decision is also for the Data Scientist to take. But normally, it's is not a good practice to throw away information of an entire row because of one missing value. So, here we choose to use the first technique.\n",
        "\n"
      ]
    },
    {
      "cell_type": "code",
      "metadata": {
        "id": "67B4AvMaT7Ej",
        "colab_type": "code",
        "outputId": "1fce5463-5588-4e87-8745-5fcdff066d9c",
        "colab": {
          "base_uri": "https://localhost:8080/",
          "height": 151
        }
      },
      "source": [
        "# Checking each variable for missing values\n",
        "merged_df.isnull().sum()"
      ],
      "execution_count": 16,
      "outputs": [
        {
          "output_type": "execute_result",
          "data": {
            "text/plain": [
              "Pclass        0\n",
              "Sex           0\n",
              "Age         263\n",
              "SibSp         0\n",
              "Parch         0\n",
              "Fare          1\n",
              "Embarked      2\n",
              "dtype: int64"
            ]
          },
          "metadata": {
            "tags": []
          },
          "execution_count": 16
        }
      ]
    },
    {
      "cell_type": "markdown",
      "metadata": {
        "id": "gAkvLtXlZcQj",
        "colab_type": "text"
      },
      "source": [
        "For the **Age**, **Fare** and **Embarked**  we're going to fill the missing values with the **mean**, **median** and **mode**, \n",
        "respectively. "
      ]
    },
    {
      "cell_type": "code",
      "metadata": {
        "id": "dOhzsNnkZcqe",
        "colab_type": "code",
        "colab": {}
      },
      "source": [
        "# Age\n",
        "age_median = merged_df['Age'].median()\n",
        "merged_df['Age'].fillna(age_median, inplace=True)\n",
        "\n",
        "# Fare\n",
        "fare_median = merged_df['Fare'].mean()\n",
        "merged_df['Fare'].fillna(fare_median, inplace=True)\n",
        "\n",
        "# Embarked\n",
        "embarked_top = merged_df['Embarked'].value_counts()[0]\n",
        "merged_df['Embarked'].fillna(embarked_top, inplace=True)"
      ],
      "execution_count": 0,
      "outputs": []
    },
    {
      "cell_type": "markdown",
      "metadata": {
        "id": "5wR13Z_ndrf6",
        "colab_type": "text"
      },
      "source": [
        "# Preparing the Variables to Feed the ML Model\n",
        "\n",
        "Depending on the machine learning model that is going to be applied, it is mandatory to convert categorical into numerical variables. This is the case for the models we're going to use.\n",
        "\n",
        "On this DataFrame only the **'Sex'** and **'Embarked'** variables are categorical, so we are going to map the two sexes into **male = 0** and **female = 1**. And for the ports of embarkation we're going to use the concept of dummy variables.\n",
        "\n",
        "Dummy variables can only assume binary values (0 or 1), creating a new column for each possible value of the categorical variable as can be seen in the code lines below."
      ]
    },
    {
      "cell_type": "code",
      "metadata": {
        "id": "8kKQBUeTd2Ta",
        "colab_type": "code",
        "outputId": "bd8f7a00-380a-4a8b-93fc-bf1a96f58932",
        "colab": {
          "base_uri": "https://localhost:8080/",
          "height": 215
        }
      },
      "source": [
        "# Mapping 'Sex' into 0 = male and 1 = female\n",
        "merged_df['Sex'] = merged_df['Sex'].map({'male': 0, 'female': 1})\n",
        "\n",
        "# Converting 'Embarked' into Dummy Variables\n",
        "embarked_dummies = pd.get_dummies(merged_df['Embarked'], prefix='Embarked')\n",
        "merged_df = pd.concat([merged_df, embarked_dummies], axis=1)\n",
        "merged_df.drop('Embarked', axis=1, inplace=True)\n",
        "\n",
        "display(merged_df.head())"
      ],
      "execution_count": 18,
      "outputs": [
        {
          "output_type": "display_data",
          "data": {
            "text/html": [
              "<div>\n",
              "<style scoped>\n",
              "    .dataframe tbody tr th:only-of-type {\n",
              "        vertical-align: middle;\n",
              "    }\n",
              "\n",
              "    .dataframe tbody tr th {\n",
              "        vertical-align: top;\n",
              "    }\n",
              "\n",
              "    .dataframe thead th {\n",
              "        text-align: right;\n",
              "    }\n",
              "</style>\n",
              "<table border=\"1\" class=\"dataframe\">\n",
              "  <thead>\n",
              "    <tr style=\"text-align: right;\">\n",
              "      <th></th>\n",
              "      <th>Pclass</th>\n",
              "      <th>Sex</th>\n",
              "      <th>Age</th>\n",
              "      <th>SibSp</th>\n",
              "      <th>Parch</th>\n",
              "      <th>Fare</th>\n",
              "      <th>Embarked_914</th>\n",
              "      <th>Embarked_C</th>\n",
              "      <th>Embarked_Q</th>\n",
              "      <th>Embarked_S</th>\n",
              "    </tr>\n",
              "  </thead>\n",
              "  <tbody>\n",
              "    <tr>\n",
              "      <th>0</th>\n",
              "      <td>3</td>\n",
              "      <td>0</td>\n",
              "      <td>22.0</td>\n",
              "      <td>1</td>\n",
              "      <td>0</td>\n",
              "      <td>7.2500</td>\n",
              "      <td>0</td>\n",
              "      <td>0</td>\n",
              "      <td>0</td>\n",
              "      <td>1</td>\n",
              "    </tr>\n",
              "    <tr>\n",
              "      <th>1</th>\n",
              "      <td>1</td>\n",
              "      <td>1</td>\n",
              "      <td>38.0</td>\n",
              "      <td>1</td>\n",
              "      <td>0</td>\n",
              "      <td>71.2833</td>\n",
              "      <td>0</td>\n",
              "      <td>1</td>\n",
              "      <td>0</td>\n",
              "      <td>0</td>\n",
              "    </tr>\n",
              "    <tr>\n",
              "      <th>2</th>\n",
              "      <td>3</td>\n",
              "      <td>1</td>\n",
              "      <td>26.0</td>\n",
              "      <td>0</td>\n",
              "      <td>0</td>\n",
              "      <td>7.9250</td>\n",
              "      <td>0</td>\n",
              "      <td>0</td>\n",
              "      <td>0</td>\n",
              "      <td>1</td>\n",
              "    </tr>\n",
              "    <tr>\n",
              "      <th>3</th>\n",
              "      <td>1</td>\n",
              "      <td>1</td>\n",
              "      <td>35.0</td>\n",
              "      <td>1</td>\n",
              "      <td>0</td>\n",
              "      <td>53.1000</td>\n",
              "      <td>0</td>\n",
              "      <td>0</td>\n",
              "      <td>0</td>\n",
              "      <td>1</td>\n",
              "    </tr>\n",
              "    <tr>\n",
              "      <th>4</th>\n",
              "      <td>3</td>\n",
              "      <td>0</td>\n",
              "      <td>35.0</td>\n",
              "      <td>0</td>\n",
              "      <td>0</td>\n",
              "      <td>8.0500</td>\n",
              "      <td>0</td>\n",
              "      <td>0</td>\n",
              "      <td>0</td>\n",
              "      <td>1</td>\n",
              "    </tr>\n",
              "  </tbody>\n",
              "</table>\n",
              "</div>"
            ],
            "text/plain": [
              "   Pclass  Sex   Age  SibSp  Parch     Fare  Embarked_914  Embarked_C  \\\n",
              "0       3    0  22.0      1      0   7.2500             0           0   \n",
              "1       1    1  38.0      1      0  71.2833             0           1   \n",
              "2       3    1  26.0      0      0   7.9250             0           0   \n",
              "3       1    1  35.0      1      0  53.1000             0           0   \n",
              "4       3    0  35.0      0      0   8.0500             0           0   \n",
              "\n",
              "   Embarked_Q  Embarked_S  \n",
              "0           0           1  \n",
              "1           0           0  \n",
              "2           0           1  \n",
              "3           0           1  \n",
              "4           0           1  "
            ]
          },
          "metadata": {
            "tags": []
          }
        }
      ]
    },
    {
      "cell_type": "markdown",
      "metadata": {
        "id": "Co16lzepfVcS",
        "colab_type": "text"
      },
      "source": [
        "# Recovering the train and test datasets\n",
        "\n",
        "After preparing the datasets to feed the model, lets separate the train and test data as they were before."
      ]
    },
    {
      "cell_type": "code",
      "metadata": {
        "id": "T6MAEWi1fZqF",
        "colab_type": "code",
        "colab": {}
      },
      "source": [
        "# recuperar datasets de treino e teste\n",
        "train_df = merged_df.iloc[:train_idx]\n",
        "test_df = merged_df.iloc[train_idx:]"
      ],
      "execution_count": 0,
      "outputs": []
    },
    {
      "cell_type": "markdown",
      "metadata": {
        "id": "bZPNUaSpvNB3",
        "colab_type": "text"
      },
      "source": [
        "# 5. Machine Learning Model Creation\n",
        "\n",
        "Without a doubt, exploration and pre-processing of the data are the most time consuming steps of a DS project.\n",
        "\n",
        "All those steps were significant to proceed to the ML model creation, which can be done with a few lines of code using **scikit-learn** library. \n",
        "\n",
        "We're going to test tree ML models to test which one gives the best accuracy to this problem, they are:\n",
        "\n",
        "* Logistic Regression Model\n",
        "* Decision Tree Model\n",
        "* Naive Bayes Classifier"
      ]
    },
    {
      "cell_type": "code",
      "metadata": {
        "id": "PoobaTQFab62",
        "colab_type": "code",
        "colab": {}
      },
      "source": [
        "# Importing scikit-learn library with the ML models to be used\n",
        "from sklearn.linear_model import LogisticRegression\n",
        "from sklearn.tree import DecisionTreeClassifier\n",
        "from sklearn.naive_bayes import GaussianNB  "
      ],
      "execution_count": 0,
      "outputs": []
    },
    {
      "cell_type": "code",
      "metadata": {
        "id": "c1Y0VNjpciXp",
        "colab_type": "code",
        "colab": {
          "base_uri": "https://localhost:8080/",
          "height": 34
        },
        "outputId": "a7717f2e-5371-4615-a85b-70848b0d88f8"
      },
      "source": [
        "# Creating a Logistic Regression Model\n",
        "lr_model = LogisticRegression(solver='liblinear')\n",
        "lr_model.fit(train_df, target)\n",
        "\n",
        "# Verifying the model accuracy\n",
        "lr_acc = round(lr_model.score(train_df, target) * 100, 2)\n",
        "print(f'Logistic Regression Model Accuracy: {lr_acc} %')"
      ],
      "execution_count": 23,
      "outputs": [
        {
          "output_type": "stream",
          "text": [
            "Logistic Regression Model Accuracy: 80.13 %\n"
          ],
          "name": "stdout"
        }
      ]
    },
    {
      "cell_type": "markdown",
      "metadata": {
        "id": "fr9t3yVUh_UH",
        "colab_type": "text"
      },
      "source": [
        "With 2 lines of code we were able to build a Logistic Regression model with an accuracy greater then 80%, which is an excellent result for a first model.\n",
        "\n",
        "Now, let's prepare a .csv file for submission on Kaggle platform."
      ]
    },
    {
      "cell_type": "code",
      "metadata": {
        "id": "ZthPXw_LeWxN",
        "colab_type": "code",
        "colab": {}
      },
      "source": [
        "# Predicting the test dataset outcome with the trained model\n",
        "lr_predic = lr_model.predict(test_df)\n",
        "\n",
        "submission = pd.DataFrame({\n",
        "    'PassengerID': passengerId,\n",
        "    'Survived': lr_predic\n",
        "    })\n",
        "\n",
        "# Generating .csv file for Kaggle submission\n",
        "submission.to_csv('./submission_lr.csv', index=False)"
      ],
      "execution_count": 0,
      "outputs": []
    },
    {
      "cell_type": "markdown",
      "metadata": {
        "id": "tRB3jybmiCBf",
        "colab_type": "text"
      },
      "source": [
        "After submission, Kaggle computes a score based on the results of your submitted file. This model was able to reach a 74.64% score.\n",
        "\n",
        "![](https://github.com/msremigio/projects_DataScience/blob/master/images/kaggle_lr_score.PNG?raw=true)\n",
        "\n",
        "It is completely acceptable to obtain a lower accuracy with the prediction based on the test dataset, once our model was trained using only the train dataset (the train dataset will fit better to the model).\n",
        "\n",
        "Now, we will do the same steps for the Decision Tree model.\n"
      ]
    },
    {
      "cell_type": "code",
      "metadata": {
        "id": "YuD01iRgiEJk",
        "colab_type": "code",
        "colab": {
          "base_uri": "https://localhost:8080/",
          "height": 34
        },
        "outputId": "6b636e7d-0c57-4eca-d2ee-815a71cddd52"
      },
      "source": [
        "# Creating a Decision Tree Model\n",
        "dt_model = DecisionTreeClassifier(max_depth=3)\n",
        "dt_model.fit(train_df, target)\n",
        "\n",
        "# verificar a acurácia do modelo\n",
        "dt_acc = round(dt_model.score(train_df, target) * 100, 2)\n",
        "print(f'Decision Tree Model Accuracy: {dt_acc} %')"
      ],
      "execution_count": 26,
      "outputs": [
        {
          "output_type": "stream",
          "text": [
            "Decision Tree Model Accuracy: 82.72 %\n"
          ],
          "name": "stdout"
        }
      ]
    },
    {
      "cell_type": "markdown",
      "metadata": {
        "id": "ztpSDKhWiFa-",
        "colab_type": "text"
      },
      "source": [
        "Testing the Decision Tree model, there was a 2.59% gain in accuracy, let's submit this improvement to Kaggle again."
      ]
    },
    {
      "cell_type": "code",
      "metadata": {
        "id": "O4TgNo85iFij",
        "colab_type": "code",
        "colab": {}
      },
      "source": [
        "dt_predic = dt_model.predict(test_df)\n",
        "\n",
        "submission = pd.DataFrame({\n",
        "    \"PassengerId\": passengerId,\n",
        "    \"Survived\": dt_predic\n",
        "})\n",
        "\n",
        "submission.to_csv('./submission_dt.csv', index=False)"
      ],
      "execution_count": 0,
      "outputs": []
    },
    {
      "cell_type": "markdown",
      "metadata": {
        "id": "1rmJDEj2iG0_",
        "colab_type": "text"
      },
      "source": [
        "This model was able to reach a 77.99% score.\n",
        "\n",
        "![](https://github.com/msremigio/projects_DataScience/blob/master/images/kaggle_dt_score.PNG?raw=true)\n",
        "\n",
        "Finally, let's check what are the results using a Naive Bayes classifier."
      ]
    },
    {
      "cell_type": "code",
      "metadata": {
        "id": "YsLcjDD2iJMz",
        "colab_type": "code",
        "colab": {
          "base_uri": "https://localhost:8080/",
          "height": 34
        },
        "outputId": "563a5ff0-f926-421f-dddd-ffd343385597"
      },
      "source": [
        "# Creating a Naive Bayes Classifier\n",
        "nb_model = GaussianNB()\n",
        "nb_model.fit(train_df, target)\n",
        "\n",
        "# verificar a acurácia do modelo\n",
        "nb_acc = round(nb_model.score(train_df, target) * 100, 2)\n",
        "print(f'Naive Bayes Classifier Accuracy: {nb_acc} %')"
      ],
      "execution_count": 28,
      "outputs": [
        {
          "output_type": "stream",
          "text": [
            "Naive Bayes Classifier Accuracy: 68.46 %\n"
          ],
          "name": "stdout"
        }
      ]
    },
    {
      "cell_type": "markdown",
      "metadata": {
        "id": "rFEgJFmUiJUh",
        "colab_type": "text"
      },
      "source": [
        "It is obvious that the Naive Bayes classifier didn't achieve a good result as the past two models. "
      ]
    },
    {
      "cell_type": "code",
      "metadata": {
        "id": "2_ijpbMsiJdB",
        "colab_type": "code",
        "colab": {}
      },
      "source": [
        "nb_predic = nb_model.predict(test_df)\n",
        "\n",
        "submission = pd.DataFrame({\n",
        "    \"PassengerId\": passengerId,\n",
        "    \"Survived\": nb_predic\n",
        "})\n",
        "\n",
        "submission.to_csv('./submission_nb.csv', index=False)"
      ],
      "execution_count": 0,
      "outputs": []
    },
    {
      "cell_type": "markdown",
      "metadata": {
        "id": "lOkL583JiJj1",
        "colab_type": "text"
      },
      "source": [
        "This model was able to reach a 69.86% score.\n",
        "\n",
        "![](https://github.com/msremigio/projects_DataScience/blob/master/images/kaggle_nb_score.PNG?raw=true)\n",
        "\n",
        "# Would I be a survivor?\n",
        "\n",
        "Now that we know that the Decision Tree model was the one that gave the best accuracy, let's see if I would survive to the Titanic incident.\n",
        "\n",
        "Assuming that I would travel in the 2nd class, with 24 years old, with my parents , brother and girlfriend, paying a medium price ticket and embarking in Southampton (UK).  "
      ]
    },
    {
      "cell_type": "code",
      "metadata": {
        "id": "uxUp16wXxcG4",
        "colab_type": "code",
        "colab": {
          "base_uri": "https://localhost:8080/",
          "height": 34
        },
        "outputId": "69397642-4e97-41ee-e9df-df24cdfe2340"
      },
      "source": [
        "# Declaring the variables values according to the description above\n",
        "matheus = np.array([2, 0, 24.0, 2, 2, 32.2, 0, 0, 0, 1]).reshape((1, -1))\n",
        "\n",
        "# Verifying if I would have survived\n",
        "print(f'Matheus Remigio:\\t{dt_model.predict(matheus)[0]}')"
      ],
      "execution_count": 34,
      "outputs": [
        {
          "output_type": "stream",
          "text": [
            "Matheus Remigio:\t0\n"
          ],
          "name": "stdout"
        }
      ]
    },
    {
      "cell_type": "markdown",
      "metadata": {
        "id": "VVAK64K0yXHU",
        "colab_type": "text"
      },
      "source": [
        "Unfortunately, according to our own model I would not had survived to the Titanic tragedy. Result that corroborates with the initial hypothesis that women, chieldren and 1st class passengers had a greater chance of surviving.\n",
        "\n",
        "---\n",
        "\n",
        "Naturally, it is possible to accomplish better results applying more advanced ML models, feature engineering and some other pre-processing techniques. However, as a first project, this dataset proportionates the opportunity to learn and apply some of the central concepts within the Data Science field and helps to delevop skills that will be used towards any future project.\n",
        "\n",
        "Beyond that, I hope that everything is well explained so that you can replicate everything by you own if you want to ;)."
      ]
    }
  ]
}