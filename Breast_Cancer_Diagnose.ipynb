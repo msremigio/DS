{
  "nbformat": 4,
  "nbformat_minor": 0,
  "metadata": {
    "colab": {
      "name": "Breast Cancer Diagnose.ipynb",
      "provenance": [],
      "collapsed_sections": [],
      "authorship_tag": "ABX9TyOt+sRY29sd3x3F0jTJ+cre",
      "include_colab_link": true
    },
    "kernelspec": {
      "name": "python3",
      "display_name": "Python 3"
    }
  },
  "cells": [
    {
      "cell_type": "markdown",
      "metadata": {
        "id": "view-in-github",
        "colab_type": "text"
      },
      "source": [
        "<a href=\"https://colab.research.google.com/github/msremigio/projects_DataScience/blob/master/Breast_Cancer_Diagnose.ipynb\" target=\"_parent\"><img src=\"https://colab.research.google.com/assets/colab-badge.svg\" alt=\"Open In Colab\"/></a>"
      ]
    },
    {
      "cell_type": "markdown",
      "metadata": {
        "id": "sJ8sfw5PMdJQ",
        "colab_type": "text"
      },
      "source": [
        "# Machine Learning Helping to Diagnose Breast Cancer\n",
        ">> Using a real dataset from the University of Wisconsin\n",
        "\n",
        "---\n",
        "\n",
        "Cancer is a consequence of mutations, or abnormal changes in the genes responsible for regulating the growth of cells and keeping them healthy. When these undesired mutations happen, cells begin to divide without control and order, producing more and more irregular cells forming a tumor.\n",
        "\n",
        "[Being the deadliest type of cancer between women](https://https://www.ncbi.nlm.nih.gov/pmc/articles/PMC6468737/), the breast cancer is an uncontrolled growth of breast cells. Statiscally, [about 1 in 8 U.S. women (about 12%) will develop invasive breast cancer over the course of her lifetime](https://www.breastcancer.org/symptoms/understand_bc/statistics). When we bring this statistic to Brazil, [1 in every 12 women will develop a breast cancer before 90 years old](https://noticias.r7.com/saude/uma-em-cada-12-mulheres-recebera-diagnostico-de-cancer-de-mama-02102019).\n",
        "\n",
        "![<a href=\"https://www.freepik.com/free-photos-vectors/logo\">Logo vector created by freepik - www.freepik.com</a>](https://github.com/msremigio/projects_DataScience/blob/master/images/breast_cancer.jpg?raw=true)\n",
        "\n",
        "<a href=\"http://www.freepik.com\">Designed by Freepik</a>\n",
        "\n",
        "It's a known matter that the earlier the diagnosis is made, greater are the chances of a successful treatment. This fact has helped to encourage the emergence of global campaigns aimed at informing and raising awareness to the importance of cheking on the breast health at least once a year through a mammogram or other testing. This campaign happens annually in October and it's known as the [Breast Cancer Awareness Month](https://www.nationalbreastcancer.org/breast-cancer-awareness-month).\n",
        "\n",
        "Motivated by a recent breast cancer occurrence in my family and some other close by cases throughout my life together with the increasing usage of Machine Learning (ML) techniques that are helping in the prognosis and diagnosis of type of cancer, I consider that showing how ML can be used to predict and speed up a new breast cancer episode is a way of bringin awareness and contributes with such important campaigns.\n",
        "\n",
        "> **In summary, this project consists in the creation of a ML model to classify wheter a breast tumor is malignant or benign, using a real dataset provided by the University of Wisconsin.**\n",
        "\n",
        "# 1. Importing the Data\n",
        "\n",
        "The dataset was made available by reaserchers of the University of Wisconsin and it can be found at the [Machine Learning Repository of the University of California, Irvine](https://archive.ics.uci.edu/ml/datasets/Breast+Cancer+Wisconsin+%28Diagnostic%29).\n",
        "\n",
        "The dataset consists of 569 rows (entries)and 32 columns (variables). Features were computed from digitized images of fine needle aspirate (FNA) of a breast mass. The features basically describe characteristics of the cell nuclei that could be extracted from the images. The target variable (\"diagnosis\") can be classified as either malignant or benign.\n",
        "\n",
        "First things first, let's import to our project the necessary libraries that are going to be used throughout the project and then import the dataset into a DataFrame (DF) structure.\n",
        "\n",
        "\n",
        "\n"
      ]
    },
    {
      "cell_type": "code",
      "metadata": {
        "id": "k8xdSoaTEz9V",
        "colab_type": "code",
        "colab": {}
      },
      "source": [
        "# Importing necessary libraries\n",
        "import pandas as pd\n",
        "import matplotlib.pyplot as plt\n",
        "import numpy as np\n",
        "import seaborn as sns\n",
        "\n",
        "# Set the aesthetic style of the plots\n",
        "sns.set_style()\n",
        "\n",
        "df = pd.read_csv('https://raw.githubusercontent.com/msremigio/projects_DataScience/master/datasets/breast_cancer/breast_cancer.data')\n"
      ],
      "execution_count": 0,
      "outputs": []
    },
    {
      "cell_type": "markdown",
      "metadata": {
        "id": "xWICsSYgoDZ_",
        "colab_type": "text"
      },
      "source": [
        "**How many entries (rows) and how many variables (columns) the DF have?**\n"
      ]
    },
    {
      "cell_type": "code",
      "metadata": {
        "id": "LNV_0Hb9LeAS",
        "colab_type": "code",
        "outputId": "ed0ad6be-cb8a-4fc5-894f-a840d9554aa0",
        "colab": {
          "base_uri": "https://localhost:8080/",
          "height": 84
        }
      },
      "source": [
        "print(f'{\"DataFrame Dimensions\":-^50}\\n')\n",
        "print(f'Entries:\\t{df.shape[0]}\\nVariables:\\t{df.shape[1]}')"
      ],
      "execution_count": 174,
      "outputs": [
        {
          "output_type": "stream",
          "text": [
            "---------------DataFrame Dimensions---------------\n",
            "\n",
            "Entries:\t569\n",
            "Variables:\t32\n"
          ],
          "name": "stdout"
        }
      ]
    },
    {
      "cell_type": "markdown",
      "metadata": {
        "id": "agAkrEh0p6gr",
        "colab_type": "text"
      },
      "source": [
        "# 2. Exploring the Data\n",
        "\n",
        "First of all, this dataset description can be found at the [UCI Machine Learning Repository](https://archive.ics.uci.edu/ml/datasets/Breast+Cancer+Wisconsin+%28Diagnostic%29).\n",
        "\n",
        "To start with the data exploration analysis it is important to understand what each atribute in this dataset represents. \n",
        "\n",
        "# Data Dictionary\n",
        "\n",
        "* **ID:** An identification number for each image analyzed\n",
        "* **Diagnosis:** The target variable. Representing the diagnosis result for a breast tumor\n",
        "  * M = Malignant\n",
        "  * B = Benign\n",
        "\n",
        "*Ten real-valued features are computed for each cell nucleus:*\n",
        "\n",
        "* **Radius:** Mean of distances from center to points on the perimeter\n",
        "* **Texture:** Standard deviation of gray-scale values\n",
        "* **Perimeter:** Cell nucleus perimeter\n",
        "* **Area:** Cell nucleus area\n",
        "* **Smoothness:** Local variation in radius lengths\n",
        "* **Compactness:** \n",
        "  * Perimeter^2 / (Area - 1.0)\n",
        "* **Concavity:** Severity of concave portions of the contour\n",
        "* **Concave Points:** Number of concave portions of the contour\n",
        "* **Symmetry:** Cell nucleus symmetry\n",
        "* **Fractal Dimension:**\n",
        "  * Coastline approximation - 1\n",
        "\n",
        "*The mean, standard error (se), and \"worst\" or largest (mean of the three\n",
        "largest values) of these features were computed for each image,\n",
        "resulting in 30 features.  For instance, field 3 is Mean Radius, field\n",
        "13 is Radius SE, field 23 is Worst Radius.*\n",
        "\n",
        "After understanding the what each variable represents, we can see how they are organized in the data file, what are the variable types and check for some basic statistics for the data distribution.\n"
      ]
    },
    {
      "cell_type": "code",
      "metadata": {
        "id": "C5wrA1a7qOID",
        "colab_type": "code",
        "outputId": "f5218d2e-dd05-49e1-f7f4-a2bd4441e030",
        "colab": {
          "base_uri": "https://localhost:8080/",
          "height": 363
        }
      },
      "source": [
        "# Displaying the first 10 entries of the DF\n",
        "df.head(10)\n"
      ],
      "execution_count": 175,
      "outputs": [
        {
          "output_type": "execute_result",
          "data": {
            "text/html": [
              "<div>\n",
              "<style scoped>\n",
              "    .dataframe tbody tr th:only-of-type {\n",
              "        vertical-align: middle;\n",
              "    }\n",
              "\n",
              "    .dataframe tbody tr th {\n",
              "        vertical-align: top;\n",
              "    }\n",
              "\n",
              "    .dataframe thead th {\n",
              "        text-align: right;\n",
              "    }\n",
              "</style>\n",
              "<table border=\"1\" class=\"dataframe\">\n",
              "  <thead>\n",
              "    <tr style=\"text-align: right;\">\n",
              "      <th></th>\n",
              "      <th>ID</th>\n",
              "      <th>Diagnosis</th>\n",
              "      <th>Radius_mean</th>\n",
              "      <th>Texture_mean</th>\n",
              "      <th>Perimeter_mean</th>\n",
              "      <th>Area_mean</th>\n",
              "      <th>Smoothness_mean</th>\n",
              "      <th>Compactness_mean</th>\n",
              "      <th>Concavity_mean</th>\n",
              "      <th>Concave_points_mean</th>\n",
              "      <th>Symmetry_mean</th>\n",
              "      <th>Fractal_dimension_mean</th>\n",
              "      <th>Radius_se</th>\n",
              "      <th>Texture_se</th>\n",
              "      <th>Perimeter_se</th>\n",
              "      <th>Area_se</th>\n",
              "      <th>Smoothness_se</th>\n",
              "      <th>Compactness_se</th>\n",
              "      <th>Concavity_se</th>\n",
              "      <th>Concave_points_se</th>\n",
              "      <th>Symmetry_se</th>\n",
              "      <th>Fractal_dimension_se</th>\n",
              "      <th>Radius_worst</th>\n",
              "      <th>Texture_worst</th>\n",
              "      <th>Perimeter_worst</th>\n",
              "      <th>Area_worst</th>\n",
              "      <th>Smoothness_worst</th>\n",
              "      <th>Compactness_worst</th>\n",
              "      <th>Concavity_worst</th>\n",
              "      <th>Concave_points_worst</th>\n",
              "      <th>Symmetry_worst</th>\n",
              "      <th>Fractal_dimension_worst</th>\n",
              "    </tr>\n",
              "  </thead>\n",
              "  <tbody>\n",
              "    <tr>\n",
              "      <th>0</th>\n",
              "      <td>842302</td>\n",
              "      <td>M</td>\n",
              "      <td>17.99</td>\n",
              "      <td>10.38</td>\n",
              "      <td>122.80</td>\n",
              "      <td>1001.0</td>\n",
              "      <td>0.11840</td>\n",
              "      <td>0.27760</td>\n",
              "      <td>0.30010</td>\n",
              "      <td>0.14710</td>\n",
              "      <td>0.2419</td>\n",
              "      <td>0.07871</td>\n",
              "      <td>1.0950</td>\n",
              "      <td>0.9053</td>\n",
              "      <td>8.589</td>\n",
              "      <td>153.40</td>\n",
              "      <td>0.006399</td>\n",
              "      <td>0.04904</td>\n",
              "      <td>0.05373</td>\n",
              "      <td>0.01587</td>\n",
              "      <td>0.03003</td>\n",
              "      <td>0.006193</td>\n",
              "      <td>25.38</td>\n",
              "      <td>17.33</td>\n",
              "      <td>184.60</td>\n",
              "      <td>2019.0</td>\n",
              "      <td>0.1622</td>\n",
              "      <td>0.6656</td>\n",
              "      <td>0.7119</td>\n",
              "      <td>0.2654</td>\n",
              "      <td>0.4601</td>\n",
              "      <td>0.11890</td>\n",
              "    </tr>\n",
              "    <tr>\n",
              "      <th>1</th>\n",
              "      <td>842517</td>\n",
              "      <td>M</td>\n",
              "      <td>20.57</td>\n",
              "      <td>17.77</td>\n",
              "      <td>132.90</td>\n",
              "      <td>1326.0</td>\n",
              "      <td>0.08474</td>\n",
              "      <td>0.07864</td>\n",
              "      <td>0.08690</td>\n",
              "      <td>0.07017</td>\n",
              "      <td>0.1812</td>\n",
              "      <td>0.05667</td>\n",
              "      <td>0.5435</td>\n",
              "      <td>0.7339</td>\n",
              "      <td>3.398</td>\n",
              "      <td>74.08</td>\n",
              "      <td>0.005225</td>\n",
              "      <td>0.01308</td>\n",
              "      <td>0.01860</td>\n",
              "      <td>0.01340</td>\n",
              "      <td>0.01389</td>\n",
              "      <td>0.003532</td>\n",
              "      <td>24.99</td>\n",
              "      <td>23.41</td>\n",
              "      <td>158.80</td>\n",
              "      <td>1956.0</td>\n",
              "      <td>0.1238</td>\n",
              "      <td>0.1866</td>\n",
              "      <td>0.2416</td>\n",
              "      <td>0.1860</td>\n",
              "      <td>0.2750</td>\n",
              "      <td>0.08902</td>\n",
              "    </tr>\n",
              "    <tr>\n",
              "      <th>2</th>\n",
              "      <td>84300903</td>\n",
              "      <td>M</td>\n",
              "      <td>19.69</td>\n",
              "      <td>21.25</td>\n",
              "      <td>130.00</td>\n",
              "      <td>1203.0</td>\n",
              "      <td>0.10960</td>\n",
              "      <td>0.15990</td>\n",
              "      <td>0.19740</td>\n",
              "      <td>0.12790</td>\n",
              "      <td>0.2069</td>\n",
              "      <td>0.05999</td>\n",
              "      <td>0.7456</td>\n",
              "      <td>0.7869</td>\n",
              "      <td>4.585</td>\n",
              "      <td>94.03</td>\n",
              "      <td>0.006150</td>\n",
              "      <td>0.04006</td>\n",
              "      <td>0.03832</td>\n",
              "      <td>0.02058</td>\n",
              "      <td>0.02250</td>\n",
              "      <td>0.004571</td>\n",
              "      <td>23.57</td>\n",
              "      <td>25.53</td>\n",
              "      <td>152.50</td>\n",
              "      <td>1709.0</td>\n",
              "      <td>0.1444</td>\n",
              "      <td>0.4245</td>\n",
              "      <td>0.4504</td>\n",
              "      <td>0.2430</td>\n",
              "      <td>0.3613</td>\n",
              "      <td>0.08758</td>\n",
              "    </tr>\n",
              "    <tr>\n",
              "      <th>3</th>\n",
              "      <td>84348301</td>\n",
              "      <td>M</td>\n",
              "      <td>11.42</td>\n",
              "      <td>20.38</td>\n",
              "      <td>77.58</td>\n",
              "      <td>386.1</td>\n",
              "      <td>0.14250</td>\n",
              "      <td>0.28390</td>\n",
              "      <td>0.24140</td>\n",
              "      <td>0.10520</td>\n",
              "      <td>0.2597</td>\n",
              "      <td>0.09744</td>\n",
              "      <td>0.4956</td>\n",
              "      <td>1.1560</td>\n",
              "      <td>3.445</td>\n",
              "      <td>27.23</td>\n",
              "      <td>0.009110</td>\n",
              "      <td>0.07458</td>\n",
              "      <td>0.05661</td>\n",
              "      <td>0.01867</td>\n",
              "      <td>0.05963</td>\n",
              "      <td>0.009208</td>\n",
              "      <td>14.91</td>\n",
              "      <td>26.50</td>\n",
              "      <td>98.87</td>\n",
              "      <td>567.7</td>\n",
              "      <td>0.2098</td>\n",
              "      <td>0.8663</td>\n",
              "      <td>0.6869</td>\n",
              "      <td>0.2575</td>\n",
              "      <td>0.6638</td>\n",
              "      <td>0.17300</td>\n",
              "    </tr>\n",
              "    <tr>\n",
              "      <th>4</th>\n",
              "      <td>84358402</td>\n",
              "      <td>M</td>\n",
              "      <td>20.29</td>\n",
              "      <td>14.34</td>\n",
              "      <td>135.10</td>\n",
              "      <td>1297.0</td>\n",
              "      <td>0.10030</td>\n",
              "      <td>0.13280</td>\n",
              "      <td>0.19800</td>\n",
              "      <td>0.10430</td>\n",
              "      <td>0.1809</td>\n",
              "      <td>0.05883</td>\n",
              "      <td>0.7572</td>\n",
              "      <td>0.7813</td>\n",
              "      <td>5.438</td>\n",
              "      <td>94.44</td>\n",
              "      <td>0.011490</td>\n",
              "      <td>0.02461</td>\n",
              "      <td>0.05688</td>\n",
              "      <td>0.01885</td>\n",
              "      <td>0.01756</td>\n",
              "      <td>0.005115</td>\n",
              "      <td>22.54</td>\n",
              "      <td>16.67</td>\n",
              "      <td>152.20</td>\n",
              "      <td>1575.0</td>\n",
              "      <td>0.1374</td>\n",
              "      <td>0.2050</td>\n",
              "      <td>0.4000</td>\n",
              "      <td>0.1625</td>\n",
              "      <td>0.2364</td>\n",
              "      <td>0.07678</td>\n",
              "    </tr>\n",
              "    <tr>\n",
              "      <th>5</th>\n",
              "      <td>843786</td>\n",
              "      <td>M</td>\n",
              "      <td>12.45</td>\n",
              "      <td>15.70</td>\n",
              "      <td>82.57</td>\n",
              "      <td>477.1</td>\n",
              "      <td>0.12780</td>\n",
              "      <td>0.17000</td>\n",
              "      <td>0.15780</td>\n",
              "      <td>0.08089</td>\n",
              "      <td>0.2087</td>\n",
              "      <td>0.07613</td>\n",
              "      <td>0.3345</td>\n",
              "      <td>0.8902</td>\n",
              "      <td>2.217</td>\n",
              "      <td>27.19</td>\n",
              "      <td>0.007510</td>\n",
              "      <td>0.03345</td>\n",
              "      <td>0.03672</td>\n",
              "      <td>0.01137</td>\n",
              "      <td>0.02165</td>\n",
              "      <td>0.005082</td>\n",
              "      <td>15.47</td>\n",
              "      <td>23.75</td>\n",
              "      <td>103.40</td>\n",
              "      <td>741.6</td>\n",
              "      <td>0.1791</td>\n",
              "      <td>0.5249</td>\n",
              "      <td>0.5355</td>\n",
              "      <td>0.1741</td>\n",
              "      <td>0.3985</td>\n",
              "      <td>0.12440</td>\n",
              "    </tr>\n",
              "    <tr>\n",
              "      <th>6</th>\n",
              "      <td>844359</td>\n",
              "      <td>M</td>\n",
              "      <td>18.25</td>\n",
              "      <td>19.98</td>\n",
              "      <td>119.60</td>\n",
              "      <td>1040.0</td>\n",
              "      <td>0.09463</td>\n",
              "      <td>0.10900</td>\n",
              "      <td>0.11270</td>\n",
              "      <td>0.07400</td>\n",
              "      <td>0.1794</td>\n",
              "      <td>0.05742</td>\n",
              "      <td>0.4467</td>\n",
              "      <td>0.7732</td>\n",
              "      <td>3.180</td>\n",
              "      <td>53.91</td>\n",
              "      <td>0.004314</td>\n",
              "      <td>0.01382</td>\n",
              "      <td>0.02254</td>\n",
              "      <td>0.01039</td>\n",
              "      <td>0.01369</td>\n",
              "      <td>0.002179</td>\n",
              "      <td>22.88</td>\n",
              "      <td>27.66</td>\n",
              "      <td>153.20</td>\n",
              "      <td>1606.0</td>\n",
              "      <td>0.1442</td>\n",
              "      <td>0.2576</td>\n",
              "      <td>0.3784</td>\n",
              "      <td>0.1932</td>\n",
              "      <td>0.3063</td>\n",
              "      <td>0.08368</td>\n",
              "    </tr>\n",
              "    <tr>\n",
              "      <th>7</th>\n",
              "      <td>84458202</td>\n",
              "      <td>M</td>\n",
              "      <td>13.71</td>\n",
              "      <td>20.83</td>\n",
              "      <td>90.20</td>\n",
              "      <td>577.9</td>\n",
              "      <td>0.11890</td>\n",
              "      <td>0.16450</td>\n",
              "      <td>0.09366</td>\n",
              "      <td>0.05985</td>\n",
              "      <td>0.2196</td>\n",
              "      <td>0.07451</td>\n",
              "      <td>0.5835</td>\n",
              "      <td>1.3770</td>\n",
              "      <td>3.856</td>\n",
              "      <td>50.96</td>\n",
              "      <td>0.008805</td>\n",
              "      <td>0.03029</td>\n",
              "      <td>0.02488</td>\n",
              "      <td>0.01448</td>\n",
              "      <td>0.01486</td>\n",
              "      <td>0.005412</td>\n",
              "      <td>17.06</td>\n",
              "      <td>28.14</td>\n",
              "      <td>110.60</td>\n",
              "      <td>897.0</td>\n",
              "      <td>0.1654</td>\n",
              "      <td>0.3682</td>\n",
              "      <td>0.2678</td>\n",
              "      <td>0.1556</td>\n",
              "      <td>0.3196</td>\n",
              "      <td>0.11510</td>\n",
              "    </tr>\n",
              "    <tr>\n",
              "      <th>8</th>\n",
              "      <td>844981</td>\n",
              "      <td>M</td>\n",
              "      <td>13.00</td>\n",
              "      <td>21.82</td>\n",
              "      <td>87.50</td>\n",
              "      <td>519.8</td>\n",
              "      <td>0.12730</td>\n",
              "      <td>0.19320</td>\n",
              "      <td>0.18590</td>\n",
              "      <td>0.09353</td>\n",
              "      <td>0.2350</td>\n",
              "      <td>0.07389</td>\n",
              "      <td>0.3063</td>\n",
              "      <td>1.0020</td>\n",
              "      <td>2.406</td>\n",
              "      <td>24.32</td>\n",
              "      <td>0.005731</td>\n",
              "      <td>0.03502</td>\n",
              "      <td>0.03553</td>\n",
              "      <td>0.01226</td>\n",
              "      <td>0.02143</td>\n",
              "      <td>0.003749</td>\n",
              "      <td>15.49</td>\n",
              "      <td>30.73</td>\n",
              "      <td>106.20</td>\n",
              "      <td>739.3</td>\n",
              "      <td>0.1703</td>\n",
              "      <td>0.5401</td>\n",
              "      <td>0.5390</td>\n",
              "      <td>0.2060</td>\n",
              "      <td>0.4378</td>\n",
              "      <td>0.10720</td>\n",
              "    </tr>\n",
              "    <tr>\n",
              "      <th>9</th>\n",
              "      <td>84501001</td>\n",
              "      <td>M</td>\n",
              "      <td>12.46</td>\n",
              "      <td>24.04</td>\n",
              "      <td>83.97</td>\n",
              "      <td>475.9</td>\n",
              "      <td>0.11860</td>\n",
              "      <td>0.23960</td>\n",
              "      <td>0.22730</td>\n",
              "      <td>0.08543</td>\n",
              "      <td>0.2030</td>\n",
              "      <td>0.08243</td>\n",
              "      <td>0.2976</td>\n",
              "      <td>1.5990</td>\n",
              "      <td>2.039</td>\n",
              "      <td>23.94</td>\n",
              "      <td>0.007149</td>\n",
              "      <td>0.07217</td>\n",
              "      <td>0.07743</td>\n",
              "      <td>0.01432</td>\n",
              "      <td>0.01789</td>\n",
              "      <td>0.010080</td>\n",
              "      <td>15.09</td>\n",
              "      <td>40.68</td>\n",
              "      <td>97.65</td>\n",
              "      <td>711.4</td>\n",
              "      <td>0.1853</td>\n",
              "      <td>1.0580</td>\n",
              "      <td>1.1050</td>\n",
              "      <td>0.2210</td>\n",
              "      <td>0.4366</td>\n",
              "      <td>0.20750</td>\n",
              "    </tr>\n",
              "  </tbody>\n",
              "</table>\n",
              "</div>"
            ],
            "text/plain": [
              "         ID Diagnosis  ...  Symmetry_worst  Fractal_dimension_worst\n",
              "0    842302         M  ...          0.4601                  0.11890\n",
              "1    842517         M  ...          0.2750                  0.08902\n",
              "2  84300903         M  ...          0.3613                  0.08758\n",
              "3  84348301         M  ...          0.6638                  0.17300\n",
              "4  84358402         M  ...          0.2364                  0.07678\n",
              "5    843786         M  ...          0.3985                  0.12440\n",
              "6    844359         M  ...          0.3063                  0.08368\n",
              "7  84458202         M  ...          0.3196                  0.11510\n",
              "8    844981         M  ...          0.4378                  0.10720\n",
              "9  84501001         M  ...          0.4366                  0.20750\n",
              "\n",
              "[10 rows x 32 columns]"
            ]
          },
          "metadata": {
            "tags": []
          },
          "execution_count": 175
        }
      ]
    },
    {
      "cell_type": "markdown",
      "metadata": {
        "id": "ylks1CpjISgc",
        "colab_type": "text"
      },
      "source": [
        "Looking at the first 10 entries, it is obvious that only the target variable is **categorical**. Besides, we can notice that some variables diverge considerably in orders of magnitude (from 10^3 to 10^-2).   "
      ]
    },
    {
      "cell_type": "code",
      "metadata": {
        "id": "O9oAIjL60aRo",
        "colab_type": "code",
        "outputId": "6e46d4f4-11ef-4499-8ec4-ddae670b3d5b",
        "colab": {
          "base_uri": "https://localhost:8080/",
          "height": 605
        }
      },
      "source": [
        "# Name and type of each variable in the DataFrame\n",
        "print(f'{\"Features and its Types\":-^50}\\n')\n",
        "df.dtypes"
      ],
      "execution_count": 176,
      "outputs": [
        {
          "output_type": "stream",
          "text": [
            "--------------Features and its Types--------------\n",
            "\n"
          ],
          "name": "stdout"
        },
        {
          "output_type": "execute_result",
          "data": {
            "text/plain": [
              "ID                           int64\n",
              "Diagnosis                   object\n",
              "Radius_mean                float64\n",
              "Texture_mean               float64\n",
              "Perimeter_mean             float64\n",
              "Area_mean                  float64\n",
              "Smoothness_mean            float64\n",
              "Compactness_mean           float64\n",
              "Concavity_mean             float64\n",
              "Concave_points_mean        float64\n",
              "Symmetry_mean              float64\n",
              "Fractal_dimension_mean     float64\n",
              "Radius_se                  float64\n",
              "Texture_se                 float64\n",
              "Perimeter_se               float64\n",
              "Area_se                    float64\n",
              "Smoothness_se              float64\n",
              "Compactness_se             float64\n",
              "Concavity_se               float64\n",
              "Concave_points_se          float64\n",
              "Symmetry_se                float64\n",
              "Fractal_dimension_se       float64\n",
              "Radius_worst               float64\n",
              "Texture_worst              float64\n",
              "Perimeter_worst            float64\n",
              "Area_worst                 float64\n",
              "Smoothness_worst           float64\n",
              "Compactness_worst          float64\n",
              "Concavity_worst            float64\n",
              "Concave_points_worst       float64\n",
              "Symmetry_worst             float64\n",
              "Fractal_dimension_worst    float64\n",
              "dtype: object"
            ]
          },
          "metadata": {
            "tags": []
          },
          "execution_count": 176
        }
      ]
    },
    {
      "cell_type": "markdown",
      "metadata": {
        "id": "ZXV_5FbhHPZG",
        "colab_type": "text"
      },
      "source": [
        "Observing the code output above, the **ID** variable **numerical** and **discrete**. The **Diagnosis** variable is **Categorical** and **nominal** and the other 30 features are **numerical** and **continuous**."
      ]
    },
    {
      "cell_type": "code",
      "metadata": {
        "id": "qA1uthyM1JKz",
        "colab_type": "code",
        "outputId": "9035f029-80e7-47fc-835b-313354fb2999",
        "colab": {
          "base_uri": "https://localhost:8080/",
          "height": 520
        }
      },
      "source": [
        "# Statistical summary of the numerical variables\n",
        "print(f'{\" Numerical Variables Statistics \":-^100}\\n')\n",
        "display(df.describe())\n",
        "\n",
        "# Statistical summary of the categorical variables\n",
        "print(f'{\" Categorical Variables Statistics \":-^100}\\n')\n",
        "display(df.describe(include=['O']))"
      ],
      "execution_count": 177,
      "outputs": [
        {
          "output_type": "stream",
          "text": [
            "---------------------------------- Numerical Variables Statistics ----------------------------------\n",
            "\n"
          ],
          "name": "stdout"
        },
        {
          "output_type": "display_data",
          "data": {
            "text/html": [
              "<div>\n",
              "<style scoped>\n",
              "    .dataframe tbody tr th:only-of-type {\n",
              "        vertical-align: middle;\n",
              "    }\n",
              "\n",
              "    .dataframe tbody tr th {\n",
              "        vertical-align: top;\n",
              "    }\n",
              "\n",
              "    .dataframe thead th {\n",
              "        text-align: right;\n",
              "    }\n",
              "</style>\n",
              "<table border=\"1\" class=\"dataframe\">\n",
              "  <thead>\n",
              "    <tr style=\"text-align: right;\">\n",
              "      <th></th>\n",
              "      <th>ID</th>\n",
              "      <th>Radius_mean</th>\n",
              "      <th>Texture_mean</th>\n",
              "      <th>Perimeter_mean</th>\n",
              "      <th>Area_mean</th>\n",
              "      <th>Smoothness_mean</th>\n",
              "      <th>Compactness_mean</th>\n",
              "      <th>Concavity_mean</th>\n",
              "      <th>Concave_points_mean</th>\n",
              "      <th>Symmetry_mean</th>\n",
              "      <th>Fractal_dimension_mean</th>\n",
              "      <th>Radius_se</th>\n",
              "      <th>Texture_se</th>\n",
              "      <th>Perimeter_se</th>\n",
              "      <th>Area_se</th>\n",
              "      <th>Smoothness_se</th>\n",
              "      <th>Compactness_se</th>\n",
              "      <th>Concavity_se</th>\n",
              "      <th>Concave_points_se</th>\n",
              "      <th>Symmetry_se</th>\n",
              "      <th>Fractal_dimension_se</th>\n",
              "      <th>Radius_worst</th>\n",
              "      <th>Texture_worst</th>\n",
              "      <th>Perimeter_worst</th>\n",
              "      <th>Area_worst</th>\n",
              "      <th>Smoothness_worst</th>\n",
              "      <th>Compactness_worst</th>\n",
              "      <th>Concavity_worst</th>\n",
              "      <th>Concave_points_worst</th>\n",
              "      <th>Symmetry_worst</th>\n",
              "      <th>Fractal_dimension_worst</th>\n",
              "    </tr>\n",
              "  </thead>\n",
              "  <tbody>\n",
              "    <tr>\n",
              "      <th>count</th>\n",
              "      <td>5.690000e+02</td>\n",
              "      <td>569.000000</td>\n",
              "      <td>569.000000</td>\n",
              "      <td>569.000000</td>\n",
              "      <td>569.000000</td>\n",
              "      <td>569.000000</td>\n",
              "      <td>569.000000</td>\n",
              "      <td>569.000000</td>\n",
              "      <td>569.000000</td>\n",
              "      <td>569.000000</td>\n",
              "      <td>569.000000</td>\n",
              "      <td>569.000000</td>\n",
              "      <td>569.000000</td>\n",
              "      <td>569.000000</td>\n",
              "      <td>569.000000</td>\n",
              "      <td>569.000000</td>\n",
              "      <td>569.000000</td>\n",
              "      <td>569.000000</td>\n",
              "      <td>569.000000</td>\n",
              "      <td>569.000000</td>\n",
              "      <td>569.000000</td>\n",
              "      <td>569.000000</td>\n",
              "      <td>569.000000</td>\n",
              "      <td>569.000000</td>\n",
              "      <td>569.000000</td>\n",
              "      <td>569.000000</td>\n",
              "      <td>569.000000</td>\n",
              "      <td>569.000000</td>\n",
              "      <td>569.000000</td>\n",
              "      <td>569.000000</td>\n",
              "      <td>569.000000</td>\n",
              "    </tr>\n",
              "    <tr>\n",
              "      <th>mean</th>\n",
              "      <td>3.037183e+07</td>\n",
              "      <td>14.127292</td>\n",
              "      <td>19.289649</td>\n",
              "      <td>91.969033</td>\n",
              "      <td>654.889104</td>\n",
              "      <td>0.096360</td>\n",
              "      <td>0.104341</td>\n",
              "      <td>0.088799</td>\n",
              "      <td>0.048919</td>\n",
              "      <td>0.181162</td>\n",
              "      <td>0.062798</td>\n",
              "      <td>0.405172</td>\n",
              "      <td>1.216853</td>\n",
              "      <td>2.866059</td>\n",
              "      <td>40.337079</td>\n",
              "      <td>0.007041</td>\n",
              "      <td>0.025478</td>\n",
              "      <td>0.031894</td>\n",
              "      <td>0.011796</td>\n",
              "      <td>0.020542</td>\n",
              "      <td>0.003795</td>\n",
              "      <td>16.269190</td>\n",
              "      <td>25.677223</td>\n",
              "      <td>107.261213</td>\n",
              "      <td>880.583128</td>\n",
              "      <td>0.132369</td>\n",
              "      <td>0.254265</td>\n",
              "      <td>0.272188</td>\n",
              "      <td>0.114606</td>\n",
              "      <td>0.290076</td>\n",
              "      <td>0.083946</td>\n",
              "    </tr>\n",
              "    <tr>\n",
              "      <th>std</th>\n",
              "      <td>1.250206e+08</td>\n",
              "      <td>3.524049</td>\n",
              "      <td>4.301036</td>\n",
              "      <td>24.298981</td>\n",
              "      <td>351.914129</td>\n",
              "      <td>0.014064</td>\n",
              "      <td>0.052813</td>\n",
              "      <td>0.079720</td>\n",
              "      <td>0.038803</td>\n",
              "      <td>0.027414</td>\n",
              "      <td>0.007060</td>\n",
              "      <td>0.277313</td>\n",
              "      <td>0.551648</td>\n",
              "      <td>2.021855</td>\n",
              "      <td>45.491006</td>\n",
              "      <td>0.003003</td>\n",
              "      <td>0.017908</td>\n",
              "      <td>0.030186</td>\n",
              "      <td>0.006170</td>\n",
              "      <td>0.008266</td>\n",
              "      <td>0.002646</td>\n",
              "      <td>4.833242</td>\n",
              "      <td>6.146258</td>\n",
              "      <td>33.602542</td>\n",
              "      <td>569.356993</td>\n",
              "      <td>0.022832</td>\n",
              "      <td>0.157336</td>\n",
              "      <td>0.208624</td>\n",
              "      <td>0.065732</td>\n",
              "      <td>0.061867</td>\n",
              "      <td>0.018061</td>\n",
              "    </tr>\n",
              "    <tr>\n",
              "      <th>min</th>\n",
              "      <td>8.670000e+03</td>\n",
              "      <td>6.981000</td>\n",
              "      <td>9.710000</td>\n",
              "      <td>43.790000</td>\n",
              "      <td>143.500000</td>\n",
              "      <td>0.052630</td>\n",
              "      <td>0.019380</td>\n",
              "      <td>0.000000</td>\n",
              "      <td>0.000000</td>\n",
              "      <td>0.106000</td>\n",
              "      <td>0.049960</td>\n",
              "      <td>0.111500</td>\n",
              "      <td>0.360200</td>\n",
              "      <td>0.757000</td>\n",
              "      <td>6.802000</td>\n",
              "      <td>0.001713</td>\n",
              "      <td>0.002252</td>\n",
              "      <td>0.000000</td>\n",
              "      <td>0.000000</td>\n",
              "      <td>0.007882</td>\n",
              "      <td>0.000895</td>\n",
              "      <td>7.930000</td>\n",
              "      <td>12.020000</td>\n",
              "      <td>50.410000</td>\n",
              "      <td>185.200000</td>\n",
              "      <td>0.071170</td>\n",
              "      <td>0.027290</td>\n",
              "      <td>0.000000</td>\n",
              "      <td>0.000000</td>\n",
              "      <td>0.156500</td>\n",
              "      <td>0.055040</td>\n",
              "    </tr>\n",
              "    <tr>\n",
              "      <th>25%</th>\n",
              "      <td>8.692180e+05</td>\n",
              "      <td>11.700000</td>\n",
              "      <td>16.170000</td>\n",
              "      <td>75.170000</td>\n",
              "      <td>420.300000</td>\n",
              "      <td>0.086370</td>\n",
              "      <td>0.064920</td>\n",
              "      <td>0.029560</td>\n",
              "      <td>0.020310</td>\n",
              "      <td>0.161900</td>\n",
              "      <td>0.057700</td>\n",
              "      <td>0.232400</td>\n",
              "      <td>0.833900</td>\n",
              "      <td>1.606000</td>\n",
              "      <td>17.850000</td>\n",
              "      <td>0.005169</td>\n",
              "      <td>0.013080</td>\n",
              "      <td>0.015090</td>\n",
              "      <td>0.007638</td>\n",
              "      <td>0.015160</td>\n",
              "      <td>0.002248</td>\n",
              "      <td>13.010000</td>\n",
              "      <td>21.080000</td>\n",
              "      <td>84.110000</td>\n",
              "      <td>515.300000</td>\n",
              "      <td>0.116600</td>\n",
              "      <td>0.147200</td>\n",
              "      <td>0.114500</td>\n",
              "      <td>0.064930</td>\n",
              "      <td>0.250400</td>\n",
              "      <td>0.071460</td>\n",
              "    </tr>\n",
              "    <tr>\n",
              "      <th>50%</th>\n",
              "      <td>9.060240e+05</td>\n",
              "      <td>13.370000</td>\n",
              "      <td>18.840000</td>\n",
              "      <td>86.240000</td>\n",
              "      <td>551.100000</td>\n",
              "      <td>0.095870</td>\n",
              "      <td>0.092630</td>\n",
              "      <td>0.061540</td>\n",
              "      <td>0.033500</td>\n",
              "      <td>0.179200</td>\n",
              "      <td>0.061540</td>\n",
              "      <td>0.324200</td>\n",
              "      <td>1.108000</td>\n",
              "      <td>2.287000</td>\n",
              "      <td>24.530000</td>\n",
              "      <td>0.006380</td>\n",
              "      <td>0.020450</td>\n",
              "      <td>0.025890</td>\n",
              "      <td>0.010930</td>\n",
              "      <td>0.018730</td>\n",
              "      <td>0.003187</td>\n",
              "      <td>14.970000</td>\n",
              "      <td>25.410000</td>\n",
              "      <td>97.660000</td>\n",
              "      <td>686.500000</td>\n",
              "      <td>0.131300</td>\n",
              "      <td>0.211900</td>\n",
              "      <td>0.226700</td>\n",
              "      <td>0.099930</td>\n",
              "      <td>0.282200</td>\n",
              "      <td>0.080040</td>\n",
              "    </tr>\n",
              "    <tr>\n",
              "      <th>75%</th>\n",
              "      <td>8.813129e+06</td>\n",
              "      <td>15.780000</td>\n",
              "      <td>21.800000</td>\n",
              "      <td>104.100000</td>\n",
              "      <td>782.700000</td>\n",
              "      <td>0.105300</td>\n",
              "      <td>0.130400</td>\n",
              "      <td>0.130700</td>\n",
              "      <td>0.074000</td>\n",
              "      <td>0.195700</td>\n",
              "      <td>0.066120</td>\n",
              "      <td>0.478900</td>\n",
              "      <td>1.474000</td>\n",
              "      <td>3.357000</td>\n",
              "      <td>45.190000</td>\n",
              "      <td>0.008146</td>\n",
              "      <td>0.032450</td>\n",
              "      <td>0.042050</td>\n",
              "      <td>0.014710</td>\n",
              "      <td>0.023480</td>\n",
              "      <td>0.004558</td>\n",
              "      <td>18.790000</td>\n",
              "      <td>29.720000</td>\n",
              "      <td>125.400000</td>\n",
              "      <td>1084.000000</td>\n",
              "      <td>0.146000</td>\n",
              "      <td>0.339100</td>\n",
              "      <td>0.382900</td>\n",
              "      <td>0.161400</td>\n",
              "      <td>0.317900</td>\n",
              "      <td>0.092080</td>\n",
              "    </tr>\n",
              "    <tr>\n",
              "      <th>max</th>\n",
              "      <td>9.113205e+08</td>\n",
              "      <td>28.110000</td>\n",
              "      <td>39.280000</td>\n",
              "      <td>188.500000</td>\n",
              "      <td>2501.000000</td>\n",
              "      <td>0.163400</td>\n",
              "      <td>0.345400</td>\n",
              "      <td>0.426800</td>\n",
              "      <td>0.201200</td>\n",
              "      <td>0.304000</td>\n",
              "      <td>0.097440</td>\n",
              "      <td>2.873000</td>\n",
              "      <td>4.885000</td>\n",
              "      <td>21.980000</td>\n",
              "      <td>542.200000</td>\n",
              "      <td>0.031130</td>\n",
              "      <td>0.135400</td>\n",
              "      <td>0.396000</td>\n",
              "      <td>0.052790</td>\n",
              "      <td>0.078950</td>\n",
              "      <td>0.029840</td>\n",
              "      <td>36.040000</td>\n",
              "      <td>49.540000</td>\n",
              "      <td>251.200000</td>\n",
              "      <td>4254.000000</td>\n",
              "      <td>0.222600</td>\n",
              "      <td>1.058000</td>\n",
              "      <td>1.252000</td>\n",
              "      <td>0.291000</td>\n",
              "      <td>0.663800</td>\n",
              "      <td>0.207500</td>\n",
              "    </tr>\n",
              "  </tbody>\n",
              "</table>\n",
              "</div>"
            ],
            "text/plain": [
              "                 ID  Radius_mean  ...  Symmetry_worst  Fractal_dimension_worst\n",
              "count  5.690000e+02   569.000000  ...      569.000000               569.000000\n",
              "mean   3.037183e+07    14.127292  ...        0.290076                 0.083946\n",
              "std    1.250206e+08     3.524049  ...        0.061867                 0.018061\n",
              "min    8.670000e+03     6.981000  ...        0.156500                 0.055040\n",
              "25%    8.692180e+05    11.700000  ...        0.250400                 0.071460\n",
              "50%    9.060240e+05    13.370000  ...        0.282200                 0.080040\n",
              "75%    8.813129e+06    15.780000  ...        0.317900                 0.092080\n",
              "max    9.113205e+08    28.110000  ...        0.663800                 0.207500\n",
              "\n",
              "[8 rows x 31 columns]"
            ]
          },
          "metadata": {
            "tags": []
          }
        },
        {
          "output_type": "stream",
          "text": [
            "--------------------------------- Categorical Variables Statistics ---------------------------------\n",
            "\n"
          ],
          "name": "stdout"
        },
        {
          "output_type": "display_data",
          "data": {
            "text/html": [
              "<div>\n",
              "<style scoped>\n",
              "    .dataframe tbody tr th:only-of-type {\n",
              "        vertical-align: middle;\n",
              "    }\n",
              "\n",
              "    .dataframe tbody tr th {\n",
              "        vertical-align: top;\n",
              "    }\n",
              "\n",
              "    .dataframe thead th {\n",
              "        text-align: right;\n",
              "    }\n",
              "</style>\n",
              "<table border=\"1\" class=\"dataframe\">\n",
              "  <thead>\n",
              "    <tr style=\"text-align: right;\">\n",
              "      <th></th>\n",
              "      <th>Diagnosis</th>\n",
              "    </tr>\n",
              "  </thead>\n",
              "  <tbody>\n",
              "    <tr>\n",
              "      <th>count</th>\n",
              "      <td>569</td>\n",
              "    </tr>\n",
              "    <tr>\n",
              "      <th>unique</th>\n",
              "      <td>2</td>\n",
              "    </tr>\n",
              "    <tr>\n",
              "      <th>top</th>\n",
              "      <td>B</td>\n",
              "    </tr>\n",
              "    <tr>\n",
              "      <th>freq</th>\n",
              "      <td>357</td>\n",
              "    </tr>\n",
              "  </tbody>\n",
              "</table>\n",
              "</div>"
            ],
            "text/plain": [
              "       Diagnosis\n",
              "count        569\n",
              "unique         2\n",
              "top            B\n",
              "freq         357"
            ]
          },
          "metadata": {
            "tags": []
          }
        }
      ]
    },
    {
      "cell_type": "markdown",
      "metadata": {
        "id": "JCmZjZls16tF",
        "colab_type": "text"
      },
      "source": [
        "Through the **describe()** method statistics, we can make an assumption that no missing values exist in the dataset, and apparently there are no outliers too.\n",
        "\n",
        "Refering to the target variable, we can notice that only malignant (M) and benign (B) values exist in the dataset, and the last one is more frequent, happening 357 out of 569 samples. Given that, we can also confirm that we are dealing with a classification and supervised learning problem.\n",
        "\n",
        "Continuing, we can assure that our previous assumptions are correct through the **isnull()** method, and then check for how many unique values there are for each atribute (with **nunique()** method)."
      ]
    },
    {
      "cell_type": "code",
      "metadata": {
        "id": "qlxxsB0_KpmT",
        "colab_type": "code",
        "outputId": "417a8736-cc04-4958-fb33-92f4636d8330",
        "colab": {
          "base_uri": "https://localhost:8080/",
          "height": 605
        }
      },
      "source": [
        "# Checking for missing values\n",
        "print(f'{\"Missing Values\":-^50}\\n')\n",
        "df.isnull().sum()"
      ],
      "execution_count": 178,
      "outputs": [
        {
          "output_type": "stream",
          "text": [
            "------------------Missing Values------------------\n",
            "\n"
          ],
          "name": "stdout"
        },
        {
          "output_type": "execute_result",
          "data": {
            "text/plain": [
              "ID                         0\n",
              "Diagnosis                  0\n",
              "Radius_mean                0\n",
              "Texture_mean               0\n",
              "Perimeter_mean             0\n",
              "Area_mean                  0\n",
              "Smoothness_mean            0\n",
              "Compactness_mean           0\n",
              "Concavity_mean             0\n",
              "Concave_points_mean        0\n",
              "Symmetry_mean              0\n",
              "Fractal_dimension_mean     0\n",
              "Radius_se                  0\n",
              "Texture_se                 0\n",
              "Perimeter_se               0\n",
              "Area_se                    0\n",
              "Smoothness_se              0\n",
              "Compactness_se             0\n",
              "Concavity_se               0\n",
              "Concave_points_se          0\n",
              "Symmetry_se                0\n",
              "Fractal_dimension_se       0\n",
              "Radius_worst               0\n",
              "Texture_worst              0\n",
              "Perimeter_worst            0\n",
              "Area_worst                 0\n",
              "Smoothness_worst           0\n",
              "Compactness_worst          0\n",
              "Concavity_worst            0\n",
              "Concave_points_worst       0\n",
              "Symmetry_worst             0\n",
              "Fractal_dimension_worst    0\n",
              "dtype: int64"
            ]
          },
          "metadata": {
            "tags": []
          },
          "execution_count": 178
        }
      ]
    },
    {
      "cell_type": "code",
      "metadata": {
        "id": "VByAD1QlPbmB",
        "colab_type": "code",
        "outputId": "5b78528f-0106-41af-87ea-ec5d27586ccf",
        "colab": {
          "base_uri": "https://localhost:8080/",
          "height": 605
        }
      },
      "source": [
        "# How many unique values per atribute\n",
        "print(f'{\"Unique Values\":-^50}\\n')\n",
        "df.nunique().sort_values(ascending = True) "
      ],
      "execution_count": 179,
      "outputs": [
        {
          "output_type": "stream",
          "text": [
            "------------------Unique Values-------------------\n",
            "\n"
          ],
          "name": "stdout"
        },
        {
          "output_type": "execute_result",
          "data": {
            "text/plain": [
              "Diagnosis                    2\n",
              "Smoothness_worst           411\n",
              "Symmetry_mean              432\n",
              "Radius_mean                456\n",
              "Radius_worst               457\n",
              "Smoothness_mean            474\n",
              "Texture_mean               479\n",
              "Concave_points_worst       492\n",
              "Symmetry_se                498\n",
              "Fractal_dimension_mean     499\n",
              "Symmetry_worst             500\n",
              "Concave_points_se          507\n",
              "Texture_worst              511\n",
              "Perimeter_worst            514\n",
              "Texture_se                 519\n",
              "Perimeter_mean             522\n",
              "Area_se                    528\n",
              "Compactness_worst          529\n",
              "Perimeter_se               533\n",
              "Concavity_se               533\n",
              "Fractal_dimension_worst    535\n",
              "Concavity_mean             537\n",
              "Compactness_mean           537\n",
              "Concavity_worst            539\n",
              "Area_mean                  539\n",
              "Radius_se                  540\n",
              "Compactness_se             541\n",
              "Concave_points_mean        542\n",
              "Area_worst                 544\n",
              "Fractal_dimension_se       545\n",
              "Smoothness_se              547\n",
              "ID                         569\n",
              "dtype: int64"
            ]
          },
          "metadata": {
            "tags": []
          },
          "execution_count": 179
        }
      ]
    },
    {
      "cell_type": "markdown",
      "metadata": {
        "id": "Fd-jUK70P3G_",
        "colab_type": "text"
      },
      "source": [
        "In this dataset scenario there's only two possible outcomes for the target variable (Diagnosis), but in other circunstances it might be helpful to go for a graphical visualization on how a variable is distributed. So now I will use a bar plot to visualize the Diagnosis distribution and after I will plot the histograms for all the numerical variables available in the DF, as a strategy to observe a possible statistical distribution of a given variable. "
      ]
    },
    {
      "cell_type": "code",
      "metadata": {
        "id": "ZyPx3J8sp9AP",
        "colab_type": "code",
        "outputId": "3c7e49a1-538d-4665-d944-148ea6278df2",
        "colab": {
          "base_uri": "https://localhost:8080/",
          "height": 396
        }
      },
      "source": [
        "# Bar plot for the Diagnosis variable\n",
        "fig, ax = plt.subplots()\n",
        "sns.countplot('Diagnosis', data=df, ax=ax)\n",
        "ax.set_title(\"Diagnosis\")\n",
        "plt.show()\n",
        "\n",
        "# Percentage of each diagnosis outcome\n",
        "print('\\nOutcomes percentages:\\n')\n",
        "print(df.Diagnosis.value_counts() / df.shape[0] * 100)\n"
      ],
      "execution_count": 180,
      "outputs": [
        {
          "output_type": "display_data",
          "data": {
            "image/png": "[encoded data removed]",
            "text/plain": [
              "<Figure size 432x288 with 1 Axes>"
            ]
          },
          "metadata": {
            "tags": []
          }
        },
        {
          "output_type": "stream",
          "text": [
            "\n",
            "Outcomes percentages:\n",
            "\n",
            "B    62.741652\n",
            "M    37.258348\n",
            "Name: Diagnosis, dtype: float64\n"
          ],
          "name": "stdout"
        }
      ]
    },
    {
      "cell_type": "code",
      "metadata": {
        "id": "enlvVcaJrCnO",
        "colab_type": "code",
        "outputId": "1d935520-35a7-4057-c429-c9a5fe248980",
        "colab": {
          "base_uri": "https://localhost:8080/",
          "height": 729
        }
      },
      "source": [
        "df.hist(figsize=(15, 10))\n",
        "plt.tight_layout();"
      ],
      "execution_count": 181,
      "outputs": [
        {
          "output_type": "display_data",
          "data": {
            "image/png": "[encoded data removed]",
            "text/plain": [
              "<Figure size 1080x720 with 36 Axes>"
            ]
          },
          "metadata": {
            "tags": []
          }
        }
      ]
    },
    {
      "cell_type": "markdown",
      "metadata": {
        "id": "jOM4Jl1Us3EJ",
        "colab_type": "text"
      },
      "source": [
        "Pay close attention on how some variables as well distributed around a mean value (having some similarity with a normal distribution). On the other hand, some features are centered to lower values (left side), representing greater values of standard deviation.\n",
        "\n",
        "As an alternative to visualize how each variable is correlated with each other, an interesting approach is to plot a **heatmap** of numerical variables, assigning colors and with different intensities to identify positive correlations (red) and negative correlations (blue).\n",
        "\n"
      ]
    },
    {
      "cell_type": "code",
      "metadata": {
        "id": "ahMTl7kms3Lr",
        "colab_type": "code",
        "outputId": "a601183c-c079-46c4-d259-a32831a58e5b",
        "colab": {
          "base_uri": "https://localhost:8080/",
          "height": 661
        }
      },
      "source": [
        "# Plotting a heatmap for numerical variables\n",
        "fig, ax = plt.subplots(figsize=(10,10))\n",
        "sns.heatmap(df.corr(method='pearson'), cmap='coolwarm', fmt='.2f', linewidths=0.1,\n",
        "            vmax=1.0, square=True, linecolor='white', annot=False);"
      ],
      "execution_count": 182,
      "outputs": [
        {
          "output_type": "display_data",
          "data": {
            "image/png": "[encoded data removed]",
            "text/plain": [
              "<Figure size 720x720 with 2 Axes>"
            ]
          },
          "metadata": {
            "tags": []
          }
        }
      ]
    },
    {
      "cell_type": "markdown",
      "metadata": {
        "id": "LSvwcwjwvpSX",
        "colab_type": "text"
      },
      "source": [
        "At this point, it's obvious how the variable **ID** doesn't add any valuable information to our analysis, so we can remove it from the DF when the pre-processing step comes.\n",
        "\n",
        "Lastly, notice how many variables have high values of positive correlation between each other. Some of then are quite intuitive (radius, perimeter and area have a direct relation mathematically, for example), but others aren't at all, so it's really important to use these graphical aids to help us to see these relatioships.\n",
        "\n",
        "# 3. Data Pre-processing\n",
        "\n",
        "All the study made so far will be favorable to prepare the dataset for further training our Machine Learning model. The steps that will be considered at next, for a preliminary model result, are: \n",
        "\n",
        "* Evaluate which features have no importance to the model performance and remove then from our dataset\n",
        "\n",
        "* Separate our **target** variable (Diagnosis) from our **independent** variables;\n",
        "\n",
        "* Since all independent variables are numerical and continuous, let's weigh the necessity of using **standardization** in the data *(comparing results with our trained model)*;\n",
        "\n",
        "* Check if it is necessary to encode  (transform from categorical to numerical) the **target** variable *(comparing results with our trained model)*;\n",
        "\n",
        "* At last, separate the DataFrame between train and test portions.\n",
        "\n"
      ]
    },
    {
      "cell_type": "code",
      "metadata": {
        "id": "VdS7_l7AMPUg",
        "colab_type": "code",
        "outputId": "f7eaa859-73d5-48b2-c537-7f13238e782b",
        "colab": {
          "base_uri": "https://localhost:8080/",
          "height": 97
        }
      },
      "source": [
        "# Remove non-important features\n",
        "x = df.copy()\n",
        "x.drop('ID', axis=1, inplace=True)\n",
        "x.head(1)"
      ],
      "execution_count": 197,
      "outputs": [
        {
          "output_type": "execute_result",
          "data": {
            "text/html": [
              "<div>\n",
              "<style scoped>\n",
              "    .dataframe tbody tr th:only-of-type {\n",
              "        vertical-align: middle;\n",
              "    }\n",
              "\n",
              "    .dataframe tbody tr th {\n",
              "        vertical-align: top;\n",
              "    }\n",
              "\n",
              "    .dataframe thead th {\n",
              "        text-align: right;\n",
              "    }\n",
              "</style>\n",
              "<table border=\"1\" class=\"dataframe\">\n",
              "  <thead>\n",
              "    <tr style=\"text-align: right;\">\n",
              "      <th></th>\n",
              "      <th>Diagnosis</th>\n",
              "      <th>Radius_mean</th>\n",
              "      <th>Texture_mean</th>\n",
              "      <th>Perimeter_mean</th>\n",
              "      <th>Area_mean</th>\n",
              "      <th>Smoothness_mean</th>\n",
              "      <th>Compactness_mean</th>\n",
              "      <th>Concavity_mean</th>\n",
              "      <th>Concave_points_mean</th>\n",
              "      <th>Symmetry_mean</th>\n",
              "      <th>Fractal_dimension_mean</th>\n",
              "      <th>Radius_se</th>\n",
              "      <th>Texture_se</th>\n",
              "      <th>Perimeter_se</th>\n",
              "      <th>Area_se</th>\n",
              "      <th>Smoothness_se</th>\n",
              "      <th>Compactness_se</th>\n",
              "      <th>Concavity_se</th>\n",
              "      <th>Concave_points_se</th>\n",
              "      <th>Symmetry_se</th>\n",
              "      <th>Fractal_dimension_se</th>\n",
              "      <th>Radius_worst</th>\n",
              "      <th>Texture_worst</th>\n",
              "      <th>Perimeter_worst</th>\n",
              "      <th>Area_worst</th>\n",
              "      <th>Smoothness_worst</th>\n",
              "      <th>Compactness_worst</th>\n",
              "      <th>Concavity_worst</th>\n",
              "      <th>Concave_points_worst</th>\n",
              "      <th>Symmetry_worst</th>\n",
              "      <th>Fractal_dimension_worst</th>\n",
              "    </tr>\n",
              "  </thead>\n",
              "  <tbody>\n",
              "    <tr>\n",
              "      <th>0</th>\n",
              "      <td>M</td>\n",
              "      <td>17.99</td>\n",
              "      <td>10.38</td>\n",
              "      <td>122.8</td>\n",
              "      <td>1001.0</td>\n",
              "      <td>0.1184</td>\n",
              "      <td>0.2776</td>\n",
              "      <td>0.3001</td>\n",
              "      <td>0.1471</td>\n",
              "      <td>0.2419</td>\n",
              "      <td>0.07871</td>\n",
              "      <td>1.095</td>\n",
              "      <td>0.9053</td>\n",
              "      <td>8.589</td>\n",
              "      <td>153.4</td>\n",
              "      <td>0.006399</td>\n",
              "      <td>0.04904</td>\n",
              "      <td>0.05373</td>\n",
              "      <td>0.01587</td>\n",
              "      <td>0.03003</td>\n",
              "      <td>0.006193</td>\n",
              "      <td>25.38</td>\n",
              "      <td>17.33</td>\n",
              "      <td>184.6</td>\n",
              "      <td>2019.0</td>\n",
              "      <td>0.1622</td>\n",
              "      <td>0.6656</td>\n",
              "      <td>0.7119</td>\n",
              "      <td>0.2654</td>\n",
              "      <td>0.4601</td>\n",
              "      <td>0.1189</td>\n",
              "    </tr>\n",
              "  </tbody>\n",
              "</table>\n",
              "</div>"
            ],
            "text/plain": [
              "  Diagnosis  Radius_mean  ...  Symmetry_worst  Fractal_dimension_worst\n",
              "0         M        17.99  ...          0.4601                   0.1189\n",
              "\n",
              "[1 rows x 31 columns]"
            ]
          },
          "metadata": {
            "tags": []
          },
          "execution_count": 197
        }
      ]
    },
    {
      "cell_type": "markdown",
      "metadata": {
        "id": "Po0a3IOvM_WT",
        "colab_type": "text"
      },
      "source": [
        "First we notice that the **ID** feature has no importance to our model predictions, it's only an identification number of a previous image and doesn't influence the classification between a malignant and benign tumor. The remaining variables seem to share their correlatino between each other.\n",
        "\n",
        "Now, let's separate the **Diagnosis** variable (target) from the rest."
      ]
    },
    {
      "cell_type": "code",
      "metadata": {
        "id": "w3cUTRBlOkJN",
        "colab_type": "code",
        "outputId": "db66aaa8-72de-4826-f6ff-17c4ebd20bbc",
        "colab": {
          "base_uri": "https://localhost:8080/",
          "height": 50
        }
      },
      "source": [
        "# Separating the target from the independent variables\n",
        "y = x.Diagnosis.copy()\n",
        "x.drop('Diagnosis', axis=1, inplace=True)\n",
        "print(f'x = {x.shape}')\n",
        "print(f'y = {y.shape}')"
      ],
      "execution_count": 198,
      "outputs": [
        {
          "output_type": "stream",
          "text": [
            "x = (569, 30)\n",
            "y = (569,)\n"
          ],
          "name": "stdout"
        }
      ]
    },
    {
      "cell_type": "markdown",
      "metadata": {
        "id": "OAVZ2YvjSL7v",
        "colab_type": "text"
      },
      "source": [
        "For now, we will use a **standardization** technique from **sklearn.preprocessing** library called **StandardScaler**, and later, with our ML model defined we will check if this procedure results in a performance improvement for our model."
      ]
    },
    {
      "cell_type": "code",
      "metadata": {
        "id": "VZeKnuX-TpsI",
        "colab_type": "code",
        "outputId": "7ad229d3-3498-49cf-ef0a-39d74b905f36",
        "colab": {
          "base_uri": "https://localhost:8080/",
          "height": 118
        }
      },
      "source": [
        "# Standardizing the independent variables\n",
        "from sklearn.preprocessing import StandardScaler\n",
        "x = StandardScaler().fit_transform(x)\n",
        "x[0,:]"
      ],
      "execution_count": 201,
      "outputs": [
        {
          "output_type": "execute_result",
          "data": {
            "text/plain": [
              "array([ 1.09706398, -2.07333501,  1.26993369,  0.9843749 ,  1.56846633,\n",
              "        3.28351467,  2.65287398,  2.53247522,  2.21751501,  2.25574689,\n",
              "        2.48973393, -0.56526506,  2.83303087,  2.48757756, -0.21400165,\n",
              "        1.31686157,  0.72402616,  0.66081994,  1.14875667,  0.90708308,\n",
              "        1.88668963, -1.35929347,  2.30360062,  2.00123749,  1.30768627,\n",
              "        2.61666502,  2.10952635,  2.29607613,  2.75062224,  1.93701461])"
            ]
          },
          "metadata": {
            "tags": []
          },
          "execution_count": 201
        }
      ]
    },
    {
      "cell_type": "markdown",
      "metadata": {
        "id": "gQvBFS9CVd2c",
        "colab_type": "text"
      },
      "source": [
        "Next, we will use an **encoding** library, also from **sklearn.preprocessing**, called **LabelEncoder** to convert the **Diagnosis** variable from categorical to numerical. Later, with our ML model defined we will check if this step is really necessary to our training algorithm."
      ]
    },
    {
      "cell_type": "code",
      "metadata": {
        "id": "CdIc9e_hYXjN",
        "colab_type": "code",
        "outputId": "b083e051-5512-4ef1-c76d-bee84e1911a8",
        "colab": {
          "base_uri": "https://localhost:8080/",
          "height": 84
        }
      },
      "source": [
        "# Enconding the target variable\n",
        "from sklearn.preprocessing import LabelEncoder\n",
        "y = LabelEncoder().fit_transform(y)\n",
        "print(y[0:20])\n",
        "print('\\nM =\\t1\\nB =\\t0')"
      ],
      "execution_count": 202,
      "outputs": [
        {
          "output_type": "stream",
          "text": [
            "[1 1 1 1 1 1 1 1 1 1 1 1 1 1 1 1 1 1 1 0]\n",
            "\n",
            "M =\t1\n",
            "B =\t0\n"
          ],
          "name": "stdout"
        }
      ]
    },
    {
      "cell_type": "markdown",
      "metadata": {
        "id": "j1gtabM2Y_zF",
        "colab_type": "text"
      },
      "source": [
        "Lastly, let's divide the **x** and **y** datasets  randomly into the **train** and **test** parts. For that I'm using the **train_test_split** from the **sklearn.model_selection** library."
      ]
    },
    {
      "cell_type": "code",
      "metadata": {
        "id": "_XGLpsZCjzGr",
        "colab_type": "code",
        "outputId": "3b2b4f06-479e-40c3-8adb-64e53c92e1a5",
        "colab": {
          "base_uri": "https://localhost:8080/",
          "height": 269
        }
      },
      "source": [
        "# Obtaining the train and test datasets\n",
        "from sklearn.model_selection import train_test_split\n",
        "x_train, x_test, y_train, y_test = train_test_split(x, y, train_size = 0.7, test_size = 0.3, random_state=0)\n",
        "print(f'x_train = {x_train[0:1]}\\n')\n",
        "print(f'x_test = {x_test[0:1]}\\n')\n",
        "print(f'y_train = {y_train[0:5]}\\n')\n",
        "print(f'y_test = {y_test[0:5]}')"
      ],
      "execution_count": 203,
      "outputs": [
        {
          "output_type": "stream",
          "text": [
            "x_train = [[-0.74902829 -1.09363975 -0.74055999 -0.71099466  0.58638323 -0.41808829\n",
            "  -0.44845498 -0.75393607 -0.11908877  0.41711442 -0.72823773 -0.09226561\n",
            "  -0.64307408 -0.57198019 -0.6946878  -0.24245658  0.32050519 -0.60960616\n",
            "  -0.25575397 -0.06842713 -0.80124161 -0.61509735 -0.75123496 -0.72598829\n",
            "   0.1241172  -0.3388401  -0.06039354 -0.61357437  0.06510643  0.43524596]]\n",
            "\n",
            "x_test = [[-0.20656118  0.28631105 -0.13712355 -0.27925989  1.01337588  0.80655631\n",
            "   0.69932048  0.84606465  1.11127916  1.48173507 -0.05259361 -0.51936216\n",
            "   0.11234263 -0.14668714 -0.54234829 -0.15806338  0.08707975  0.25042949\n",
            "  -0.42284231  0.07946914  0.02915933  0.64857047  0.17987034 -0.06360678\n",
            "   1.09727399  0.83547382  1.14378486  1.37791231  1.10695714  1.49368807]]\n",
            "\n",
            "y_train = [0 0 0 1 0]\n",
            "\n",
            "y_test = [1 0 0 0 0]\n"
          ],
          "name": "stdout"
        }
      ]
    },
    {
      "cell_type": "markdown",
      "metadata": {
        "id": "eFEnCnLbmKh7",
        "colab_type": "text"
      },
      "source": [
        "# 4. Machine Learning Model Creation\n",
        "\n",
        "From the start of this project, giving the first look at the data, we have seen that the **target** variable could only assume **two** possible values (M = malignant and B = benign). Clear characteristic of a classification problem.\n",
        "\n",
        "The Machine Learning model should be able to **classify** if a tumor is **malignant** or **benign** based on **30 different features** given as input for each image.\n",
        "\n",
        "Having the definition about the nature of the problem, I choose to make a performance comparison between a **Decision Tree** classifier (which is a simpler and faster model) and a **Random Forest** classifier (which is an **ensemble** of decision trees, so it's more robust, accurate and slower).\n",
        "\n",
        "Let's start by creating our Decision Tree model:"
      ]
    },
    {
      "cell_type": "code",
      "metadata": {
        "id": "G4S9G4bymJ8X",
        "colab_type": "code",
        "outputId": "071d02af-da95-4a94-eb9d-7d9093ca9d93",
        "colab": {
          "base_uri": "https://localhost:8080/",
          "height": 118
        }
      },
      "source": [
        "from sklearn.tree import DecisionTreeClassifier\n",
        "dt_model = DecisionTreeClassifier(criterion='entropy', random_state=3)\n",
        "dt_model.fit(x_train, y_train)"
      ],
      "execution_count": 228,
      "outputs": [
        {
          "output_type": "execute_result",
          "data": {
            "text/plain": [
              "DecisionTreeClassifier(ccp_alpha=0.0, class_weight=None, criterion='entropy',\n",
              "                       max_depth=None, max_features=None, max_leaf_nodes=None,\n",
              "                       min_impurity_decrease=0.0, min_impurity_split=None,\n",
              "                       min_samples_leaf=1, min_samples_split=2,\n",
              "                       min_weight_fraction_leaf=0.0, presort='deprecated',\n",
              "                       random_state=3, splitter='best')"
            ]
          },
          "metadata": {
            "tags": []
          },
          "execution_count": 228
        }
      ]
    },
    {
      "cell_type": "markdown",
      "metadata": {
        "id": "WSZoAwGUOM6Q",
        "colab_type": "text"
      },
      "source": [
        "**Let's check some performance parameters of our new model:**"
      ]
    },
    {
      "cell_type": "code",
      "metadata": {
        "id": "AfXpgthIOlqU",
        "colab_type": "code",
        "outputId": "e86e87e8-6063-4e98-893d-95f631efb5d5",
        "colab": {
          "base_uri": "https://localhost:8080/",
          "height": 218
        }
      },
      "source": [
        "from sklearn.metrics import classification_report, accuracy_score, confusion_matrix\n",
        "\n",
        "# Making predictions for our test dataset\n",
        "y_pred = dt_model.predict(x_test)\n",
        "\n",
        "# Printing the accuracy score\n",
        "print(f'[Accuracy] Decision Tree: {accuracy_score(y_test, y_pred)}')\n",
        "\n",
        "# Getting the classification report\n",
        "print('\\n[Classification Report] Decision Tree')\n",
        "print(classification_report(y_test, y_pred))"
      ],
      "execution_count": 229,
      "outputs": [
        {
          "output_type": "stream",
          "text": [
            "[Accuracy] Decision Tree: 0.9707602339181286\n",
            "\n",
            "[Classification Report] Decision Tree\n",
            "              precision    recall  f1-score   support\n",
            "\n",
            "           0       0.98      0.97      0.98       108\n",
            "           1       0.95      0.97      0.96        63\n",
            "\n",
            "    accuracy                           0.97       171\n",
            "   macro avg       0.97      0.97      0.97       171\n",
            "weighted avg       0.97      0.97      0.97       171\n",
            "\n"
          ],
          "name": "stdout"
        }
      ]
    },
    {
      "cell_type": "markdown",
      "metadata": {
        "id": "I-Odjqf6fNzK",
        "colab_type": "text"
      },
      "source": [
        "It is important to keep in mind that every problem has its differences, and having a great accuracy doesn't mean that your model is superb or optimized.\n",
        "\n",
        "For a cancer detection problem, it's straight forward to assume that maximizing the number of **true positives** is important and also minimize the number of **false negatives**, bringing reliability to the diagnosis. But, to balance a model is a hard task and the trade-offs to achieve the optimum point can be very subjective.   \n",
        "To do so, let's inspect the confusion matrix."
      ]
    },
    {
      "cell_type": "code",
      "metadata": {
        "id": "--ny9oSEQYoo",
        "colab_type": "code",
        "outputId": "38add503-96a4-42e4-968b-9e8a4d585a8a",
        "colab": {
          "base_uri": "https://localhost:8080/",
          "height": 106
        }
      },
      "source": [
        "# Checking the confusion matrix\n",
        "pd.DataFrame(confusion_matrix(y_test, y_pred),\n",
        "             index=['B', 'M'], columns=['pred_B', 'pred_M'])"
      ],
      "execution_count": 230,
      "outputs": [
        {
          "output_type": "execute_result",
          "data": {
            "text/html": [
              "<div>\n",
              "<style scoped>\n",
              "    .dataframe tbody tr th:only-of-type {\n",
              "        vertical-align: middle;\n",
              "    }\n",
              "\n",
              "    .dataframe tbody tr th {\n",
              "        vertical-align: top;\n",
              "    }\n",
              "\n",
              "    .dataframe thead th {\n",
              "        text-align: right;\n",
              "    }\n",
              "</style>\n",
              "<table border=\"1\" class=\"dataframe\">\n",
              "  <thead>\n",
              "    <tr style=\"text-align: right;\">\n",
              "      <th></th>\n",
              "      <th>pred_B</th>\n",
              "      <th>pred_M</th>\n",
              "    </tr>\n",
              "  </thead>\n",
              "  <tbody>\n",
              "    <tr>\n",
              "      <th>B</th>\n",
              "      <td>105</td>\n",
              "      <td>3</td>\n",
              "    </tr>\n",
              "    <tr>\n",
              "      <th>M</th>\n",
              "      <td>2</td>\n",
              "      <td>61</td>\n",
              "    </tr>\n",
              "  </tbody>\n",
              "</table>\n",
              "</div>"
            ],
            "text/plain": [
              "   pred_B  pred_M\n",
              "B     105       3\n",
              "M       2      61"
            ]
          },
          "metadata": {
            "tags": []
          },
          "execution_count": 230
        }
      ]
    },
    {
      "cell_type": "markdown",
      "metadata": {
        "id": "lmh6fCwzipGS",
        "colab_type": "text"
      },
      "source": [
        "Now, let's do the same steps for a Random Forest Classifier:"
      ]
    },
    {
      "cell_type": "code",
      "metadata": {
        "id": "IWGzQLuFSDYt",
        "colab_type": "code",
        "outputId": "60dca0df-2f6c-4d36-9f5e-52cc1e1fc2ab",
        "colab": {
          "base_uri": "https://localhost:8080/",
          "height": 151
        }
      },
      "source": [
        "from sklearn.ensemble import RandomForestClassifier\n",
        "rf_model = RandomForestClassifier(n_estimators=11, criterion='entropy', random_state=3)\n",
        "rf_model.fit(x_train, y_train)"
      ],
      "execution_count": 231,
      "outputs": [
        {
          "output_type": "execute_result",
          "data": {
            "text/plain": [
              "RandomForestClassifier(bootstrap=True, ccp_alpha=0.0, class_weight=None,\n",
              "                       criterion='entropy', max_depth=None, max_features='auto',\n",
              "                       max_leaf_nodes=None, max_samples=None,\n",
              "                       min_impurity_decrease=0.0, min_impurity_split=None,\n",
              "                       min_samples_leaf=1, min_samples_split=2,\n",
              "                       min_weight_fraction_leaf=0.0, n_estimators=11,\n",
              "                       n_jobs=None, oob_score=False, random_state=3, verbose=0,\n",
              "                       warm_start=False)"
            ]
          },
          "metadata": {
            "tags": []
          },
          "execution_count": 231
        }
      ]
    },
    {
      "cell_type": "code",
      "metadata": {
        "id": "DMdqgd3rSp5E",
        "colab_type": "code",
        "outputId": "a7dbc239-8bdc-4507-8c7e-f9187ba00740",
        "colab": {
          "base_uri": "https://localhost:8080/",
          "height": 308
        }
      },
      "source": [
        "# Making predictions for our test dataset\n",
        "y_pred = rf_model.predict(x_test)\n",
        "\n",
        "# Printing the accuracy score\n",
        "print(f'[Accuracy] Random Forest: {accuracy_score(y_test, y_pred)}')\n",
        "\n",
        "# Getting the classification report\n",
        "print('\\n[Classification Report] Random Forest')\n",
        "print(classification_report(y_test, y_pred))\n",
        "\n",
        "# Checking the confusion matrix\n",
        "pd.DataFrame(confusion_matrix(y_test, y_pred),\n",
        "             index=['B', 'M'], columns=['pred_B', 'pred_M'])"
      ],
      "execution_count": 232,
      "outputs": [
        {
          "output_type": "stream",
          "text": [
            "[Accuracy] Random Forest: 0.9824561403508771\n",
            "\n",
            "[Classification Report] Random Forest\n",
            "              precision    recall  f1-score   support\n",
            "\n",
            "           0       0.98      0.99      0.99       108\n",
            "           1       0.98      0.97      0.98        63\n",
            "\n",
            "    accuracy                           0.98       171\n",
            "   macro avg       0.98      0.98      0.98       171\n",
            "weighted avg       0.98      0.98      0.98       171\n",
            "\n"
          ],
          "name": "stdout"
        },
        {
          "output_type": "execute_result",
          "data": {
            "text/html": [
              "<div>\n",
              "<style scoped>\n",
              "    .dataframe tbody tr th:only-of-type {\n",
              "        vertical-align: middle;\n",
              "    }\n",
              "\n",
              "    .dataframe tbody tr th {\n",
              "        vertical-align: top;\n",
              "    }\n",
              "\n",
              "    .dataframe thead th {\n",
              "        text-align: right;\n",
              "    }\n",
              "</style>\n",
              "<table border=\"1\" class=\"dataframe\">\n",
              "  <thead>\n",
              "    <tr style=\"text-align: right;\">\n",
              "      <th></th>\n",
              "      <th>pred_B</th>\n",
              "      <th>pred_M</th>\n",
              "    </tr>\n",
              "  </thead>\n",
              "  <tbody>\n",
              "    <tr>\n",
              "      <th>B</th>\n",
              "      <td>107</td>\n",
              "      <td>1</td>\n",
              "    </tr>\n",
              "    <tr>\n",
              "      <th>M</th>\n",
              "      <td>2</td>\n",
              "      <td>61</td>\n",
              "    </tr>\n",
              "  </tbody>\n",
              "</table>\n",
              "</div>"
            ],
            "text/plain": [
              "   pred_B  pred_M\n",
              "B     107       1\n",
              "M       2      61"
            ]
          },
          "metadata": {
            "tags": []
          },
          "execution_count": 232
        }
      ]
    },
    {
      "cell_type": "markdown",
      "metadata": {
        "id": "_aHhxuI-AYgj",
        "colab_type": "text"
      },
      "source": [
        "It's now clear that the **Random Forest** model had a better performance to this dataset at cost of **11 estimators** (numbers of decision trees in the forest),as expected. No we need to answer if a **≈1%** accuracy gain compared to the **Decision Tree** model has an impactful importance to accomplish what you desire.  "
      ]
    },
    {
      "cell_type": "markdown",
      "metadata": {
        "id": "fGXcDJBaU7cM",
        "colab_type": "text"
      },
      "source": [
        "---\n",
        "\n",
        "I said before that I would find out if some of the pre-processing techniques were necessary to achieve these levels of performance using these classification model algorithms. Let's check the accuracy of the **Decision Tree** and **Random Forest** models without applying the **StandardScaler** and **LabelEnconder**."
      ]
    },
    {
      "cell_type": "code",
      "metadata": {
        "id": "_T6CXmOMV5sS",
        "colab_type": "code",
        "colab": {
          "base_uri": "https://localhost:8080/",
          "height": 50
        },
        "outputId": "3db93a60-ca37-4162-c437-7373b9205dcf"
      },
      "source": [
        "from sklearn.metrics import accuracy_score\n",
        "\n",
        "# Decision Tree\n",
        "from sklearn.tree import DecisionTreeClassifier\n",
        "dt_model = DecisionTreeClassifier(criterion='entropy', random_state=3)\n",
        "dt_model.fit(x_train, y_train)\n",
        "\n",
        "# Making predictions for our test dataset\n",
        "y_pred = dt_model.predict(x_test)\n",
        "\n",
        "# Printing the accuracy score\n",
        "print(f'[Accuracy] Decision Tree: {accuracy_score(y_test, y_pred)}')\n",
        "\n",
        "# --------------------------------------------------------------------\n",
        "\n",
        "# Random Forest\n",
        "from sklearn.ensemble import RandomForestClassifier\n",
        "rf_model = RandomForestClassifier(n_estimators=11, criterion='entropy', random_state=3)\n",
        "rf_model.fit(x_train, y_train)\n",
        "\n",
        "# Making predictions for our test dataset\n",
        "y_pred = rf_model.predict(x_test)\n",
        "\n",
        "# Printing the accuracy score\n",
        "print(f'[Accuracy] Random Forest: {accuracy_score(y_test, y_pred)}')"
      ],
      "execution_count": 200,
      "outputs": [
        {
          "output_type": "stream",
          "text": [
            "[Accuracy] Decision Tree: 0.9707602339181286\n",
            "[Accuracy] Random Forest: 0.9824561403508771\n"
          ],
          "name": "stdout"
        }
      ]
    },
    {
      "cell_type": "markdown",
      "metadata": {
        "id": "k4j9BE1jV6KJ",
        "colab_type": "text"
      },
      "source": [
        "We can observe that the results are pretty much the same if we do some extra processing or not, spending some time and processing cabability in the first case. This happens because most classification algorithms are able to take **categorical features** as the **target** variable, but they don't accept categorical features as **independent variable**.\n",
        "\n",
        "Decision Tree based models are also robust against numbers in different orders of magnitude in the dataset.\n",
        "\n",
        "\n",
        "\n",
        "# Breast Cancer Awareness and Machine Learning\n",
        "\n",
        "Despite the fact that the Breast Cancer Awareness campaign happens in October, this subject needs attention during the entire year given the importance of an early cancer diagnosis.\n",
        "\n",
        "This [Google Colab](https://colab.research.google.com/notebooks) notebook tries to exemplify how Artificial Intelligence (AI) can come to the aid of doctors to help on the diagnosis of a any disease. \n",
        "\n",
        "Improvements in this medical field associanted with Machine Learning are emerging constantly, and one of the main targets is on cancer detection.\n",
        "\n",
        "I hope I could give some help to this meaningful cause by creating this replicable notebook ;). "
      ]
    }
  ]
}