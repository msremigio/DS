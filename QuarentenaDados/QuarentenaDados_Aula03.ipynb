{
  "nbformat": 4,
  "nbformat_minor": 0,
  "metadata": {
    "colab": {
      "name": "QuarentenaDados - Aula03",
      "provenance": [],
      "collapsed_sections": [],
      "include_colab_link": true
    },
    "kernelspec": {
      "name": "python3",
      "display_name": "Python 3"
    }
  },
  "cells": [
    {
      "cell_type": "markdown",
      "metadata": {
        "id": "view-in-github",
        "colab_type": "text"
      },
      "source": [
        "<a href=\"https://colab.research.google.com/github/msremigio/projects_DataScience/blob/master/QuarentenaDados/QuarentenaDados_Aula03.ipynb\" target=\"_parent\"><img src=\"https://colab.research.google.com/assets/colab-badge.svg\" alt=\"Open In Colab\"/></a>"
      ]
    },
    {
      "cell_type": "markdown",
      "metadata": {
        "id": "91SEnJ5CcBzL",
        "colab_type": "text"
      },
      "source": [
        "# Introdução\n",
        "\n",
        "Olá, seja bem-vinda e bem-vindo ao notebook da **aula 03**! \n",
        "\n"
      ]
    },
    {
      "cell_type": "markdown",
      "metadata": {
        "id": "fAEWqh3otA2x",
        "colab_type": "text"
      },
      "source": [
        "Nessa aula utilizaremos uma base totalmente nova, que nós também não conhecíamos até o momento da análise. Você vai acompanhar a exploração e, principalmente, as dificuldades ao analisar uma base de dados desconhecida.\n",
        "\n",
        "Vamos começar importando a nossa base de dados! Nessa aula iremos trabalhar com a IMBD 5000, base que contém uma série de informações sobre filmes, sendo uma pequena amostra da famosa base de dados [IMBD](https://www.imdb.com/)."
      ]
    },
    {
      "cell_type": "code",
      "metadata": {
        "id": "WT2SZi9DtBDu",
        "colab_type": "code",
        "colab": {
          "base_uri": "https://localhost:8080/",
          "height": 350
        },
        "outputId": "0401abde-7416-4561-e4b7-b80cb2f2596c"
      },
      "source": [
        "import pandas as pd\n",
        "imdb = pd.read_csv(\"https://gist.githubusercontent.com/guilhermesilveira/24e271e68afe8fd257911217b88b2e07/raw/e70287fb1dcaad4215c3f3c9deda644058a616bc/movie_metadata.csv\")\n",
        "imdb.head()"
      ],
      "execution_count": 2,
      "outputs": [
        {
          "output_type": "execute_result",
          "data": {
            "text/html": [
              "<div>\n",
              "<style scoped>\n",
              "    .dataframe tbody tr th:only-of-type {\n",
              "        vertical-align: middle;\n",
              "    }\n",
              "\n",
              "    .dataframe tbody tr th {\n",
              "        vertical-align: top;\n",
              "    }\n",
              "\n",
              "    .dataframe thead th {\n",
              "        text-align: right;\n",
              "    }\n",
              "</style>\n",
              "<table border=\"1\" class=\"dataframe\">\n",
              "  <thead>\n",
              "    <tr style=\"text-align: right;\">\n",
              "      <th></th>\n",
              "      <th>color</th>\n",
              "      <th>director_name</th>\n",
              "      <th>num_critic_for_reviews</th>\n",
              "      <th>duration</th>\n",
              "      <th>director_facebook_likes</th>\n",
              "      <th>actor_3_facebook_likes</th>\n",
              "      <th>actor_2_name</th>\n",
              "      <th>actor_1_facebook_likes</th>\n",
              "      <th>gross</th>\n",
              "      <th>genres</th>\n",
              "      <th>actor_1_name</th>\n",
              "      <th>movie_title</th>\n",
              "      <th>num_voted_users</th>\n",
              "      <th>cast_total_facebook_likes</th>\n",
              "      <th>actor_3_name</th>\n",
              "      <th>facenumber_in_poster</th>\n",
              "      <th>plot_keywords</th>\n",
              "      <th>movie_imdb_link</th>\n",
              "      <th>num_user_for_reviews</th>\n",
              "      <th>language</th>\n",
              "      <th>country</th>\n",
              "      <th>content_rating</th>\n",
              "      <th>budget</th>\n",
              "      <th>title_year</th>\n",
              "      <th>actor_2_facebook_likes</th>\n",
              "      <th>imdb_score</th>\n",
              "      <th>aspect_ratio</th>\n",
              "      <th>movie_facebook_likes</th>\n",
              "    </tr>\n",
              "  </thead>\n",
              "  <tbody>\n",
              "    <tr>\n",
              "      <th>0</th>\n",
              "      <td>Color</td>\n",
              "      <td>James Cameron</td>\n",
              "      <td>723.0</td>\n",
              "      <td>178.0</td>\n",
              "      <td>0.0</td>\n",
              "      <td>855.0</td>\n",
              "      <td>Joel David Moore</td>\n",
              "      <td>1000.0</td>\n",
              "      <td>760505847.0</td>\n",
              "      <td>Action|Adventure|Fantasy|Sci-Fi</td>\n",
              "      <td>CCH Pounder</td>\n",
              "      <td>Avatar</td>\n",
              "      <td>886204</td>\n",
              "      <td>4834</td>\n",
              "      <td>Wes Studi</td>\n",
              "      <td>0.0</td>\n",
              "      <td>avatar|future|marine|native|paraplegic</td>\n",
              "      <td>http://www.imdb.com/title/tt0499549/?ref_=fn_t...</td>\n",
              "      <td>3054.0</td>\n",
              "      <td>English</td>\n",
              "      <td>USA</td>\n",
              "      <td>PG-13</td>\n",
              "      <td>237000000.0</td>\n",
              "      <td>2009.0</td>\n",
              "      <td>936.0</td>\n",
              "      <td>7.9</td>\n",
              "      <td>1.78</td>\n",
              "      <td>33000</td>\n",
              "    </tr>\n",
              "    <tr>\n",
              "      <th>1</th>\n",
              "      <td>Color</td>\n",
              "      <td>Gore Verbinski</td>\n",
              "      <td>302.0</td>\n",
              "      <td>169.0</td>\n",
              "      <td>563.0</td>\n",
              "      <td>1000.0</td>\n",
              "      <td>Orlando Bloom</td>\n",
              "      <td>40000.0</td>\n",
              "      <td>309404152.0</td>\n",
              "      <td>Action|Adventure|Fantasy</td>\n",
              "      <td>Johnny Depp</td>\n",
              "      <td>Pirates of the Caribbean: At World's End</td>\n",
              "      <td>471220</td>\n",
              "      <td>48350</td>\n",
              "      <td>Jack Davenport</td>\n",
              "      <td>0.0</td>\n",
              "      <td>goddess|marriage ceremony|marriage proposal|pi...</td>\n",
              "      <td>http://www.imdb.com/title/tt0449088/?ref_=fn_t...</td>\n",
              "      <td>1238.0</td>\n",
              "      <td>English</td>\n",
              "      <td>USA</td>\n",
              "      <td>PG-13</td>\n",
              "      <td>300000000.0</td>\n",
              "      <td>2007.0</td>\n",
              "      <td>5000.0</td>\n",
              "      <td>7.1</td>\n",
              "      <td>2.35</td>\n",
              "      <td>0</td>\n",
              "    </tr>\n",
              "    <tr>\n",
              "      <th>2</th>\n",
              "      <td>Color</td>\n",
              "      <td>Sam Mendes</td>\n",
              "      <td>602.0</td>\n",
              "      <td>148.0</td>\n",
              "      <td>0.0</td>\n",
              "      <td>161.0</td>\n",
              "      <td>Rory Kinnear</td>\n",
              "      <td>11000.0</td>\n",
              "      <td>200074175.0</td>\n",
              "      <td>Action|Adventure|Thriller</td>\n",
              "      <td>Christoph Waltz</td>\n",
              "      <td>Spectre</td>\n",
              "      <td>275868</td>\n",
              "      <td>11700</td>\n",
              "      <td>Stephanie Sigman</td>\n",
              "      <td>1.0</td>\n",
              "      <td>bomb|espionage|sequel|spy|terrorist</td>\n",
              "      <td>http://www.imdb.com/title/tt2379713/?ref_=fn_t...</td>\n",
              "      <td>994.0</td>\n",
              "      <td>English</td>\n",
              "      <td>UK</td>\n",
              "      <td>PG-13</td>\n",
              "      <td>245000000.0</td>\n",
              "      <td>2015.0</td>\n",
              "      <td>393.0</td>\n",
              "      <td>6.8</td>\n",
              "      <td>2.35</td>\n",
              "      <td>85000</td>\n",
              "    </tr>\n",
              "    <tr>\n",
              "      <th>3</th>\n",
              "      <td>Color</td>\n",
              "      <td>Christopher Nolan</td>\n",
              "      <td>813.0</td>\n",
              "      <td>164.0</td>\n",
              "      <td>22000.0</td>\n",
              "      <td>23000.0</td>\n",
              "      <td>Christian Bale</td>\n",
              "      <td>27000.0</td>\n",
              "      <td>448130642.0</td>\n",
              "      <td>Action|Thriller</td>\n",
              "      <td>Tom Hardy</td>\n",
              "      <td>The Dark Knight Rises</td>\n",
              "      <td>1144337</td>\n",
              "      <td>106759</td>\n",
              "      <td>Joseph Gordon-Levitt</td>\n",
              "      <td>0.0</td>\n",
              "      <td>deception|imprisonment|lawlessness|police offi...</td>\n",
              "      <td>http://www.imdb.com/title/tt1345836/?ref_=fn_t...</td>\n",
              "      <td>2701.0</td>\n",
              "      <td>English</td>\n",
              "      <td>USA</td>\n",
              "      <td>PG-13</td>\n",
              "      <td>250000000.0</td>\n",
              "      <td>2012.0</td>\n",
              "      <td>23000.0</td>\n",
              "      <td>8.5</td>\n",
              "      <td>2.35</td>\n",
              "      <td>164000</td>\n",
              "    </tr>\n",
              "    <tr>\n",
              "      <th>4</th>\n",
              "      <td>NaN</td>\n",
              "      <td>Doug Walker</td>\n",
              "      <td>NaN</td>\n",
              "      <td>NaN</td>\n",
              "      <td>131.0</td>\n",
              "      <td>NaN</td>\n",
              "      <td>Rob Walker</td>\n",
              "      <td>131.0</td>\n",
              "      <td>NaN</td>\n",
              "      <td>Documentary</td>\n",
              "      <td>Doug Walker</td>\n",
              "      <td>Star Wars: Episode VII - The Force Awakens    ...</td>\n",
              "      <td>8</td>\n",
              "      <td>143</td>\n",
              "      <td>NaN</td>\n",
              "      <td>0.0</td>\n",
              "      <td>NaN</td>\n",
              "      <td>http://www.imdb.com/title/tt5289954/?ref_=fn_t...</td>\n",
              "      <td>NaN</td>\n",
              "      <td>NaN</td>\n",
              "      <td>NaN</td>\n",
              "      <td>NaN</td>\n",
              "      <td>NaN</td>\n",
              "      <td>NaN</td>\n",
              "      <td>12.0</td>\n",
              "      <td>7.1</td>\n",
              "      <td>NaN</td>\n",
              "      <td>0</td>\n",
              "    </tr>\n",
              "  </tbody>\n",
              "</table>\n",
              "</div>"
            ],
            "text/plain": [
              "   color      director_name  ...  aspect_ratio  movie_facebook_likes\n",
              "0  Color      James Cameron  ...          1.78                 33000\n",
              "1  Color     Gore Verbinski  ...          2.35                     0\n",
              "2  Color         Sam Mendes  ...          2.35                 85000\n",
              "3  Color  Christopher Nolan  ...          2.35                164000\n",
              "4    NaN        Doug Walker  ...           NaN                     0\n",
              "\n",
              "[5 rows x 28 columns]"
            ]
          },
          "metadata": {
            "tags": []
          },
          "execution_count": 2
        }
      ]
    },
    {
      "cell_type": "markdown",
      "metadata": {
        "id": "5ql55hUatBYQ",
        "colab_type": "text"
      },
      "source": [
        "Uma das colunas que chamou mais a atenção foi a **color**. Vamos conhecer quais valores temos nesta coluna:"
      ]
    },
    {
      "cell_type": "code",
      "metadata": {
        "id": "VWUFrQnOtBh4",
        "colab_type": "code",
        "colab": {
          "base_uri": "https://localhost:8080/",
          "height": 34
        },
        "outputId": "402c0ffd-b800-402a-f582-49275948ec88"
      },
      "source": [
        "imdb[\"color\"].unique()"
      ],
      "execution_count": 3,
      "outputs": [
        {
          "output_type": "execute_result",
          "data": {
            "text/plain": [
              "array(['Color', nan, ' Black and White'], dtype=object)"
            ]
          },
          "metadata": {
            "tags": []
          },
          "execution_count": 3
        }
      ]
    },
    {
      "cell_type": "markdown",
      "metadata": {
        "id": "AQTY8dPEtBsY",
        "colab_type": "text"
      },
      "source": [
        "Verificamos que essa coluna **color** informa se o filme é colorido ou é preto e branco. Vamos descobrir agora quantos filmes de cada tipo nós temos:"
      ]
    },
    {
      "cell_type": "code",
      "metadata": {
        "id": "yOj4OOvZtB1x",
        "colab_type": "code",
        "colab": {
          "base_uri": "https://localhost:8080/",
          "height": 67
        },
        "outputId": "7a72a3d2-856c-4215-ce49-1e69c56805f8"
      },
      "source": [
        "imdb[\"color\"].value_counts()"
      ],
      "execution_count": 4,
      "outputs": [
        {
          "output_type": "execute_result",
          "data": {
            "text/plain": [
              "Color               4815\n",
              " Black and White     209\n",
              "Name: color, dtype: int64"
            ]
          },
          "metadata": {
            "tags": []
          },
          "execution_count": 4
        }
      ]
    },
    {
      "cell_type": "code",
      "metadata": {
        "id": "cNfbYSOytCFT",
        "colab_type": "code",
        "colab": {
          "base_uri": "https://localhost:8080/",
          "height": 67
        },
        "outputId": "72f4fe89-512e-4955-a9e2-92caed77204c"
      },
      "source": [
        "imdb[\"color\"].value_counts(normalize=True)"
      ],
      "execution_count": 5,
      "outputs": [
        {
          "output_type": "execute_result",
          "data": {
            "text/plain": [
              "Color               0.9584\n",
              " Black and White    0.0416\n",
              "Name: color, dtype: float64"
            ]
          },
          "metadata": {
            "tags": []
          },
          "execution_count": 5
        }
      ]
    },
    {
      "cell_type": "markdown",
      "metadata": {
        "id": "3tePSIE3tB-B",
        "colab_type": "text"
      },
      "source": [
        "Agora já descobrimos quantos filmes coloridos e preto e branco temos, e também sabemos que há mais de 5000 filmes na base. Fizemos algo novo, que foi chamar o `value_counts()`, passando o parâmetro **normalize como True**. Desse modo, já calculamos qual é a participação de cada um dos tipos de filmes (**95.84% são filmes coloridos**).\n",
        "\n",
        "Excelente! Agora vamos explorar outra coluna a fim de conhecer os diretores que tem mais filmes na nossa base de dados (**lembrando que nossa base é uma amostra muito pequena da realidade**)."
      ]
    },
    {
      "cell_type": "code",
      "metadata": {
        "id": "44ws5xEp2u4j",
        "colab_type": "code",
        "colab": {
          "base_uri": "https://localhost:8080/",
          "height": 218
        },
        "outputId": "5437540e-451a-40d5-c5e5-d5b8053bd92e"
      },
      "source": [
        "imdb[\"director_name\"].value_counts()"
      ],
      "execution_count": null,
      "outputs": [
        {
          "output_type": "execute_result",
          "data": {
            "text/plain": [
              "Steven Spielberg      26\n",
              "Woody Allen           22\n",
              "Clint Eastwood        20\n",
              "Martin Scorsese       20\n",
              "Ridley Scott          17\n",
              "                      ..\n",
              "Michael Meredith       1\n",
              "David Lam              1\n",
              "Michael J. Bassett     1\n",
              "Tod Williams           1\n",
              "Carlos Carrera         1\n",
              "Name: director_name, Length: 2398, dtype: int64"
            ]
          },
          "metadata": {
            "tags": []
          },
          "execution_count": 146
        }
      ]
    },
    {
      "cell_type": "markdown",
      "metadata": {
        "id": "mOPRwR2RtCOU",
        "colab_type": "text"
      },
      "source": [
        "**Steven Spielberg e Woody Allen** são os diretores com mais filmes no **IMDB 5000**.\n",
        "\n",
        "Continuando com nossa exploração de algumas informações, vamos olhar para o número de críticas por filmes."
      ]
    },
    {
      "cell_type": "code",
      "metadata": {
        "id": "cRLiIyZ_2taf",
        "colab_type": "code",
        "colab": {
          "base_uri": "https://localhost:8080/",
          "height": 218
        },
        "outputId": "1606e417-d6ea-4fd5-9f94-0c2ea2ab1081"
      },
      "source": [
        "imdb[\"num_critic_for_reviews\"]"
      ],
      "execution_count": null,
      "outputs": [
        {
          "output_type": "execute_result",
          "data": {
            "text/plain": [
              "0       723.0\n",
              "1       302.0\n",
              "2       602.0\n",
              "3       813.0\n",
              "4         NaN\n",
              "        ...  \n",
              "5038      1.0\n",
              "5039     43.0\n",
              "5040     13.0\n",
              "5041     14.0\n",
              "5042     43.0\n",
              "Name: num_critic_for_reviews, Length: 5043, dtype: float64"
            ]
          },
          "metadata": {
            "tags": []
          },
          "execution_count": 147
        }
      ]
    },
    {
      "cell_type": "code",
      "metadata": {
        "id": "5Ay0zINatCXy",
        "colab_type": "code",
        "colab": {
          "base_uri": "https://localhost:8080/",
          "height": 168
        },
        "outputId": "cbbeefac-4e5c-4c62-da17-c087b5598d6a"
      },
      "source": [
        "imdb[\"num_critic_for_reviews\"].describe()"
      ],
      "execution_count": null,
      "outputs": [
        {
          "output_type": "execute_result",
          "data": {
            "text/plain": [
              "count    4993.000000\n",
              "mean      140.194272\n",
              "std       121.601675\n",
              "min         1.000000\n",
              "25%        50.000000\n",
              "50%       110.000000\n",
              "75%       195.000000\n",
              "max       813.000000\n",
              "Name: num_critic_for_reviews, dtype: float64"
            ]
          },
          "metadata": {
            "tags": []
          },
          "execution_count": 148
        }
      ]
    },
    {
      "cell_type": "markdown",
      "metadata": {
        "id": "54vyj1tbtCgp",
        "colab_type": "text"
      },
      "source": [
        "Veja que as colunas **color** e **director_name** são *strings*, não fazendo sentido olhar para médias, medianas e afins. Olhar para o número de avaliações que um filme tem, por outro lado, pode ser interessante, por isso usamos o `.describe()`.\n",
        "\n",
        "Agora podemos plotar um histograma para avaliar o número de reviews."
      ]
    },
    {
      "cell_type": "code",
      "metadata": {
        "id": "IkXcdji3tCpb",
        "colab_type": "code",
        "colab": {
          "base_uri": "https://localhost:8080/",
          "height": 335
        },
        "outputId": "eede983b-089c-422f-e172-e71681cea82b"
      },
      "source": [
        "import seaborn as sns\n",
        "sns.set_style(\"whitegrid\")\n",
        "imdb[\"num_critic_for_reviews\"].plot(kind='hist')"
      ],
      "execution_count": 8,
      "outputs": [
        {
          "output_type": "stream",
          "text": [
            "/usr/local/lib/python3.6/dist-packages/statsmodels/tools/_testing.py:19: FutureWarning: pandas.util.testing is deprecated. Use the functions in the public API at pandas.testing instead.\n",
            "  import pandas.util.testing as tm\n"
          ],
          "name": "stderr"
        },
        {
          "output_type": "execute_result",
          "data": {
            "text/plain": [
              "<matplotlib.axes._subplots.AxesSubplot at 0x7fe960d5fc18>"
            ]
          },
          "metadata": {
            "tags": []
          },
          "execution_count": 8
        },
        {
          "output_type": "display_data",
          "data": {
            "image/png": "[encoded data removed]",
            "text/plain": [
              "<Figure size 432x288 with 1 Axes>"
            ]
          },
          "metadata": {
            "tags": []
          }
        }
      ]
    },
    {
      "cell_type": "markdown",
      "metadata": {
        "id": "qPG3UroitCyB",
        "colab_type": "text"
      },
      "source": [
        "Verificamos que poucos filmes tem mais de 500 votos, por isso um paralelo que podemos fazer é que filmes com muitos votos são mais populares e filmes com poucos votos não são tão populares. Logo, pelo histograma fica evidente que a minoria dos filmes fazem muito sucesso. Claro que não conseguimos afirmar isso com propriedade, pois, novamente, estamos lidando com um número restrito de dados, mas são pontos interessantes de se pensar.\n",
        "\n",
        "Outra informação interessante de se analisar, são os orçamentos e receitas de um filme, ou seja o aspecto financeiro. Vamos começar pelo gross (receita bruta):"
      ]
    },
    {
      "cell_type": "code",
      "metadata": {
        "id": "Sqw7Feg4tC7X",
        "colab_type": "code",
        "colab": {
          "base_uri": "https://localhost:8080/",
          "height": 299
        },
        "outputId": "469690c3-0358-4ee8-faef-6eaf535b0727"
      },
      "source": [
        "imdb[\"gross\"].hist()"
      ],
      "execution_count": null,
      "outputs": [
        {
          "output_type": "execute_result",
          "data": {
            "text/plain": [
              "<matplotlib.axes._subplots.AxesSubplot at 0x7f11aa25aa58>"
            ]
          },
          "metadata": {
            "tags": []
          },
          "execution_count": 150
        },
        {
          "output_type": "display_data",
          "data": {
            "image/png": "[encoded data removed]",
            "text/plain": [
              "<Figure size 432x288 with 1 Axes>"
            ]
          },
          "metadata": {
            "tags": []
          }
        }
      ]
    },
    {
      "cell_type": "markdown",
      "metadata": {
        "id": "Ixd4uZ3JtDUv",
        "colab_type": "text"
      },
      "source": [
        " Como você deve ter reparado, essa é a primeira vez que as escalas estão totalmente diferentes, pois no eixo **X** temos valores tão altos que a escala teve que ser de centena de milhões. Veja como pouquíssimos filmes tem **alto faturamento**, o que nos acende um primeiro alerta de que tem algo estranho (ou temos filmes que rendem muito dinheiro neste dataset).\n",
        "\n",
        " Vamos tentar conhecer quais são esses filmes com faturamento astronômico.\n"
      ]
    },
    {
      "cell_type": "code",
      "metadata": {
        "id": "hZlDv9bkAauh",
        "colab_type": "code",
        "colab": {
          "base_uri": "https://localhost:8080/",
          "height": 299
        },
        "outputId": "c0aae8ac-cb3a-4803-9674-f123a9891e24"
      },
      "source": [
        "imdb.sort_values(\"gross\", ascending=False).head()"
      ],
      "execution_count": null,
      "outputs": [
        {
          "output_type": "execute_result",
          "data": {
            "text/html": [
              "<div>\n",
              "<style scoped>\n",
              "    .dataframe tbody tr th:only-of-type {\n",
              "        vertical-align: middle;\n",
              "    }\n",
              "\n",
              "    .dataframe tbody tr th {\n",
              "        vertical-align: top;\n",
              "    }\n",
              "\n",
              "    .dataframe thead th {\n",
              "        text-align: right;\n",
              "    }\n",
              "</style>\n",
              "<table border=\"1\" class=\"dataframe\">\n",
              "  <thead>\n",
              "    <tr style=\"text-align: right;\">\n",
              "      <th></th>\n",
              "      <th>color</th>\n",
              "      <th>director_name</th>\n",
              "      <th>num_critic_for_reviews</th>\n",
              "      <th>duration</th>\n",
              "      <th>director_facebook_likes</th>\n",
              "      <th>actor_3_facebook_likes</th>\n",
              "      <th>actor_2_name</th>\n",
              "      <th>actor_1_facebook_likes</th>\n",
              "      <th>gross</th>\n",
              "      <th>genres</th>\n",
              "      <th>actor_1_name</th>\n",
              "      <th>movie_title</th>\n",
              "      <th>num_voted_users</th>\n",
              "      <th>cast_total_facebook_likes</th>\n",
              "      <th>actor_3_name</th>\n",
              "      <th>facenumber_in_poster</th>\n",
              "      <th>plot_keywords</th>\n",
              "      <th>movie_imdb_link</th>\n",
              "      <th>num_user_for_reviews</th>\n",
              "      <th>language</th>\n",
              "      <th>country</th>\n",
              "      <th>content_rating</th>\n",
              "      <th>budget</th>\n",
              "      <th>title_year</th>\n",
              "      <th>actor_2_facebook_likes</th>\n",
              "      <th>imdb_score</th>\n",
              "      <th>aspect_ratio</th>\n",
              "      <th>movie_facebook_likes</th>\n",
              "    </tr>\n",
              "  </thead>\n",
              "  <tbody>\n",
              "    <tr>\n",
              "      <th>0</th>\n",
              "      <td>Color</td>\n",
              "      <td>James Cameron</td>\n",
              "      <td>723.0</td>\n",
              "      <td>178.0</td>\n",
              "      <td>0.0</td>\n",
              "      <td>855.0</td>\n",
              "      <td>Joel David Moore</td>\n",
              "      <td>1000.0</td>\n",
              "      <td>760505847.0</td>\n",
              "      <td>Action|Adventure|Fantasy|Sci-Fi</td>\n",
              "      <td>CCH Pounder</td>\n",
              "      <td>Avatar</td>\n",
              "      <td>886204</td>\n",
              "      <td>4834</td>\n",
              "      <td>Wes Studi</td>\n",
              "      <td>0.0</td>\n",
              "      <td>avatar|future|marine|native|paraplegic</td>\n",
              "      <td>http://www.imdb.com/title/tt0499549/?ref_=fn_t...</td>\n",
              "      <td>3054.0</td>\n",
              "      <td>English</td>\n",
              "      <td>USA</td>\n",
              "      <td>PG-13</td>\n",
              "      <td>237000000.0</td>\n",
              "      <td>2009.0</td>\n",
              "      <td>936.0</td>\n",
              "      <td>7.9</td>\n",
              "      <td>1.78</td>\n",
              "      <td>33000</td>\n",
              "    </tr>\n",
              "    <tr>\n",
              "      <th>26</th>\n",
              "      <td>Color</td>\n",
              "      <td>James Cameron</td>\n",
              "      <td>315.0</td>\n",
              "      <td>194.0</td>\n",
              "      <td>0.0</td>\n",
              "      <td>794.0</td>\n",
              "      <td>Kate Winslet</td>\n",
              "      <td>29000.0</td>\n",
              "      <td>658672302.0</td>\n",
              "      <td>Drama|Romance</td>\n",
              "      <td>Leonardo DiCaprio</td>\n",
              "      <td>Titanic</td>\n",
              "      <td>793059</td>\n",
              "      <td>45223</td>\n",
              "      <td>Gloria Stuart</td>\n",
              "      <td>0.0</td>\n",
              "      <td>artist|love|ship|titanic|wet</td>\n",
              "      <td>http://www.imdb.com/title/tt0120338/?ref_=fn_t...</td>\n",
              "      <td>2528.0</td>\n",
              "      <td>English</td>\n",
              "      <td>USA</td>\n",
              "      <td>PG-13</td>\n",
              "      <td>200000000.0</td>\n",
              "      <td>1997.0</td>\n",
              "      <td>14000.0</td>\n",
              "      <td>7.7</td>\n",
              "      <td>2.35</td>\n",
              "      <td>26000</td>\n",
              "    </tr>\n",
              "    <tr>\n",
              "      <th>29</th>\n",
              "      <td>Color</td>\n",
              "      <td>Colin Trevorrow</td>\n",
              "      <td>644.0</td>\n",
              "      <td>124.0</td>\n",
              "      <td>365.0</td>\n",
              "      <td>1000.0</td>\n",
              "      <td>Judy Greer</td>\n",
              "      <td>3000.0</td>\n",
              "      <td>652177271.0</td>\n",
              "      <td>Action|Adventure|Sci-Fi|Thriller</td>\n",
              "      <td>Bryce Dallas Howard</td>\n",
              "      <td>Jurassic World</td>\n",
              "      <td>418214</td>\n",
              "      <td>8458</td>\n",
              "      <td>Omar Sy</td>\n",
              "      <td>0.0</td>\n",
              "      <td>dinosaur|disaster film|experiment gone wrong|j...</td>\n",
              "      <td>http://www.imdb.com/title/tt0369610/?ref_=fn_t...</td>\n",
              "      <td>1290.0</td>\n",
              "      <td>English</td>\n",
              "      <td>USA</td>\n",
              "      <td>PG-13</td>\n",
              "      <td>150000000.0</td>\n",
              "      <td>2015.0</td>\n",
              "      <td>2000.0</td>\n",
              "      <td>7.0</td>\n",
              "      <td>2.00</td>\n",
              "      <td>150000</td>\n",
              "    </tr>\n",
              "    <tr>\n",
              "      <th>794</th>\n",
              "      <td>Color</td>\n",
              "      <td>Joss Whedon</td>\n",
              "      <td>703.0</td>\n",
              "      <td>173.0</td>\n",
              "      <td>0.0</td>\n",
              "      <td>19000.0</td>\n",
              "      <td>Robert Downey Jr.</td>\n",
              "      <td>26000.0</td>\n",
              "      <td>623279547.0</td>\n",
              "      <td>Action|Adventure|Sci-Fi</td>\n",
              "      <td>Chris Hemsworth</td>\n",
              "      <td>The Avengers</td>\n",
              "      <td>995415</td>\n",
              "      <td>87697</td>\n",
              "      <td>Scarlett Johansson</td>\n",
              "      <td>3.0</td>\n",
              "      <td>alien invasion|assassin|battle|iron man|soldier</td>\n",
              "      <td>http://www.imdb.com/title/tt0848228/?ref_=fn_t...</td>\n",
              "      <td>1722.0</td>\n",
              "      <td>English</td>\n",
              "      <td>USA</td>\n",
              "      <td>PG-13</td>\n",
              "      <td>220000000.0</td>\n",
              "      <td>2012.0</td>\n",
              "      <td>21000.0</td>\n",
              "      <td>8.1</td>\n",
              "      <td>1.85</td>\n",
              "      <td>123000</td>\n",
              "    </tr>\n",
              "    <tr>\n",
              "      <th>17</th>\n",
              "      <td>Color</td>\n",
              "      <td>Joss Whedon</td>\n",
              "      <td>703.0</td>\n",
              "      <td>173.0</td>\n",
              "      <td>0.0</td>\n",
              "      <td>19000.0</td>\n",
              "      <td>Robert Downey Jr.</td>\n",
              "      <td>26000.0</td>\n",
              "      <td>623279547.0</td>\n",
              "      <td>Action|Adventure|Sci-Fi</td>\n",
              "      <td>Chris Hemsworth</td>\n",
              "      <td>The Avengers</td>\n",
              "      <td>995415</td>\n",
              "      <td>87697</td>\n",
              "      <td>Scarlett Johansson</td>\n",
              "      <td>3.0</td>\n",
              "      <td>alien invasion|assassin|battle|iron man|soldier</td>\n",
              "      <td>http://www.imdb.com/title/tt0848228/?ref_=fn_t...</td>\n",
              "      <td>1722.0</td>\n",
              "      <td>English</td>\n",
              "      <td>USA</td>\n",
              "      <td>PG-13</td>\n",
              "      <td>220000000.0</td>\n",
              "      <td>2012.0</td>\n",
              "      <td>21000.0</td>\n",
              "      <td>8.1</td>\n",
              "      <td>1.85</td>\n",
              "      <td>123000</td>\n",
              "    </tr>\n",
              "  </tbody>\n",
              "</table>\n",
              "</div>"
            ],
            "text/plain": [
              "     color    director_name  ...  aspect_ratio  movie_facebook_likes\n",
              "0    Color    James Cameron  ...          1.78                 33000\n",
              "26   Color    James Cameron  ...          2.35                 26000\n",
              "29   Color  Colin Trevorrow  ...          2.00                150000\n",
              "794  Color      Joss Whedon  ...          1.85                123000\n",
              "17   Color      Joss Whedon  ...          1.85                123000\n",
              "\n",
              "[5 rows x 28 columns]"
            ]
          },
          "metadata": {
            "tags": []
          },
          "execution_count": 151
        }
      ]
    },
    {
      "cell_type": "markdown",
      "metadata": {
        "id": "z0by1SZgAbIB",
        "colab_type": "text"
      },
      "source": [
        "Nessa lista temos **Avatar, Titanic, Jurassic World e The Avengers**, o que parece fazer sentido para nós, pois sabemos que esses foram filmes com bilheterias gigantescas. Analisando esses dados conseguimos verificar que os maiores faturamentos fazem sentido, mas encontramos um problema nos dados, dado que encontramos duas linhas duplicadas. Podemos usar o pandas para remover esses dados, mas por enquanto vamos manter todas as informações (Se estiver curioso em saber como se faz, consulte o [`.drop_duplicates()`](https://pandas.pydata.org/pandas-docs/stable/reference/api/pandas.DataFrame.drop_duplicates.html)).\n",
        "\n",
        "Maravilha, agora temos o faturamento e parece estar OK. Queremos começar a responder algumas perguntas e uma delas é: será que filmes coloridos tem faturamento maior que filmes preto e branco?\n",
        "\n",
        "Para começar a responder essa pergunta precisamos transformar a coluna Color:"
      ]
    },
    {
      "cell_type": "code",
      "metadata": {
        "id": "0ssuNexzAbUt",
        "colab_type": "code",
        "colab": {
          "base_uri": "https://localhost:8080/",
          "height": 168
        },
        "outputId": "919ac15d-4d55-4b13-818b-6467cc6fd615"
      },
      "source": [
        "color_or_bw = imdb.query(\"color in ['Color', ' Black and White']\")\n",
        "color_or_bw[\"color_0_ou_1\"] = (color_or_bw[\"color\"]==\"Color\") * 1\n",
        "color_or_bw[\"color_0_ou_1\"].value_counts()"
      ],
      "execution_count": 6,
      "outputs": [
        {
          "output_type": "stream",
          "text": [
            "/usr/local/lib/python3.6/dist-packages/ipykernel_launcher.py:2: SettingWithCopyWarning: \n",
            "A value is trying to be set on a copy of a slice from a DataFrame.\n",
            "Try using .loc[row_indexer,col_indexer] = value instead\n",
            "\n",
            "See the caveats in the documentation: https://pandas.pydata.org/pandas-docs/stable/user_guide/indexing.html#returning-a-view-versus-a-copy\n",
            "  \n"
          ],
          "name": "stderr"
        },
        {
          "output_type": "execute_result",
          "data": {
            "text/plain": [
              "1    4815\n",
              "0     209\n",
              "Name: color_0_ou_1, dtype: int64"
            ]
          },
          "metadata": {
            "tags": []
          },
          "execution_count": 6
        }
      ]
    },
    {
      "cell_type": "code",
      "metadata": {
        "id": "mLB1JvfHAb8g",
        "colab_type": "code",
        "colab": {
          "base_uri": "https://localhost:8080/",
          "height": 316
        },
        "outputId": "a1ea8de4-a89d-4a8e-c553-d1dc834e98dc"
      },
      "source": [
        "color_or_bw.head()"
      ],
      "execution_count": null,
      "outputs": [
        {
          "output_type": "execute_result",
          "data": {
            "text/html": [
              "<div>\n",
              "<style scoped>\n",
              "    .dataframe tbody tr th:only-of-type {\n",
              "        vertical-align: middle;\n",
              "    }\n",
              "\n",
              "    .dataframe tbody tr th {\n",
              "        vertical-align: top;\n",
              "    }\n",
              "\n",
              "    .dataframe thead th {\n",
              "        text-align: right;\n",
              "    }\n",
              "</style>\n",
              "<table border=\"1\" class=\"dataframe\">\n",
              "  <thead>\n",
              "    <tr style=\"text-align: right;\">\n",
              "      <th></th>\n",
              "      <th>color</th>\n",
              "      <th>director_name</th>\n",
              "      <th>num_critic_for_reviews</th>\n",
              "      <th>duration</th>\n",
              "      <th>director_facebook_likes</th>\n",
              "      <th>actor_3_facebook_likes</th>\n",
              "      <th>actor_2_name</th>\n",
              "      <th>actor_1_facebook_likes</th>\n",
              "      <th>gross</th>\n",
              "      <th>genres</th>\n",
              "      <th>actor_1_name</th>\n",
              "      <th>movie_title</th>\n",
              "      <th>num_voted_users</th>\n",
              "      <th>cast_total_facebook_likes</th>\n",
              "      <th>actor_3_name</th>\n",
              "      <th>facenumber_in_poster</th>\n",
              "      <th>plot_keywords</th>\n",
              "      <th>movie_imdb_link</th>\n",
              "      <th>num_user_for_reviews</th>\n",
              "      <th>language</th>\n",
              "      <th>country</th>\n",
              "      <th>content_rating</th>\n",
              "      <th>budget</th>\n",
              "      <th>title_year</th>\n",
              "      <th>actor_2_facebook_likes</th>\n",
              "      <th>imdb_score</th>\n",
              "      <th>aspect_ratio</th>\n",
              "      <th>movie_facebook_likes</th>\n",
              "      <th>color_0_ou_1</th>\n",
              "    </tr>\n",
              "  </thead>\n",
              "  <tbody>\n",
              "    <tr>\n",
              "      <th>0</th>\n",
              "      <td>Color</td>\n",
              "      <td>James Cameron</td>\n",
              "      <td>723.0</td>\n",
              "      <td>178.0</td>\n",
              "      <td>0.0</td>\n",
              "      <td>855.0</td>\n",
              "      <td>Joel David Moore</td>\n",
              "      <td>1000.0</td>\n",
              "      <td>760505847.0</td>\n",
              "      <td>Action|Adventure|Fantasy|Sci-Fi</td>\n",
              "      <td>CCH Pounder</td>\n",
              "      <td>Avatar</td>\n",
              "      <td>886204</td>\n",
              "      <td>4834</td>\n",
              "      <td>Wes Studi</td>\n",
              "      <td>0.0</td>\n",
              "      <td>avatar|future|marine|native|paraplegic</td>\n",
              "      <td>http://www.imdb.com/title/tt0499549/?ref_=fn_t...</td>\n",
              "      <td>3054.0</td>\n",
              "      <td>English</td>\n",
              "      <td>USA</td>\n",
              "      <td>PG-13</td>\n",
              "      <td>237000000.0</td>\n",
              "      <td>2009.0</td>\n",
              "      <td>936.0</td>\n",
              "      <td>7.9</td>\n",
              "      <td>1.78</td>\n",
              "      <td>33000</td>\n",
              "      <td>1</td>\n",
              "    </tr>\n",
              "    <tr>\n",
              "      <th>1</th>\n",
              "      <td>Color</td>\n",
              "      <td>Gore Verbinski</td>\n",
              "      <td>302.0</td>\n",
              "      <td>169.0</td>\n",
              "      <td>563.0</td>\n",
              "      <td>1000.0</td>\n",
              "      <td>Orlando Bloom</td>\n",
              "      <td>40000.0</td>\n",
              "      <td>309404152.0</td>\n",
              "      <td>Action|Adventure|Fantasy</td>\n",
              "      <td>Johnny Depp</td>\n",
              "      <td>Pirates of the Caribbean: At World's End</td>\n",
              "      <td>471220</td>\n",
              "      <td>48350</td>\n",
              "      <td>Jack Davenport</td>\n",
              "      <td>0.0</td>\n",
              "      <td>goddess|marriage ceremony|marriage proposal|pi...</td>\n",
              "      <td>http://www.imdb.com/title/tt0449088/?ref_=fn_t...</td>\n",
              "      <td>1238.0</td>\n",
              "      <td>English</td>\n",
              "      <td>USA</td>\n",
              "      <td>PG-13</td>\n",
              "      <td>300000000.0</td>\n",
              "      <td>2007.0</td>\n",
              "      <td>5000.0</td>\n",
              "      <td>7.1</td>\n",
              "      <td>2.35</td>\n",
              "      <td>0</td>\n",
              "      <td>1</td>\n",
              "    </tr>\n",
              "    <tr>\n",
              "      <th>2</th>\n",
              "      <td>Color</td>\n",
              "      <td>Sam Mendes</td>\n",
              "      <td>602.0</td>\n",
              "      <td>148.0</td>\n",
              "      <td>0.0</td>\n",
              "      <td>161.0</td>\n",
              "      <td>Rory Kinnear</td>\n",
              "      <td>11000.0</td>\n",
              "      <td>200074175.0</td>\n",
              "      <td>Action|Adventure|Thriller</td>\n",
              "      <td>Christoph Waltz</td>\n",
              "      <td>Spectre</td>\n",
              "      <td>275868</td>\n",
              "      <td>11700</td>\n",
              "      <td>Stephanie Sigman</td>\n",
              "      <td>1.0</td>\n",
              "      <td>bomb|espionage|sequel|spy|terrorist</td>\n",
              "      <td>http://www.imdb.com/title/tt2379713/?ref_=fn_t...</td>\n",
              "      <td>994.0</td>\n",
              "      <td>English</td>\n",
              "      <td>UK</td>\n",
              "      <td>PG-13</td>\n",
              "      <td>245000000.0</td>\n",
              "      <td>2015.0</td>\n",
              "      <td>393.0</td>\n",
              "      <td>6.8</td>\n",
              "      <td>2.35</td>\n",
              "      <td>85000</td>\n",
              "      <td>1</td>\n",
              "    </tr>\n",
              "    <tr>\n",
              "      <th>3</th>\n",
              "      <td>Color</td>\n",
              "      <td>Christopher Nolan</td>\n",
              "      <td>813.0</td>\n",
              "      <td>164.0</td>\n",
              "      <td>22000.0</td>\n",
              "      <td>23000.0</td>\n",
              "      <td>Christian Bale</td>\n",
              "      <td>27000.0</td>\n",
              "      <td>448130642.0</td>\n",
              "      <td>Action|Thriller</td>\n",
              "      <td>Tom Hardy</td>\n",
              "      <td>The Dark Knight Rises</td>\n",
              "      <td>1144337</td>\n",
              "      <td>106759</td>\n",
              "      <td>Joseph Gordon-Levitt</td>\n",
              "      <td>0.0</td>\n",
              "      <td>deception|imprisonment|lawlessness|police offi...</td>\n",
              "      <td>http://www.imdb.com/title/tt1345836/?ref_=fn_t...</td>\n",
              "      <td>2701.0</td>\n",
              "      <td>English</td>\n",
              "      <td>USA</td>\n",
              "      <td>PG-13</td>\n",
              "      <td>250000000.0</td>\n",
              "      <td>2012.0</td>\n",
              "      <td>23000.0</td>\n",
              "      <td>8.5</td>\n",
              "      <td>2.35</td>\n",
              "      <td>164000</td>\n",
              "      <td>1</td>\n",
              "    </tr>\n",
              "    <tr>\n",
              "      <th>5</th>\n",
              "      <td>Color</td>\n",
              "      <td>Andrew Stanton</td>\n",
              "      <td>462.0</td>\n",
              "      <td>132.0</td>\n",
              "      <td>475.0</td>\n",
              "      <td>530.0</td>\n",
              "      <td>Samantha Morton</td>\n",
              "      <td>640.0</td>\n",
              "      <td>73058679.0</td>\n",
              "      <td>Action|Adventure|Sci-Fi</td>\n",
              "      <td>Daryl Sabara</td>\n",
              "      <td>John Carter</td>\n",
              "      <td>212204</td>\n",
              "      <td>1873</td>\n",
              "      <td>Polly Walker</td>\n",
              "      <td>1.0</td>\n",
              "      <td>alien|american civil war|male nipple|mars|prin...</td>\n",
              "      <td>http://www.imdb.com/title/tt0401729/?ref_=fn_t...</td>\n",
              "      <td>738.0</td>\n",
              "      <td>English</td>\n",
              "      <td>USA</td>\n",
              "      <td>PG-13</td>\n",
              "      <td>263700000.0</td>\n",
              "      <td>2012.0</td>\n",
              "      <td>632.0</td>\n",
              "      <td>6.6</td>\n",
              "      <td>2.35</td>\n",
              "      <td>24000</td>\n",
              "      <td>1</td>\n",
              "    </tr>\n",
              "  </tbody>\n",
              "</table>\n",
              "</div>"
            ],
            "text/plain": [
              "   color      director_name  ...  movie_facebook_likes  color_0_ou_1\n",
              "0  Color      James Cameron  ...                 33000             1\n",
              "1  Color     Gore Verbinski  ...                     0             1\n",
              "2  Color         Sam Mendes  ...                 85000             1\n",
              "3  Color  Christopher Nolan  ...                164000             1\n",
              "5  Color     Andrew Stanton  ...                 24000             1\n",
              "\n",
              "[5 rows x 29 columns]"
            ]
          },
          "metadata": {
            "tags": []
          },
          "execution_count": 153
        }
      ]
    },
    {
      "cell_type": "markdown",
      "metadata": {
        "id": "yXfbYs_cAbjb",
        "colab_type": "text"
      },
      "source": [
        "Veja que agora nós temos uma última coluna em nosso dataframe com valores 0 e 1. Agora podemos construir gráficos com essa informação de filmes coloridos ou não."
      ]
    },
    {
      "cell_type": "code",
      "metadata": {
        "id": "rkRZkO5dOTc8",
        "colab_type": "code",
        "colab": {
          "base_uri": "https://localhost:8080/",
          "height": 308
        },
        "outputId": "d9312f54-9499-4b0b-d5b6-203d43718ff6"
      },
      "source": [
        "sns.scatterplot(data=color_or_bw, x=\"color_0_ou_1\", y=\"gross\")"
      ],
      "execution_count": null,
      "outputs": [
        {
          "output_type": "execute_result",
          "data": {
            "text/plain": [
              "<matplotlib.axes._subplots.AxesSubplot at 0x7f11aa229908>"
            ]
          },
          "metadata": {
            "tags": []
          },
          "execution_count": 154
        },
        {
          "output_type": "display_data",
          "data": {
            "image/png": "[encoded data removed]",
            "text/plain": [
              "<Figure size 432x288 with 1 Axes>"
            ]
          },
          "metadata": {
            "tags": []
          }
        }
      ]
    },
    {
      "cell_type": "markdown",
      "metadata": {
        "id": "VQZgqt4oOTyK",
        "colab_type": "text"
      },
      "source": [
        "Então plotamos nossos dados com um displot. Existem várias formas de visualizar essa informação, mas por ora essa nos ajuda a comparar os resultados. Repare como filmes coloridos tem valores bem maiores (isso já era até esperado), mas também temos pontos bem altos em filmes preto e branco, chamando muito atenção.\n",
        "\n",
        "Vamos explorar algumas estatísticas destes filmes:"
      ]
    },
    {
      "cell_type": "code",
      "metadata": {
        "id": "uhuNc6QdOT-n",
        "colab_type": "code",
        "colab": {
          "base_uri": "https://localhost:8080/",
          "height": 84
        },
        "outputId": "1bc276e6-bee3-44ce-d11e-2136a058a45d"
      },
      "source": [
        "color_or_bw.groupby(\"color\").mean()[\"gross\"]"
      ],
      "execution_count": null,
      "outputs": [
        {
          "output_type": "execute_result",
          "data": {
            "text/plain": [
              "color\n",
              " Black and White    3.245702e+07\n",
              "Color               4.902619e+07\n",
              "Name: gross, dtype: float64"
            ]
          },
          "metadata": {
            "tags": []
          },
          "execution_count": 155
        }
      ]
    },
    {
      "cell_type": "code",
      "metadata": {
        "id": "bw4xJT0bPUG4",
        "colab_type": "code",
        "colab": {
          "base_uri": "https://localhost:8080/",
          "height": 84
        },
        "outputId": "523f2825-ce18-4a5a-e90d-d6d113f76a94"
      },
      "source": [
        "color_or_bw.groupby(\"color\").mean()[\"imdb_score\"]"
      ],
      "execution_count": null,
      "outputs": [
        {
          "output_type": "execute_result",
          "data": {
            "text/plain": [
              "color\n",
              " Black and White    7.227273\n",
              "Color               6.409533\n",
              "Name: imdb_score, dtype: float64"
            ]
          },
          "metadata": {
            "tags": []
          },
          "execution_count": 156
        }
      ]
    },
    {
      "cell_type": "code",
      "metadata": {
        "id": "7nDL1xiQPUc5",
        "colab_type": "code",
        "colab": {
          "base_uri": "https://localhost:8080/",
          "height": 84
        },
        "outputId": "d938b7c1-86cc-4872-ae90-1478ef472fcb"
      },
      "source": [
        "color_or_bw.groupby(\"color\").median()[\"imdb_score\"]"
      ],
      "execution_count": null,
      "outputs": [
        {
          "output_type": "execute_result",
          "data": {
            "text/plain": [
              "color\n",
              " Black and White    7.4\n",
              "Color               6.5\n",
              "Name: imdb_score, dtype: float64"
            ]
          },
          "metadata": {
            "tags": []
          },
          "execution_count": 157
        }
      ]
    },
    {
      "cell_type": "markdown",
      "metadata": {
        "id": "mkGqUwqcOUK6",
        "colab_type": "text"
      },
      "source": [
        "Das estatísticas temos duas bem interessantes, a média e mediana das notas de filmes preto e branco são maiores. Há várias possíveis explicações sobre o porquê disso, reflita sobre algumas delas!\n",
        "\n",
        "\n",
        "A partir de agora, vamos fazer uma investigação melhor em relação às finanças dos filmes (faturamento e orçamento). Vamos iniciar plotando e interpretando um gráfico de **gross** por **budget**:"
      ]
    },
    {
      "cell_type": "code",
      "metadata": {
        "id": "SF8TXIcAQmpO",
        "colab_type": "code",
        "colab": {
          "base_uri": "https://localhost:8080/",
          "height": 307
        },
        "outputId": "50bc15f6-3df5-4e86-b13a-878bb5501070"
      },
      "source": [
        "budget_gross = imdb[[\"budget\", \"gross\"]].dropna().query(\"budget > 0 | gross > 0\")\n",
        "\n",
        "sns.scatterplot(x=\"budget\", y=\"gross\", data = budget_gross)"
      ],
      "execution_count": 9,
      "outputs": [
        {
          "output_type": "execute_result",
          "data": {
            "text/plain": [
              "<matplotlib.axes._subplots.AxesSubplot at 0x7fe960c5acc0>"
            ]
          },
          "metadata": {
            "tags": []
          },
          "execution_count": 9
        },
        {
          "output_type": "display_data",
          "data": {
            "image/png": "[encoded data removed]",
            "text/plain": [
              "<Figure size 432x288 with 1 Axes>"
            ]
          },
          "metadata": {
            "tags": []
          }
        }
      ]
    },
    {
      "cell_type": "markdown",
      "metadata": {
        "id": "d8gREEnlRK_U",
        "colab_type": "text"
      },
      "source": [
        "Para plotar os dados, primeiro removemos as linhas com informações de faturamento e orçamento vazias e também com valores igual a 0, para então gerar o gráfico.\n",
        "\n",
        "Agora vamos analisar esse gráfico juntos, veja que a escala de **budget** mudou, agora é **e10**. Repare que poucos filmes tem orçamentos tão grandes assim, e seus faturamentos são muito baixos. Será que temos algum problema nos dados? Vamos investigar melhor!"
      ]
    },
    {
      "cell_type": "code",
      "metadata": {
        "id": "Ae-AjpryRI8g",
        "colab_type": "code",
        "colab": {
          "base_uri": "https://localhost:8080/",
          "height": 316
        },
        "outputId": "3b9bad60-7c1e-4107-c817-67447eb4c75d"
      },
      "source": [
        "imdb.sort_values(\"budget\", ascending=False).head()"
      ],
      "execution_count": null,
      "outputs": [
        {
          "output_type": "execute_result",
          "data": {
            "text/html": [
              "<div>\n",
              "<style scoped>\n",
              "    .dataframe tbody tr th:only-of-type {\n",
              "        vertical-align: middle;\n",
              "    }\n",
              "\n",
              "    .dataframe tbody tr th {\n",
              "        vertical-align: top;\n",
              "    }\n",
              "\n",
              "    .dataframe thead th {\n",
              "        text-align: right;\n",
              "    }\n",
              "</style>\n",
              "<table border=\"1\" class=\"dataframe\">\n",
              "  <thead>\n",
              "    <tr style=\"text-align: right;\">\n",
              "      <th></th>\n",
              "      <th>color</th>\n",
              "      <th>director_name</th>\n",
              "      <th>num_critic_for_reviews</th>\n",
              "      <th>duration</th>\n",
              "      <th>director_facebook_likes</th>\n",
              "      <th>actor_3_facebook_likes</th>\n",
              "      <th>actor_2_name</th>\n",
              "      <th>actor_1_facebook_likes</th>\n",
              "      <th>gross</th>\n",
              "      <th>genres</th>\n",
              "      <th>actor_1_name</th>\n",
              "      <th>movie_title</th>\n",
              "      <th>num_voted_users</th>\n",
              "      <th>cast_total_facebook_likes</th>\n",
              "      <th>actor_3_name</th>\n",
              "      <th>facenumber_in_poster</th>\n",
              "      <th>plot_keywords</th>\n",
              "      <th>movie_imdb_link</th>\n",
              "      <th>num_user_for_reviews</th>\n",
              "      <th>language</th>\n",
              "      <th>country</th>\n",
              "      <th>content_rating</th>\n",
              "      <th>budget</th>\n",
              "      <th>title_year</th>\n",
              "      <th>actor_2_facebook_likes</th>\n",
              "      <th>imdb_score</th>\n",
              "      <th>aspect_ratio</th>\n",
              "      <th>movie_facebook_likes</th>\n",
              "    </tr>\n",
              "  </thead>\n",
              "  <tbody>\n",
              "    <tr>\n",
              "      <th>2988</th>\n",
              "      <td>Color</td>\n",
              "      <td>Joon-ho Bong</td>\n",
              "      <td>363.0</td>\n",
              "      <td>110.0</td>\n",
              "      <td>584.0</td>\n",
              "      <td>74.0</td>\n",
              "      <td>Kang-ho Song</td>\n",
              "      <td>629.0</td>\n",
              "      <td>2201412.0</td>\n",
              "      <td>Comedy|Drama|Horror|Sci-Fi</td>\n",
              "      <td>Doona Bae</td>\n",
              "      <td>The Host</td>\n",
              "      <td>68883</td>\n",
              "      <td>1173</td>\n",
              "      <td>Ah-sung Ko</td>\n",
              "      <td>0.0</td>\n",
              "      <td>daughter|han river|monster|river|seoul</td>\n",
              "      <td>http://www.imdb.com/title/tt0468492/?ref_=fn_t...</td>\n",
              "      <td>279.0</td>\n",
              "      <td>Korean</td>\n",
              "      <td>South Korea</td>\n",
              "      <td>R</td>\n",
              "      <td>1.221550e+10</td>\n",
              "      <td>2006.0</td>\n",
              "      <td>398.0</td>\n",
              "      <td>7.0</td>\n",
              "      <td>1.85</td>\n",
              "      <td>7000</td>\n",
              "    </tr>\n",
              "    <tr>\n",
              "      <th>3859</th>\n",
              "      <td>Color</td>\n",
              "      <td>Chan-wook Park</td>\n",
              "      <td>202.0</td>\n",
              "      <td>112.0</td>\n",
              "      <td>0.0</td>\n",
              "      <td>38.0</td>\n",
              "      <td>Yeong-ae Lee</td>\n",
              "      <td>717.0</td>\n",
              "      <td>211667.0</td>\n",
              "      <td>Crime|Drama</td>\n",
              "      <td>Min-sik Choi</td>\n",
              "      <td>Lady Vengeance</td>\n",
              "      <td>53508</td>\n",
              "      <td>907</td>\n",
              "      <td>Hye-jeong Kang</td>\n",
              "      <td>0.0</td>\n",
              "      <td>cake|christian|lesbian sex|oral sex|pregnant s...</td>\n",
              "      <td>http://www.imdb.com/title/tt0451094/?ref_=fn_t...</td>\n",
              "      <td>131.0</td>\n",
              "      <td>Korean</td>\n",
              "      <td>South Korea</td>\n",
              "      <td>R</td>\n",
              "      <td>4.200000e+09</td>\n",
              "      <td>2005.0</td>\n",
              "      <td>126.0</td>\n",
              "      <td>7.7</td>\n",
              "      <td>2.35</td>\n",
              "      <td>4000</td>\n",
              "    </tr>\n",
              "    <tr>\n",
              "      <th>3005</th>\n",
              "      <td>Color</td>\n",
              "      <td>Lajos Koltai</td>\n",
              "      <td>73.0</td>\n",
              "      <td>134.0</td>\n",
              "      <td>45.0</td>\n",
              "      <td>0.0</td>\n",
              "      <td>Péter Fancsikai</td>\n",
              "      <td>9.0</td>\n",
              "      <td>195888.0</td>\n",
              "      <td>Drama|Romance|War</td>\n",
              "      <td>Marcell Nagy</td>\n",
              "      <td>Fateless</td>\n",
              "      <td>5603</td>\n",
              "      <td>11</td>\n",
              "      <td>Bálint Péntek</td>\n",
              "      <td>0.0</td>\n",
              "      <td>bus|death|gay slur|hatred|jewish</td>\n",
              "      <td>http://www.imdb.com/title/tt0367082/?ref_=fn_t...</td>\n",
              "      <td>45.0</td>\n",
              "      <td>Hungarian</td>\n",
              "      <td>Hungary</td>\n",
              "      <td>R</td>\n",
              "      <td>2.500000e+09</td>\n",
              "      <td>2005.0</td>\n",
              "      <td>2.0</td>\n",
              "      <td>7.1</td>\n",
              "      <td>2.35</td>\n",
              "      <td>607</td>\n",
              "    </tr>\n",
              "    <tr>\n",
              "      <th>2323</th>\n",
              "      <td>Color</td>\n",
              "      <td>Hayao Miyazaki</td>\n",
              "      <td>174.0</td>\n",
              "      <td>134.0</td>\n",
              "      <td>6000.0</td>\n",
              "      <td>745.0</td>\n",
              "      <td>Jada Pinkett Smith</td>\n",
              "      <td>893.0</td>\n",
              "      <td>2298191.0</td>\n",
              "      <td>Adventure|Animation|Fantasy</td>\n",
              "      <td>Minnie Driver</td>\n",
              "      <td>Princess Mononoke</td>\n",
              "      <td>221552</td>\n",
              "      <td>2710</td>\n",
              "      <td>Billy Crudup</td>\n",
              "      <td>0.0</td>\n",
              "      <td>anime|cult film|forest|princess|studio ghibli</td>\n",
              "      <td>http://www.imdb.com/title/tt0119698/?ref_=fn_t...</td>\n",
              "      <td>570.0</td>\n",
              "      <td>Japanese</td>\n",
              "      <td>Japan</td>\n",
              "      <td>PG-13</td>\n",
              "      <td>2.400000e+09</td>\n",
              "      <td>1997.0</td>\n",
              "      <td>851.0</td>\n",
              "      <td>8.4</td>\n",
              "      <td>1.85</td>\n",
              "      <td>11000</td>\n",
              "    </tr>\n",
              "    <tr>\n",
              "      <th>2334</th>\n",
              "      <td>Color</td>\n",
              "      <td>Katsuhiro Ôtomo</td>\n",
              "      <td>105.0</td>\n",
              "      <td>103.0</td>\n",
              "      <td>78.0</td>\n",
              "      <td>101.0</td>\n",
              "      <td>Robin Atkin Downes</td>\n",
              "      <td>488.0</td>\n",
              "      <td>410388.0</td>\n",
              "      <td>Action|Adventure|Animation|Family|Sci-Fi|Thriller</td>\n",
              "      <td>William Hootkins</td>\n",
              "      <td>Steamboy</td>\n",
              "      <td>13727</td>\n",
              "      <td>991</td>\n",
              "      <td>Rosalind Ayres</td>\n",
              "      <td>1.0</td>\n",
              "      <td>19th century|ball|boy|inventor|steam</td>\n",
              "      <td>http://www.imdb.com/title/tt0348121/?ref_=fn_t...</td>\n",
              "      <td>79.0</td>\n",
              "      <td>Japanese</td>\n",
              "      <td>Japan</td>\n",
              "      <td>PG-13</td>\n",
              "      <td>2.127520e+09</td>\n",
              "      <td>2004.0</td>\n",
              "      <td>336.0</td>\n",
              "      <td>6.9</td>\n",
              "      <td>1.85</td>\n",
              "      <td>973</td>\n",
              "    </tr>\n",
              "  </tbody>\n",
              "</table>\n",
              "</div>"
            ],
            "text/plain": [
              "      color    director_name  ...  aspect_ratio  movie_facebook_likes\n",
              "2988  Color     Joon-ho Bong  ...          1.85                  7000\n",
              "3859  Color   Chan-wook Park  ...          2.35                  4000\n",
              "3005  Color     Lajos Koltai  ...          2.35                   607\n",
              "2323  Color   Hayao Miyazaki  ...          1.85                 11000\n",
              "2334  Color  Katsuhiro Ôtomo  ...          1.85                   973\n",
              "\n",
              "[5 rows x 28 columns]"
            ]
          },
          "metadata": {
            "tags": []
          },
          "execution_count": 159
        }
      ]
    },
    {
      "cell_type": "markdown",
      "metadata": {
        "id": "qjANCBaMRJMW",
        "colab_type": "text"
      },
      "source": [
        "Ordenando os dados pelo **budget** percebemos que as primeiras posições são de filmes asiáticos. Um ponto interessante para a investigação, pois países como a Coreia usam moedas que tem três casas decimais a mais que o dólar. Então provavelmente o que está ocorrendo é que os dados de orçamento tem valores na moeda local, por isso detectamos valores tão discrepantes. \n",
        "\n",
        "Como não temos garantia dos números, vamos precisar trabalhar apenas com filmes americanos, assim garantimos que tanto gross e budget estão em dólares. Então vamos iniciar esse processo:"
      ]
    },
    {
      "cell_type": "code",
      "metadata": {
        "id": "1yF7jC-CUIYa",
        "colab_type": "code",
        "colab": {
          "base_uri": "https://localhost:8080/",
          "height": 235
        },
        "outputId": "bc346b53-7764-45d2-b104-6b006846f1c3"
      },
      "source": [
        "imdb[\"country\"].unique()"
      ],
      "execution_count": null,
      "outputs": [
        {
          "output_type": "execute_result",
          "data": {
            "text/plain": [
              "array(['USA', 'UK', nan, 'New Zealand', 'Canada', 'Australia', 'Belgium',\n",
              "       'Japan', 'Germany', 'China', 'France', 'New Line', 'Mexico',\n",
              "       'Spain', 'Hong Kong', 'Czech Republic', 'India', 'Soviet Union',\n",
              "       'South Korea', 'Peru', 'Italy', 'Russia', 'Aruba', 'Denmark',\n",
              "       'Libya', 'Ireland', 'South Africa', 'Iceland', 'Switzerland',\n",
              "       'Romania', 'West Germany', 'Chile', 'Netherlands', 'Hungary',\n",
              "       'Panama', 'Greece', 'Sweden', 'Norway', 'Taiwan', 'Official site',\n",
              "       'Cambodia', 'Thailand', 'Slovakia', 'Bulgaria', 'Iran', 'Poland',\n",
              "       'Georgia', 'Turkey', 'Nigeria', 'Brazil', 'Finland', 'Bahamas',\n",
              "       'Argentina', 'Colombia', 'Israel', 'Egypt', 'Kyrgyzstan',\n",
              "       'Indonesia', 'Pakistan', 'Slovenia', 'Afghanistan',\n",
              "       'Dominican Republic', 'Cameroon', 'United Arab Emirates', 'Kenya',\n",
              "       'Philippines'], dtype=object)"
            ]
          },
          "metadata": {
            "tags": []
          },
          "execution_count": 160
        }
      ]
    },
    {
      "cell_type": "markdown",
      "metadata": {
        "id": "_jood7DJUIkv",
        "colab_type": "text"
      },
      "source": [
        "Veja que temos filmes de diversos locais de origem:"
      ]
    },
    {
      "cell_type": "code",
      "metadata": {
        "id": "lqMN1IoUUIu_",
        "colab_type": "code",
        "colab": {
          "base_uri": "https://localhost:8080/",
          "height": 350
        },
        "outputId": "fc6da303-e36e-4f56-ab70-4d2e6a411c0c"
      },
      "source": [
        "imdb = imdb.drop_duplicates(\"movie_title\")\n",
        "imdb_usa = imdb.query(\"country == 'USA'\")\n",
        "imdb_usa.sort_values(\"budget\", ascending=False).head()"
      ],
      "execution_count": 10,
      "outputs": [
        {
          "output_type": "execute_result",
          "data": {
            "text/html": [
              "<div>\n",
              "<style scoped>\n",
              "    .dataframe tbody tr th:only-of-type {\n",
              "        vertical-align: middle;\n",
              "    }\n",
              "\n",
              "    .dataframe tbody tr th {\n",
              "        vertical-align: top;\n",
              "    }\n",
              "\n",
              "    .dataframe thead th {\n",
              "        text-align: right;\n",
              "    }\n",
              "</style>\n",
              "<table border=\"1\" class=\"dataframe\">\n",
              "  <thead>\n",
              "    <tr style=\"text-align: right;\">\n",
              "      <th></th>\n",
              "      <th>color</th>\n",
              "      <th>director_name</th>\n",
              "      <th>num_critic_for_reviews</th>\n",
              "      <th>duration</th>\n",
              "      <th>director_facebook_likes</th>\n",
              "      <th>actor_3_facebook_likes</th>\n",
              "      <th>actor_2_name</th>\n",
              "      <th>actor_1_facebook_likes</th>\n",
              "      <th>gross</th>\n",
              "      <th>genres</th>\n",
              "      <th>actor_1_name</th>\n",
              "      <th>movie_title</th>\n",
              "      <th>num_voted_users</th>\n",
              "      <th>cast_total_facebook_likes</th>\n",
              "      <th>actor_3_name</th>\n",
              "      <th>facenumber_in_poster</th>\n",
              "      <th>plot_keywords</th>\n",
              "      <th>movie_imdb_link</th>\n",
              "      <th>num_user_for_reviews</th>\n",
              "      <th>language</th>\n",
              "      <th>country</th>\n",
              "      <th>content_rating</th>\n",
              "      <th>budget</th>\n",
              "      <th>title_year</th>\n",
              "      <th>actor_2_facebook_likes</th>\n",
              "      <th>imdb_score</th>\n",
              "      <th>aspect_ratio</th>\n",
              "      <th>movie_facebook_likes</th>\n",
              "    </tr>\n",
              "  </thead>\n",
              "  <tbody>\n",
              "    <tr>\n",
              "      <th>1</th>\n",
              "      <td>Color</td>\n",
              "      <td>Gore Verbinski</td>\n",
              "      <td>302.0</td>\n",
              "      <td>169.0</td>\n",
              "      <td>563.0</td>\n",
              "      <td>1000.0</td>\n",
              "      <td>Orlando Bloom</td>\n",
              "      <td>40000.0</td>\n",
              "      <td>309404152.0</td>\n",
              "      <td>Action|Adventure|Fantasy</td>\n",
              "      <td>Johnny Depp</td>\n",
              "      <td>Pirates of the Caribbean: At World's End</td>\n",
              "      <td>471220</td>\n",
              "      <td>48350</td>\n",
              "      <td>Jack Davenport</td>\n",
              "      <td>0.0</td>\n",
              "      <td>goddess|marriage ceremony|marriage proposal|pi...</td>\n",
              "      <td>http://www.imdb.com/title/tt0449088/?ref_=fn_t...</td>\n",
              "      <td>1238.0</td>\n",
              "      <td>English</td>\n",
              "      <td>USA</td>\n",
              "      <td>PG-13</td>\n",
              "      <td>300000000.0</td>\n",
              "      <td>2007.0</td>\n",
              "      <td>5000.0</td>\n",
              "      <td>7.1</td>\n",
              "      <td>2.35</td>\n",
              "      <td>0</td>\n",
              "    </tr>\n",
              "    <tr>\n",
              "      <th>5</th>\n",
              "      <td>Color</td>\n",
              "      <td>Andrew Stanton</td>\n",
              "      <td>462.0</td>\n",
              "      <td>132.0</td>\n",
              "      <td>475.0</td>\n",
              "      <td>530.0</td>\n",
              "      <td>Samantha Morton</td>\n",
              "      <td>640.0</td>\n",
              "      <td>73058679.0</td>\n",
              "      <td>Action|Adventure|Sci-Fi</td>\n",
              "      <td>Daryl Sabara</td>\n",
              "      <td>John Carter</td>\n",
              "      <td>212204</td>\n",
              "      <td>1873</td>\n",
              "      <td>Polly Walker</td>\n",
              "      <td>1.0</td>\n",
              "      <td>alien|american civil war|male nipple|mars|prin...</td>\n",
              "      <td>http://www.imdb.com/title/tt0401729/?ref_=fn_t...</td>\n",
              "      <td>738.0</td>\n",
              "      <td>English</td>\n",
              "      <td>USA</td>\n",
              "      <td>PG-13</td>\n",
              "      <td>263700000.0</td>\n",
              "      <td>2012.0</td>\n",
              "      <td>632.0</td>\n",
              "      <td>6.6</td>\n",
              "      <td>2.35</td>\n",
              "      <td>24000</td>\n",
              "    </tr>\n",
              "    <tr>\n",
              "      <th>7</th>\n",
              "      <td>Color</td>\n",
              "      <td>Nathan Greno</td>\n",
              "      <td>324.0</td>\n",
              "      <td>100.0</td>\n",
              "      <td>15.0</td>\n",
              "      <td>284.0</td>\n",
              "      <td>Donna Murphy</td>\n",
              "      <td>799.0</td>\n",
              "      <td>200807262.0</td>\n",
              "      <td>Adventure|Animation|Comedy|Family|Fantasy|Musi...</td>\n",
              "      <td>Brad Garrett</td>\n",
              "      <td>Tangled</td>\n",
              "      <td>294810</td>\n",
              "      <td>2036</td>\n",
              "      <td>M.C. Gainey</td>\n",
              "      <td>1.0</td>\n",
              "      <td>17th century|based on fairy tale|disney|flower...</td>\n",
              "      <td>http://www.imdb.com/title/tt0398286/?ref_=fn_t...</td>\n",
              "      <td>387.0</td>\n",
              "      <td>English</td>\n",
              "      <td>USA</td>\n",
              "      <td>PG</td>\n",
              "      <td>260000000.0</td>\n",
              "      <td>2010.0</td>\n",
              "      <td>553.0</td>\n",
              "      <td>7.8</td>\n",
              "      <td>1.85</td>\n",
              "      <td>29000</td>\n",
              "    </tr>\n",
              "    <tr>\n",
              "      <th>6</th>\n",
              "      <td>Color</td>\n",
              "      <td>Sam Raimi</td>\n",
              "      <td>392.0</td>\n",
              "      <td>156.0</td>\n",
              "      <td>0.0</td>\n",
              "      <td>4000.0</td>\n",
              "      <td>James Franco</td>\n",
              "      <td>24000.0</td>\n",
              "      <td>336530303.0</td>\n",
              "      <td>Action|Adventure|Romance</td>\n",
              "      <td>J.K. Simmons</td>\n",
              "      <td>Spider-Man 3</td>\n",
              "      <td>383056</td>\n",
              "      <td>46055</td>\n",
              "      <td>Kirsten Dunst</td>\n",
              "      <td>0.0</td>\n",
              "      <td>sandman|spider man|symbiote|venom|villain</td>\n",
              "      <td>http://www.imdb.com/title/tt0413300/?ref_=fn_t...</td>\n",
              "      <td>1902.0</td>\n",
              "      <td>English</td>\n",
              "      <td>USA</td>\n",
              "      <td>PG-13</td>\n",
              "      <td>258000000.0</td>\n",
              "      <td>2007.0</td>\n",
              "      <td>11000.0</td>\n",
              "      <td>6.2</td>\n",
              "      <td>2.35</td>\n",
              "      <td>0</td>\n",
              "    </tr>\n",
              "    <tr>\n",
              "      <th>18</th>\n",
              "      <td>Color</td>\n",
              "      <td>Rob Marshall</td>\n",
              "      <td>448.0</td>\n",
              "      <td>136.0</td>\n",
              "      <td>252.0</td>\n",
              "      <td>1000.0</td>\n",
              "      <td>Sam Claflin</td>\n",
              "      <td>40000.0</td>\n",
              "      <td>241063875.0</td>\n",
              "      <td>Action|Adventure|Fantasy</td>\n",
              "      <td>Johnny Depp</td>\n",
              "      <td>Pirates of the Caribbean: On Stranger Tides</td>\n",
              "      <td>370704</td>\n",
              "      <td>54083</td>\n",
              "      <td>Stephen Graham</td>\n",
              "      <td>4.0</td>\n",
              "      <td>blackbeard|captain|pirate|revenge|soldier</td>\n",
              "      <td>http://www.imdb.com/title/tt1298650/?ref_=fn_t...</td>\n",
              "      <td>484.0</td>\n",
              "      <td>English</td>\n",
              "      <td>USA</td>\n",
              "      <td>PG-13</td>\n",
              "      <td>250000000.0</td>\n",
              "      <td>2011.0</td>\n",
              "      <td>11000.0</td>\n",
              "      <td>6.7</td>\n",
              "      <td>2.35</td>\n",
              "      <td>58000</td>\n",
              "    </tr>\n",
              "  </tbody>\n",
              "</table>\n",
              "</div>"
            ],
            "text/plain": [
              "    color   director_name  ...  aspect_ratio  movie_facebook_likes\n",
              "1   Color  Gore Verbinski  ...          2.35                     0\n",
              "5   Color  Andrew Stanton  ...          2.35                 24000\n",
              "7   Color    Nathan Greno  ...          1.85                 29000\n",
              "6   Color       Sam Raimi  ...          2.35                     0\n",
              "18  Color    Rob Marshall  ...          2.35                 58000\n",
              "\n",
              "[5 rows x 28 columns]"
            ]
          },
          "metadata": {
            "tags": []
          },
          "execution_count": 10
        }
      ]
    },
    {
      "cell_type": "markdown",
      "metadata": {
        "id": "rrwKQbf8UI53",
        "colab_type": "text"
      },
      "source": [
        "Agora temos os dados para fazer uma análise melhor entre gross e budget. Vamos plotar o gráfico novamente:\n",
        "\n"
      ]
    },
    {
      "cell_type": "code",
      "metadata": {
        "id": "bStEDvsOVe8-",
        "colab_type": "code",
        "colab": {
          "base_uri": "https://localhost:8080/",
          "height": 307
        },
        "outputId": "0d70eb54-96d2-4db5-ed47-e55280ccb8e8"
      },
      "source": [
        "budget_gross = imdb_usa[[\"budget\", \"gross\"]].dropna().query(\"budget > 0 | gross > 0\")\n",
        "\n",
        "sns.scatterplot(x=\"budget\", y=\"gross\", data = budget_gross)"
      ],
      "execution_count": 11,
      "outputs": [
        {
          "output_type": "execute_result",
          "data": {
            "text/plain": [
              "<matplotlib.axes._subplots.AxesSubplot at 0x7fe96c787a90>"
            ]
          },
          "metadata": {
            "tags": []
          },
          "execution_count": 11
        },
        {
          "output_type": "display_data",
          "data": {
            "image/png": "[encoded data removed]",
            "text/plain": [
              "<Figure size 432x288 with 1 Axes>"
            ]
          },
          "metadata": {
            "tags": []
          }
        }
      ]
    },
    {
      "cell_type": "markdown",
      "metadata": {
        "id": "5ogGpkc3Vn3a",
        "colab_type": "text"
      },
      "source": [
        "Veja que interessante, aparentemente temos uma relação entre orçamento e faturamento. Quanto maior o orçamento, maior o faturamento.\n",
        "\n",
        "Já que estamos trabalhando com orçamento e faturamento, podemos construir uma nova informação, o lucro, para analisar. De forma bem simplista esse processo de construir novas informações a partir das existentes no dataset é conhecido como [feature engineering](https://en.wikipedia.org/wiki/Feature_engineering)."
      ]
    },
    {
      "cell_type": "code",
      "metadata": {
        "id": "wzBd4_rEVhB_",
        "colab_type": "code",
        "colab": {
          "base_uri": "https://localhost:8080/",
          "height": 408
        },
        "outputId": "710f09ed-ad39-429e-c409-1641d60b2409"
      },
      "source": [
        "imdb_usa['lucro'] = imdb_usa['gross'] - imdb_usa['budget']\n",
        "\n",
        "budget_lucro = imdb_usa.query(\"budget > 0 | gross > 0\")[[\"budget\", \"lucro\"]].dropna()\n",
        "#budget_lucro.tail()\n",
        "sns.scatterplot(x=\"budget\", y=\"lucro\", data = budget_lucro)"
      ],
      "execution_count": 13,
      "outputs": [
        {
          "output_type": "stream",
          "text": [
            "/usr/local/lib/python3.6/dist-packages/ipykernel_launcher.py:1: SettingWithCopyWarning: \n",
            "A value is trying to be set on a copy of a slice from a DataFrame.\n",
            "Try using .loc[row_indexer,col_indexer] = value instead\n",
            "\n",
            "See the caveats in the documentation: https://pandas.pydata.org/pandas-docs/stable/user_guide/indexing.html#returning-a-view-versus-a-copy\n",
            "  \"\"\"Entry point for launching an IPython kernel.\n"
          ],
          "name": "stderr"
        },
        {
          "output_type": "execute_result",
          "data": {
            "text/plain": [
              "<matplotlib.axes._subplots.AxesSubplot at 0x7fe96069b8d0>"
            ]
          },
          "metadata": {
            "tags": []
          },
          "execution_count": 13
        },
        {
          "output_type": "display_data",
          "data": {
            "image/png": "[encoded data removed]",
            "text/plain": [
              "<Figure size 432x288 with 1 Axes>"
            ]
          },
          "metadata": {
            "tags": []
          }
        }
      ]
    },
    {
      "cell_type": "markdown",
      "metadata": {
        "id": "L7XE6CSrXNuh",
        "colab_type": "text"
      },
      "source": [
        "MUito bom! Nós construímos nossa coluna lucro na base de dados e plotamos o orçamento contra lucro.\n",
        "\n",
        "Repare que temos pontos interessantes nesta visualização, um deles são esses filmes com muito custo e prejuizo. Isso pode ser um prejuizo real, mas também podem ser filmes que ainda não tiveram tempo de recuperar o investimento (lançamentos recentes na época que a base de dados foi extraida). Outros pontos interessantes de se anlisar seriam os filmes com baixos orçamentos e muito lucro, será que são estão corretos ou pode ser algum erro da base? Parece que nem sempre gastar uma tonelada de dinheiro vai gerar lucros absurdos, será que é isso é verdade? \n",
        "\n",
        "Esse gráfico é muito rico em informações, vale a pena você gastar um tempo criando hipóteses.\n",
        "\n",
        "Já que essa nova feature (lucro) parace ser interessante de se analisar, vamos continuar! Mas agora quero ver o lucro em relação ao ano de produção:"
      ]
    },
    {
      "cell_type": "code",
      "metadata": {
        "id": "npTl7bEIWx7E",
        "colab_type": "code",
        "colab": {
          "base_uri": "https://localhost:8080/",
          "height": 308
        },
        "outputId": "b7e5eae3-d982-4153-e688-670364914d6b"
      },
      "source": [
        "year_lucro = imdb_usa.query(\"budget > 0 | gross > 0\")[[\"title_year\", \"lucro\"]].dropna()\n",
        "\n",
        "sns.scatterplot(x=\"title_year\", y=\"lucro\", data = year_lucro)"
      ],
      "execution_count": 14,
      "outputs": [
        {
          "output_type": "execute_result",
          "data": {
            "text/plain": [
              "<matplotlib.axes._subplots.AxesSubplot at 0x7fe960504240>"
            ]
          },
          "metadata": {
            "tags": []
          },
          "execution_count": 14
        },
        {
          "output_type": "display_data",
          "data": {
            "image/png": "[encoded data removed]",
            "text/plain": [
              "<Figure size 432x288 with 1 Axes>"
            ]
          },
          "metadata": {
            "tags": []
          }
        }
      ]
    },
    {
      "cell_type": "markdown",
      "metadata": {
        "id": "S5C4DSh0ZsnL",
        "colab_type": "text"
      },
      "source": [
        "Veja como alguns pontos mais recentes reforçam a teoria de que alguns filmes podem ainda não ter recuperado o dinheiro investido (Claro que temos muitas variáveis para se analisar, mas é um indício relevante).\n",
        "\n",
        "Outro ponto que chama muito atenção, são os filmes da década de 30 e 40 com lucros tão altos. Quais serão esses filmes? Bom, essa pergunta você vai responder em um desafio!\n",
        "\n",
        "Durante as aulas, foi sugerido uma análise com os nome dos diretores e o orçamento de seus filmes, vamos ver se conseguimos concluir alguma coisa:"
      ]
    },
    {
      "cell_type": "code",
      "metadata": {
        "id": "t-N128uFZtLF",
        "colab_type": "code",
        "colab": {
          "base_uri": "https://localhost:8080/",
          "height": 195
        },
        "outputId": "36b664a9-6f8d-460a-a8ad-038c330c28ca"
      },
      "source": [
        "filmes_por_diretor = imdb_usa[\"director_name\"].value_counts()\n",
        "gross_director = imdb_usa[[\"director_name\", \"gross\"]].set_index(\"director_name\").join(filmes_por_diretor, on=\"director_name\")\n",
        "gross_director.columns=[\"dindin\", \"filmes_irmaos\"]\n",
        "gross_director = gross_director.reset_index()\n",
        "gross_director.head()"
      ],
      "execution_count": 15,
      "outputs": [
        {
          "output_type": "execute_result",
          "data": {
            "text/html": [
              "<div>\n",
              "<style scoped>\n",
              "    .dataframe tbody tr th:only-of-type {\n",
              "        vertical-align: middle;\n",
              "    }\n",
              "\n",
              "    .dataframe tbody tr th {\n",
              "        vertical-align: top;\n",
              "    }\n",
              "\n",
              "    .dataframe thead th {\n",
              "        text-align: right;\n",
              "    }\n",
              "</style>\n",
              "<table border=\"1\" class=\"dataframe\">\n",
              "  <thead>\n",
              "    <tr style=\"text-align: right;\">\n",
              "      <th></th>\n",
              "      <th>director_name</th>\n",
              "      <th>dindin</th>\n",
              "      <th>filmes_irmaos</th>\n",
              "    </tr>\n",
              "  </thead>\n",
              "  <tbody>\n",
              "    <tr>\n",
              "      <th>0</th>\n",
              "      <td>James Cameron</td>\n",
              "      <td>760505847.0</td>\n",
              "      <td>6.0</td>\n",
              "    </tr>\n",
              "    <tr>\n",
              "      <th>1</th>\n",
              "      <td>Gore Verbinski</td>\n",
              "      <td>309404152.0</td>\n",
              "      <td>7.0</td>\n",
              "    </tr>\n",
              "    <tr>\n",
              "      <th>2</th>\n",
              "      <td>Christopher Nolan</td>\n",
              "      <td>448130642.0</td>\n",
              "      <td>8.0</td>\n",
              "    </tr>\n",
              "    <tr>\n",
              "      <th>3</th>\n",
              "      <td>Andrew Stanton</td>\n",
              "      <td>73058679.0</td>\n",
              "      <td>3.0</td>\n",
              "    </tr>\n",
              "    <tr>\n",
              "      <th>4</th>\n",
              "      <td>Sam Raimi</td>\n",
              "      <td>336530303.0</td>\n",
              "      <td>9.0</td>\n",
              "    </tr>\n",
              "  </tbody>\n",
              "</table>\n",
              "</div>"
            ],
            "text/plain": [
              "       director_name       dindin  filmes_irmaos\n",
              "0      James Cameron  760505847.0            6.0\n",
              "1     Gore Verbinski  309404152.0            7.0\n",
              "2  Christopher Nolan  448130642.0            8.0\n",
              "3     Andrew Stanton   73058679.0            3.0\n",
              "4          Sam Raimi  336530303.0            9.0"
            ]
          },
          "metadata": {
            "tags": []
          },
          "execution_count": 15
        }
      ]
    },
    {
      "cell_type": "code",
      "metadata": {
        "id": "Hi5QX2ZeZuGq",
        "colab_type": "code",
        "colab": {
          "base_uri": "https://localhost:8080/",
          "height": 308
        },
        "outputId": "6d51a88e-3ac8-4ea6-bc7f-0d558e53d186"
      },
      "source": [
        "sns.scatterplot(x=\"filmes_irmaos\", y=\"dindin\", data = gross_director)"
      ],
      "execution_count": 16,
      "outputs": [
        {
          "output_type": "execute_result",
          "data": {
            "text/plain": [
              "<matplotlib.axes._subplots.AxesSubplot at 0x7fe96046bb00>"
            ]
          },
          "metadata": {
            "tags": []
          },
          "execution_count": 16
        },
        {
          "output_type": "display_data",
          "data": {
            "image/png": "[encoded data removed]",
            "text/plain": [
              "<Figure size 432x288 with 1 Axes>"
            ]
          },
          "metadata": {
            "tags": []
          }
        }
      ]
    },
    {
      "cell_type": "markdown",
      "metadata": {
        "id": "W6ciC13mZtcq",
        "colab_type": "text"
      },
      "source": [
        "Essa imagem aparentemente não é muito conclusiva, então não conseguimos inferir tantas informações.\n",
        "\n",
        "Esse processo de gerar dados, visualizações e acabar não sendo conclusivo é muito comum na vida de um cientista de dados, é bom se acostumar =D.\n",
        "\n",
        "Para finalizar, que tal realizar uma análise das correlações dos dados? EXistem várias formas de calcular a correlação, esse é um assunto denso. Você pode ler mais sobre essas métricas neste [link](https://pt.wikipedia.org/wiki/Correla%C3%A7%C3%A3o).\n",
        "\n",
        "Vamos então inciar a análise das correlações plotando o pairplot."
      ]
    },
    {
      "cell_type": "code",
      "metadata": {
        "id": "ODNrTANyZNd4",
        "colab_type": "code",
        "colab": {
          "base_uri": "https://localhost:8080/",
          "height": 775
        },
        "outputId": "6e4a08e2-d26c-4594-c728-8ddeda6e4540"
      },
      "source": [
        "sns.pairplot(data = imdb_usa[[\"gross\", \"budget\", \"lucro\", \"title_year\"]], kind='reg', markers='.')"
      ],
      "execution_count": 20,
      "outputs": [
        {
          "output_type": "execute_result",
          "data": {
            "text/plain": [
              "<seaborn.axisgrid.PairGrid at 0x7fe95b0575c0>"
            ]
          },
          "metadata": {
            "tags": []
          },
          "execution_count": 20
        },
        {
          "output_type": "display_data",
          "data": {
            "image/png": "[encoded data removed]",
            "text/plain": [
              "<Figure size 720x720 with 20 Axes>"
            ]
          },
          "metadata": {
            "tags": []
          }
        }
      ]
    },
    {
      "cell_type": "markdown",
      "metadata": {
        "id": "cG-xJiA1ZuoX",
        "colab_type": "text"
      },
      "source": [
        "Embora plotamos um monte de informação, não necessariamente reduzimos a correlação em um número para simplificar a análise. Vamos fazer isso com a ajuda do `.corr()` do [pandas](https://pandas.pydata.org/pandas-docs/stable/reference/api/pandas.DataFrame.corr.html). "
      ]
    },
    {
      "cell_type": "code",
      "metadata": {
        "id": "ecp4nTfLdfRz",
        "colab_type": "code",
        "colab": {
          "base_uri": "https://localhost:8080/",
          "height": 166
        },
        "outputId": "55081cc2-ad1e-495c-8905-89b88eda8e75"
      },
      "source": [
        "imdb_usa[[\"gross\", \"budget\", \"lucro\", \"title_year\"]].corr()"
      ],
      "execution_count": null,
      "outputs": [
        {
          "output_type": "execute_result",
          "data": {
            "text/html": [
              "<div>\n",
              "<style scoped>\n",
              "    .dataframe tbody tr th:only-of-type {\n",
              "        vertical-align: middle;\n",
              "    }\n",
              "\n",
              "    .dataframe tbody tr th {\n",
              "        vertical-align: top;\n",
              "    }\n",
              "\n",
              "    .dataframe thead th {\n",
              "        text-align: right;\n",
              "    }\n",
              "</style>\n",
              "<table border=\"1\" class=\"dataframe\">\n",
              "  <thead>\n",
              "    <tr style=\"text-align: right;\">\n",
              "      <th></th>\n",
              "      <th>gross</th>\n",
              "      <th>budget</th>\n",
              "      <th>lucro</th>\n",
              "      <th>title_year</th>\n",
              "    </tr>\n",
              "  </thead>\n",
              "  <tbody>\n",
              "    <tr>\n",
              "      <th>gross</th>\n",
              "      <td>1.000000</td>\n",
              "      <td>0.643548</td>\n",
              "      <td>0.800956</td>\n",
              "      <td>0.029693</td>\n",
              "    </tr>\n",
              "    <tr>\n",
              "      <th>budget</th>\n",
              "      <td>0.643548</td>\n",
              "      <td>1.000000</td>\n",
              "      <td>0.057187</td>\n",
              "      <td>0.222474</td>\n",
              "    </tr>\n",
              "    <tr>\n",
              "      <th>lucro</th>\n",
              "      <td>0.800956</td>\n",
              "      <td>0.057187</td>\n",
              "      <td>1.000000</td>\n",
              "      <td>-0.122240</td>\n",
              "    </tr>\n",
              "    <tr>\n",
              "      <th>title_year</th>\n",
              "      <td>0.029693</td>\n",
              "      <td>0.222474</td>\n",
              "      <td>-0.122240</td>\n",
              "      <td>1.000000</td>\n",
              "    </tr>\n",
              "  </tbody>\n",
              "</table>\n",
              "</div>"
            ],
            "text/plain": [
              "               gross    budget     lucro  title_year\n",
              "gross       1.000000  0.643548  0.800956    0.029693\n",
              "budget      0.643548  1.000000  0.057187    0.222474\n",
              "lucro       0.800956  0.057187  1.000000   -0.122240\n",
              "title_year  0.029693  0.222474 -0.122240    1.000000"
            ]
          },
          "metadata": {
            "tags": []
          },
          "execution_count": 168
        }
      ]
    },
    {
      "cell_type": "markdown",
      "metadata": {
        "id": "DJN3Hp6SfFdR",
        "colab_type": "text"
      },
      "source": [
        "Com o pandas é simples de se calcular a correlação, mas precisamos saber interpretar os resultados. Vamos fazer isso?\n",
        "\n",
        "A correlação é uma métrica que vai de -1 a 1. Quando a correlação é 1, dizemos que é totalmente correlacionada (relação linear perfeita e positiva), ou seja se uma variável aumenta em 10 a outra também irá aumentar em 10. Quando o valor da correlação é -1, também temos variáveis totalmente correlaciondas, só que de maneira inversamente proporcional (relação linear perfeita negativa), neste caso, se uma variável aumenta em 10 a outra reduz em 10. Agora quando a correlação é 0 temos a inexistência de correlação, ou seja, uma variável não tem influêcia sobre a outra. \n",
        "\n",
        "Agora sim, entendido sobre a correlação vamos analisar as nossas. Veja que lucro e gross tem uma correlação alta, o que indica que quanto maior o orçamento maior o lucro (mas repare que a correlação não é perfeita), já o title_year e lucro tem correlação negativa, mas muito perto de zero (ou seja quase não tem correlação). Viu como conseguimos analisar muitas coisas com a correlação? Pense e tente analisar os outros casos também.\n",
        "\n",
        "Com isso chegamos ao final de mais uma aula da #quarentenadados. E aí, o que está achando, cada vez mais legal e ao mesmo tempo mais complexo né?\n",
        "\n",
        "O que importa é estar iniciando e entendendo o que fazemos para analisar os dados! **Continue até o fim, garanto que vai valer a pena.**\n",
        "Vamos praticar?\n",
        "\n",
        "Até a próxima aula!"
      ]
    },
    {
      "cell_type": "markdown",
      "metadata": {
        "id": "ureMvL0_p_7i",
        "colab_type": "text"
      },
      "source": [
        "## Desafio 1 do [Thiago Gonçalves](https://twitter.com/tgcsantos)\n",
        "\n",
        "Plotar e analisar o Boxplot da média (coluna imbd_score) dos filmes em preto e branco e coloridos."
      ]
    },
    {
      "cell_type": "code",
      "metadata": {
        "id": "ab7O6RTBaiLF",
        "colab_type": "code",
        "colab": {
          "base_uri": "https://localhost:8080/",
          "height": 279
        },
        "outputId": "f9c2bd68-d18d-4f98-ebca-3fc98b42b789"
      },
      "source": [
        "sns.boxplot(x=\"color\", y=\"imdb_score\", data=imdb);"
      ],
      "execution_count": null,
      "outputs": [
        {
          "output_type": "display_data",
          "data": {
            "image/png": "[encoded data removed]",
            "text/plain": [
              "<Figure size 432x288 with 1 Axes>"
            ]
          },
          "metadata": {
            "tags": []
          }
        }
      ]
    },
    {
      "cell_type": "markdown",
      "metadata": {
        "id": "zHGhBwyVplir",
        "colab_type": "text"
      },
      "source": [
        "##Desafio 2 do [Guilherme Silveira](https://twitter.com/guilhermecaelum)\n",
        "\n",
        "No gráfico de **budget por lucro** temos um ponto com muito custo e prejuizo, descubra com é esse filme (budget próximo de 2.5)."
      ]
    },
    {
      "cell_type": "code",
      "metadata": {
        "id": "wC3P_oHLajBB",
        "colab_type": "code",
        "colab": {
          "base_uri": "https://localhost:8080/",
          "height": 50
        },
        "outputId": "80b3abe2-2855-4e27-958d-fa270593457d"
      },
      "source": [
        "budget_filme_prejuizo = budget_lucro[budget_lucro['lucro'] == budget_lucro['lucro'].min()]['budget']\n",
        "imdb.query(f\"budget == {budget_filme_prejuizo.values}\")['movie_title']"
      ],
      "execution_count": null,
      "outputs": [
        {
          "output_type": "execute_result",
          "data": {
            "text/plain": [
              "5    John Carter \n",
              "Name: movie_title, dtype: object"
            ]
          },
          "metadata": {
            "tags": []
          },
          "execution_count": 170
        }
      ]
    },
    {
      "cell_type": "markdown",
      "metadata": {
        "id": "gUgeTCjkrgv4",
        "colab_type": "text"
      },
      "source": [
        "##Desafio 3 do [Guilherme Silveira](https://twitter.com/guilhermecaelum)\n",
        "\n",
        "\n",
        "Em aula falamos que talvez, filmes mais recentes podem ter prejuizo pois ainda não tiveram tempo de recuperar o investimento. Analise essas informações e nos conte quais foram suas conclusões."
      ]
    },
    {
      "cell_type": "code",
      "metadata": {
        "id": "jt3AxHCv4TCO",
        "colab_type": "code",
        "colab": {
          "base_uri": "https://localhost:8080/",
          "height": 639
        },
        "outputId": "ae99059f-0cd4-43cf-ea8a-025ad7d1d6a4"
      },
      "source": [
        "year_lucro = imdb_usa.sort_values('title_year', ascending=False, )[['movie_title', 'title_year', 'budget', 'gross', 'lucro']]\n",
        "year_lucro.dropna().head(40)"
      ],
      "execution_count": null,
      "outputs": [
        {
          "output_type": "execute_result",
          "data": {
            "text/html": [
              "<div>\n",
              "<style scoped>\n",
              "    .dataframe tbody tr th:only-of-type {\n",
              "        vertical-align: middle;\n",
              "    }\n",
              "\n",
              "    .dataframe tbody tr th {\n",
              "        vertical-align: top;\n",
              "    }\n",
              "\n",
              "    .dataframe thead th {\n",
              "        text-align: right;\n",
              "    }\n",
              "</style>\n",
              "<table border=\"1\" class=\"dataframe\">\n",
              "  <thead>\n",
              "    <tr style=\"text-align: right;\">\n",
              "      <th></th>\n",
              "      <th>movie_title</th>\n",
              "      <th>lucro</th>\n",
              "      <th>title_year</th>\n",
              "    </tr>\n",
              "  </thead>\n",
              "  <tbody>\n",
              "    <tr>\n",
              "      <th>2840</th>\n",
              "      <td>Miracles from Heaven</td>\n",
              "      <td>48693523.0</td>\n",
              "      <td>2016.0</td>\n",
              "    </tr>\n",
              "    <tr>\n",
              "      <th>2181</th>\n",
              "      <td>Bad Moms</td>\n",
              "      <td>35461307.0</td>\n",
              "      <td>2016.0</td>\n",
              "    </tr>\n",
              "    <tr>\n",
              "      <th>92</th>\n",
              "      <td>Independence Day: Resurgence</td>\n",
              "      <td>-62684455.0</td>\n",
              "      <td>2016.0</td>\n",
              "    </tr>\n",
              "    <tr>\n",
              "      <th>264</th>\n",
              "      <td>Allegiant</td>\n",
              "      <td>-43997807.0</td>\n",
              "      <td>2016.0</td>\n",
              "    </tr>\n",
              "    <tr>\n",
              "      <th>3753</th>\n",
              "      <td>Fifty Shades of Black</td>\n",
              "      <td>6675178.0</td>\n",
              "      <td>2016.0</td>\n",
              "    </tr>\n",
              "    <tr>\n",
              "      <th>1427</th>\n",
              "      <td>Neighbors 2: Sorority Rising</td>\n",
              "      <td>20291815.0</td>\n",
              "      <td>2016.0</td>\n",
              "    </tr>\n",
              "    <tr>\n",
              "      <th>3756</th>\n",
              "      <td>The Perfect Match</td>\n",
              "      <td>4658370.0</td>\n",
              "      <td>2016.0</td>\n",
              "    </tr>\n",
              "    <tr>\n",
              "      <th>942</th>\n",
              "      <td>Central Intelligence</td>\n",
              "      <td>76088877.0</td>\n",
              "      <td>2016.0</td>\n",
              "    </tr>\n",
              "    <tr>\n",
              "      <th>73</th>\n",
              "      <td>Suicide Squad</td>\n",
              "      <td>-13912817.0</td>\n",
              "      <td>2016.0</td>\n",
              "    </tr>\n",
              "    <tr>\n",
              "      <th>1196</th>\n",
              "      <td>The Conjuring 2</td>\n",
              "      <td>62310175.0</td>\n",
              "      <td>2016.0</td>\n",
              "    </tr>\n",
              "    <tr>\n",
              "      <th>1742</th>\n",
              "      <td>The Boss</td>\n",
              "      <td>34034755.0</td>\n",
              "      <td>2016.0</td>\n",
              "    </tr>\n",
              "    <tr>\n",
              "      <th>3199</th>\n",
              "      <td>The Forest</td>\n",
              "      <td>16583369.0</td>\n",
              "      <td>2016.0</td>\n",
              "    </tr>\n",
              "    <tr>\n",
              "      <th>65</th>\n",
              "      <td>X-Men: Apocalypse</td>\n",
              "      <td>-23014913.0</td>\n",
              "      <td>2016.0</td>\n",
              "    </tr>\n",
              "    <tr>\n",
              "      <th>63</th>\n",
              "      <td>The Legend of Tarzan</td>\n",
              "      <td>-55948241.0</td>\n",
              "      <td>2016.0</td>\n",
              "    </tr>\n",
              "    <tr>\n",
              "      <th>2848</th>\n",
              "      <td>The Shallows</td>\n",
              "      <td>37257433.0</td>\n",
              "      <td>2016.0</td>\n",
              "    </tr>\n",
              "    <tr>\n",
              "      <th>57</th>\n",
              "      <td>Star Trek Beyond</td>\n",
              "      <td>-54531374.0</td>\n",
              "      <td>2016.0</td>\n",
              "    </tr>\n",
              "    <tr>\n",
              "      <th>248</th>\n",
              "      <td>Teenage Mutant Ninja Turtles: Out of the Shadows</td>\n",
              "      <td>-53361326.0</td>\n",
              "      <td>2016.0</td>\n",
              "    </tr>\n",
              "    <tr>\n",
              "      <th>244</th>\n",
              "      <td>The Huntsman: Winter's War</td>\n",
              "      <td>-67047980.0</td>\n",
              "      <td>2016.0</td>\n",
              "    </tr>\n",
              "    <tr>\n",
              "      <th>567</th>\n",
              "      <td>The Angry Birds Movie</td>\n",
              "      <td>34225164.0</td>\n",
              "      <td>2016.0</td>\n",
              "    </tr>\n",
              "    <tr>\n",
              "      <th>1367</th>\n",
              "      <td>The 5th Wave</td>\n",
              "      <td>-3087018.0</td>\n",
              "      <td>2016.0</td>\n",
              "    </tr>\n",
              "  </tbody>\n",
              "</table>\n",
              "</div>"
            ],
            "text/plain": [
              "                                            movie_title       lucro  title_year\n",
              "2840                              Miracles from Heaven   48693523.0      2016.0\n",
              "2181                                          Bad Moms   35461307.0      2016.0\n",
              "92                        Independence Day: Resurgence  -62684455.0      2016.0\n",
              "264                                          Allegiant  -43997807.0      2016.0\n",
              "3753                             Fifty Shades of Black    6675178.0      2016.0\n",
              "1427                      Neighbors 2: Sorority Rising   20291815.0      2016.0\n",
              "3756                                 The Perfect Match    4658370.0      2016.0\n",
              "942                               Central Intelligence   76088877.0      2016.0\n",
              "73                                       Suicide Squad  -13912817.0      2016.0\n",
              "1196                                   The Conjuring 2   62310175.0      2016.0\n",
              "1742                                          The Boss   34034755.0      2016.0\n",
              "3199                                        The Forest   16583369.0      2016.0\n",
              "65                                   X-Men: Apocalypse  -23014913.0      2016.0\n",
              "63                                The Legend of Tarzan  -55948241.0      2016.0\n",
              "2848                                      The Shallows   37257433.0      2016.0\n",
              "57                                    Star Trek Beyond  -54531374.0      2016.0\n",
              "248   Teenage Mutant Ninja Turtles: Out of the Shadows  -53361326.0      2016.0\n",
              "244                         The Huntsman: Winter's War  -67047980.0      2016.0\n",
              "567                              The Angry Birds Movie   34225164.0      2016.0\n",
              "1367                                      The 5th Wave   -3087018.0      2016.0"
            ]
          },
          "metadata": {
            "tags": []
          },
          "execution_count": 173
        }
      ]
    },
    {
      "cell_type": "markdown",
      "metadata": {
        "id": "SDH4vjxZpwrM",
        "colab_type": "text"
      },
      "source": [
        "## Desafio 4 do [Paulo Silveira](https://twitter.com/paulo_caelum)\n",
        "\n",
        "Quais foram os filmes da decada pré 2° guerra que tiveram muito lucro."
      ]
    },
    {
      "cell_type": "code",
      "metadata": {
        "id": "ovUH7xi_aj3v",
        "colab_type": "code",
        "colab": {
          "base_uri": "https://localhost:8080/",
          "height": 106
        },
        "outputId": "3c1f30dd-7b62-4fba-fc1f-6a253dfe768e"
      },
      "source": [
        "imdb_usa.query(\"title_year < 1940\").sort_values(\"lucro\", ascending=False)[['movie_title', 'director_name', 'title_year', 'lucro']].head(2)"
      ],
      "execution_count": null,
      "outputs": [
        {
          "output_type": "execute_result",
          "data": {
            "text/html": [
              "<div>\n",
              "<style scoped>\n",
              "    .dataframe tbody tr th:only-of-type {\n",
              "        vertical-align: middle;\n",
              "    }\n",
              "\n",
              "    .dataframe tbody tr th {\n",
              "        vertical-align: top;\n",
              "    }\n",
              "\n",
              "    .dataframe thead th {\n",
              "        text-align: right;\n",
              "    }\n",
              "</style>\n",
              "<table border=\"1\" class=\"dataframe\">\n",
              "  <thead>\n",
              "    <tr style=\"text-align: right;\">\n",
              "      <th></th>\n",
              "      <th>movie_title</th>\n",
              "      <th>director_name</th>\n",
              "      <th>title_year</th>\n",
              "      <th>lucro</th>\n",
              "    </tr>\n",
              "  </thead>\n",
              "  <tbody>\n",
              "    <tr>\n",
              "      <th>3970</th>\n",
              "      <td>Gone with the Wind</td>\n",
              "      <td>Victor Fleming</td>\n",
              "      <td>1939.0</td>\n",
              "      <td>194678278.0</td>\n",
              "    </tr>\n",
              "    <tr>\n",
              "      <th>4449</th>\n",
              "      <td>Snow White and the Seven Dwarfs</td>\n",
              "      <td>William Cottrell</td>\n",
              "      <td>1937.0</td>\n",
              "      <td>182925485.0</td>\n",
              "    </tr>\n",
              "  </tbody>\n",
              "</table>\n",
              "</div>"
            ],
            "text/plain": [
              "                           movie_title  ...        lucro\n",
              "3970               Gone with the Wind   ...  194678278.0\n",
              "4449  Snow White and the Seven Dwarfs   ...  182925485.0\n",
              "\n",
              "[2 rows x 4 columns]"
            ]
          },
          "metadata": {
            "tags": []
          },
          "execution_count": 176
        }
      ]
    },
    {
      "cell_type": "markdown",
      "metadata": {
        "id": "2PcspSJBssTK",
        "colab_type": "text"
      },
      "source": [
        "## Desafio 5 do [Paulo Silveira](https://twitter.com/paulo_caelum)\n",
        "\n",
        "No gráfico de **filmes_irmaos por dindin** temos alguns pontos estranhos entre 15 e 20. Confirme a tese genial do Paulo que o cidadão estranho é o Woody Allen. (Se ele tiver errado pode cornete nas redes sociais kkkkk)"
      ]
    },
    {
      "cell_type": "code",
      "metadata": {
        "id": "6HMsgit6akQI",
        "colab_type": "code",
        "colab": {
          "base_uri": "https://localhost:8080/",
          "height": 77
        },
        "outputId": "791d53fa-8bdb-451d-fde1-78901bbd25d7"
      },
      "source": [
        "gross_director.drop_duplicates('director_name').query(\"filmes_irmaos == 18\")"
      ],
      "execution_count": null,
      "outputs": [
        {
          "output_type": "execute_result",
          "data": {
            "text/html": [
              "<div>\n",
              "<style scoped>\n",
              "    .dataframe tbody tr th:only-of-type {\n",
              "        vertical-align: middle;\n",
              "    }\n",
              "\n",
              "    .dataframe tbody tr th {\n",
              "        vertical-align: top;\n",
              "    }\n",
              "\n",
              "    .dataframe thead th {\n",
              "        text-align: right;\n",
              "    }\n",
              "</style>\n",
              "<table border=\"1\" class=\"dataframe\">\n",
              "  <thead>\n",
              "    <tr style=\"text-align: right;\">\n",
              "      <th></th>\n",
              "      <th>director_name</th>\n",
              "      <th>dindin</th>\n",
              "      <th>filmes_irmaos</th>\n",
              "    </tr>\n",
              "  </thead>\n",
              "  <tbody>\n",
              "    <tr>\n",
              "      <th>1536</th>\n",
              "      <td>Woody Allen</td>\n",
              "      <td>7496522.0</td>\n",
              "      <td>18.0</td>\n",
              "    </tr>\n",
              "  </tbody>\n",
              "</table>\n",
              "</div>"
            ],
            "text/plain": [
              "     director_name     dindin  filmes_irmaos\n",
              "1536   Woody Allen  7496522.0           18.0"
            ]
          },
          "metadata": {
            "tags": []
          },
          "execution_count": 180
        }
      ]
    },
    {
      "cell_type": "markdown",
      "metadata": {
        "id": "bPcDyS63tgG4",
        "colab_type": "text"
      },
      "source": [
        "## Desafio 6 do [Thiago Gonçalves](https://twitter.com/tgcsantos)\n",
        "\n",
        "Analise mais detalhadamente o gráfico pairplot, gaste um tempo pensando e tentando enteder os gráficos."
      ]
    },
    {
      "cell_type": "markdown",
      "metadata": {
        "id": "ly1Tn53KtvLy",
        "colab_type": "text"
      },
      "source": [
        "## Desafio 7 do [Thiago Gonçalves](https://twitter.com/tgcsantos)\n",
        "\n",
        "\n",
        "Calcular a correlação apenas dos filmes pós anos 2000 (Jogar fora filmes antes de 2000) e interpretar essa correlação."
      ]
    },
    {
      "cell_type": "code",
      "metadata": {
        "id": "tTgb9ErpalHc",
        "colab_type": "code",
        "colab": {
          "base_uri": "https://localhost:8080/",
          "height": 166
        },
        "outputId": "764c3829-26a1-44ca-bdc5-cc45ad6eb9df"
      },
      "source": [
        "filmes_pos_anos_2000 = imdb_usa.query('title_year >= 2000')[[\"gross\", \"budget\", \"lucro\", \"title_year\"]]\n",
        "filmes_pos_anos_2000.corr()"
      ],
      "execution_count": null,
      "outputs": [
        {
          "output_type": "execute_result",
          "data": {
            "text/html": [
              "<div>\n",
              "<style scoped>\n",
              "    .dataframe tbody tr th:only-of-type {\n",
              "        vertical-align: middle;\n",
              "    }\n",
              "\n",
              "    .dataframe tbody tr th {\n",
              "        vertical-align: top;\n",
              "    }\n",
              "\n",
              "    .dataframe thead th {\n",
              "        text-align: right;\n",
              "    }\n",
              "</style>\n",
              "<table border=\"1\" class=\"dataframe\">\n",
              "  <thead>\n",
              "    <tr style=\"text-align: right;\">\n",
              "      <th></th>\n",
              "      <th>gross</th>\n",
              "      <th>budget</th>\n",
              "      <th>lucro</th>\n",
              "      <th>title_year</th>\n",
              "    </tr>\n",
              "  </thead>\n",
              "  <tbody>\n",
              "    <tr>\n",
              "      <th>gross</th>\n",
              "      <td>1.000000</td>\n",
              "      <td>0.708283</td>\n",
              "      <td>0.774167</td>\n",
              "      <td>0.103558</td>\n",
              "    </tr>\n",
              "    <tr>\n",
              "      <th>budget</th>\n",
              "      <td>0.708283</td>\n",
              "      <td>1.000000</td>\n",
              "      <td>0.101490</td>\n",
              "      <td>0.049401</td>\n",
              "    </tr>\n",
              "    <tr>\n",
              "      <th>lucro</th>\n",
              "      <td>0.774167</td>\n",
              "      <td>0.101490</td>\n",
              "      <td>1.000000</td>\n",
              "      <td>0.039679</td>\n",
              "    </tr>\n",
              "    <tr>\n",
              "      <th>title_year</th>\n",
              "      <td>0.103558</td>\n",
              "      <td>0.049401</td>\n",
              "      <td>0.039679</td>\n",
              "      <td>1.000000</td>\n",
              "    </tr>\n",
              "  </tbody>\n",
              "</table>\n",
              "</div>"
            ],
            "text/plain": [
              "               gross    budget     lucro  title_year\n",
              "gross       1.000000  0.708283  0.774167    0.103558\n",
              "budget      0.708283  1.000000  0.101490    0.049401\n",
              "lucro       0.774167  0.101490  1.000000    0.039679\n",
              "title_year  0.103558  0.049401  0.039679    1.000000"
            ]
          },
          "metadata": {
            "tags": []
          },
          "execution_count": 184
        }
      ]
    },
    {
      "cell_type": "markdown",
      "metadata": {
        "id": "4DWyCjXmp0oE",
        "colab_type": "text"
      },
      "source": [
        "## Desafio 8 do [Allan Spadini](https://twitter.com/allanspadini)\n",
        "\n",
        "Tentar encontrar uma reta, pode ser com uma régua no monitor (não faça isso), com o excel/google sheets, com o python, no gráfico que parece se aproximar com uma reta (por exemplo budget/lucro, gross/lucro)"
      ]
    },
    {
      "cell_type": "markdown",
      "metadata": {
        "id": "F1vbpLIZp4y5",
        "colab_type": "text"
      },
      "source": [
        "## Desafio 9 da [Thais André](https://twitter.com/thais_tandre)\n",
        "\n",
        "Analisar e interpretar a correlação de outras variáveis além das feitas em sala (notas é uma boa). Número de avaliações por ano pode ser também uma feature.\n"
      ]
    }
  ]
}